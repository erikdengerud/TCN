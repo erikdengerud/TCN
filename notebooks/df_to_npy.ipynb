{
 "cells": [
  {
   "cell_type": "code",
   "execution_count": 1,
   "metadata": {},
   "outputs": [],
   "source": [
    "import pandas as pd\n",
    "import numpy as np\n",
    "from sklearn.preprocessing import MinMaxScaler\n",
    "import pickle"
   ]
  },
  {
   "cell_type": "code",
   "execution_count": 2,
   "metadata": {},
   "outputs": [],
   "source": [
    "df = pd.read_csv(\"C:\\\\Users\\\\eriko\\\\OneDrive - NTNU\\\\ntnu\\\\fag\\\\prosjekt\\\\TCN\\\\representations\\\\representation_matrices\\\\processed_companies.csv\", index_col=0)"
   ]
  },
  {
   "cell_type": "code",
   "execution_count": 3,
   "metadata": {},
   "outputs": [
    {
     "output_type": "execute_result",
     "data": {
      "text/plain": "            R.R. Donnelley & Sons Co.  Digitree Group SA  \\\n2007-03-31                     2792.0                NaN   \n2007-06-30                     2796.0                NaN   \n2007-09-30                     2910.0                NaN   \n2007-12-31                     3088.0                NaN   \n2008-03-31                     2997.0                NaN   \n\n            Advantex Marketing International, Inc.  Faith, Inc.  Aimia, Inc.  \\\n2007-03-31                                    23.0          NaN         49.0   \n2007-06-30                                   -55.0          NaN        220.0   \n2007-09-30                                     2.0          NaN        219.0   \n2007-12-31                                     3.0          NaN        221.0   \n2008-03-31                                     2.0          NaN        356.0   \n\n            Data Communications Management Corp.  Points International Ltd.  \\\n2007-03-31                                 103.0                        4.0   \n2007-06-30                                  97.0                        4.0   \n2007-09-30                                  90.0                        7.0   \n2007-12-31                                 107.0                       14.0   \n2008-03-31                                 101.0                       16.0   \n\n            Alliance Data Systems Corp.  \\\n2007-03-31                        549.0   \n2007-06-30                        563.0   \n2007-09-30                        575.0   \n2007-12-31                        602.0   \n2008-03-31                        499.0   \n\n            Pubang Landscape Architecture Co., Ltd.  Alphabet, Inc.  ...  \\\n2007-03-31                                      NaN          3663.0  ...   \n2007-06-30                                      NaN          3871.0  ...   \n2007-09-30                                      NaN          4231.0  ...   \n2007-12-31                                      NaN          4826.0  ...   \n2008-03-31                                      NaN          5186.0  ...   \n\n            California Water Service Group  Cadiz, Inc.  Middlesex Water Co.  \\\n2007-03-31                            71.0          0.0                 18.0   \n2007-06-30                            95.0          0.0                 21.0   \n2007-09-30                           113.0          0.0                 24.0   \n2007-12-31                            85.0          0.0                 21.0   \n2008-03-31                            72.0          0.0                 20.0   \n\n            Connecticut Water Service, Inc.  SJW Group  \\\n2007-03-31                             13.0       39.0   \n2007-06-30                             14.0       55.0   \n2007-09-30                             16.0       64.0   \n2007-12-31                             14.0       47.0   \n2008-03-31                             13.0       41.0   \n\n            Essential Utilities, Inc.  Just Energy Group, Inc.  \\\n2007-03-31                      137.0                      NaN   \n2007-06-30                      150.0                      NaN   \n2007-09-30                      165.0                      NaN   \n2007-12-31                      149.0                      NaN   \n2008-03-31                      139.0                      NaN   \n\n            Avangrid, Inc.  Pattern Energy Group, Inc.  \\\n2007-03-31           274.0                         NaN   \n2007-06-30           216.0                         NaN   \n2007-09-30           267.0                         NaN   \n2007-12-31           222.0                         NaN   \n2008-03-31           234.0                         NaN   \n\n            Solar Alliance Energy, Inc.  \n2007-03-31                          NaN  \n2007-06-30                          NaN  \n2007-09-30                          NaN  \n2007-12-31                          NaN  \n2008-03-31                          NaN  \n\n[5 rows x 15229 columns]",
      "text/html": "<div>\n<style scoped>\n    .dataframe tbody tr th:only-of-type {\n        vertical-align: middle;\n    }\n\n    .dataframe tbody tr th {\n        vertical-align: top;\n    }\n\n    .dataframe thead th {\n        text-align: right;\n    }\n</style>\n<table border=\"1\" class=\"dataframe\">\n  <thead>\n    <tr style=\"text-align: right;\">\n      <th></th>\n      <th>R.R. Donnelley &amp; Sons Co.</th>\n      <th>Digitree Group SA</th>\n      <th>Advantex Marketing International, Inc.</th>\n      <th>Faith, Inc.</th>\n      <th>Aimia, Inc.</th>\n      <th>Data Communications Management Corp.</th>\n      <th>Points International Ltd.</th>\n      <th>Alliance Data Systems Corp.</th>\n      <th>Pubang Landscape Architecture Co., Ltd.</th>\n      <th>Alphabet, Inc.</th>\n      <th>...</th>\n      <th>California Water Service Group</th>\n      <th>Cadiz, Inc.</th>\n      <th>Middlesex Water Co.</th>\n      <th>Connecticut Water Service, Inc.</th>\n      <th>SJW Group</th>\n      <th>Essential Utilities, Inc.</th>\n      <th>Just Energy Group, Inc.</th>\n      <th>Avangrid, Inc.</th>\n      <th>Pattern Energy Group, Inc.</th>\n      <th>Solar Alliance Energy, Inc.</th>\n    </tr>\n  </thead>\n  <tbody>\n    <tr>\n      <th>2007-03-31</th>\n      <td>2792.0</td>\n      <td>NaN</td>\n      <td>23.0</td>\n      <td>NaN</td>\n      <td>49.0</td>\n      <td>103.0</td>\n      <td>4.0</td>\n      <td>549.0</td>\n      <td>NaN</td>\n      <td>3663.0</td>\n      <td>...</td>\n      <td>71.0</td>\n      <td>0.0</td>\n      <td>18.0</td>\n      <td>13.0</td>\n      <td>39.0</td>\n      <td>137.0</td>\n      <td>NaN</td>\n      <td>274.0</td>\n      <td>NaN</td>\n      <td>NaN</td>\n    </tr>\n    <tr>\n      <th>2007-06-30</th>\n      <td>2796.0</td>\n      <td>NaN</td>\n      <td>-55.0</td>\n      <td>NaN</td>\n      <td>220.0</td>\n      <td>97.0</td>\n      <td>4.0</td>\n      <td>563.0</td>\n      <td>NaN</td>\n      <td>3871.0</td>\n      <td>...</td>\n      <td>95.0</td>\n      <td>0.0</td>\n      <td>21.0</td>\n      <td>14.0</td>\n      <td>55.0</td>\n      <td>150.0</td>\n      <td>NaN</td>\n      <td>216.0</td>\n      <td>NaN</td>\n      <td>NaN</td>\n    </tr>\n    <tr>\n      <th>2007-09-30</th>\n      <td>2910.0</td>\n      <td>NaN</td>\n      <td>2.0</td>\n      <td>NaN</td>\n      <td>219.0</td>\n      <td>90.0</td>\n      <td>7.0</td>\n      <td>575.0</td>\n      <td>NaN</td>\n      <td>4231.0</td>\n      <td>...</td>\n      <td>113.0</td>\n      <td>0.0</td>\n      <td>24.0</td>\n      <td>16.0</td>\n      <td>64.0</td>\n      <td>165.0</td>\n      <td>NaN</td>\n      <td>267.0</td>\n      <td>NaN</td>\n      <td>NaN</td>\n    </tr>\n    <tr>\n      <th>2007-12-31</th>\n      <td>3088.0</td>\n      <td>NaN</td>\n      <td>3.0</td>\n      <td>NaN</td>\n      <td>221.0</td>\n      <td>107.0</td>\n      <td>14.0</td>\n      <td>602.0</td>\n      <td>NaN</td>\n      <td>4826.0</td>\n      <td>...</td>\n      <td>85.0</td>\n      <td>0.0</td>\n      <td>21.0</td>\n      <td>14.0</td>\n      <td>47.0</td>\n      <td>149.0</td>\n      <td>NaN</td>\n      <td>222.0</td>\n      <td>NaN</td>\n      <td>NaN</td>\n    </tr>\n    <tr>\n      <th>2008-03-31</th>\n      <td>2997.0</td>\n      <td>NaN</td>\n      <td>2.0</td>\n      <td>NaN</td>\n      <td>356.0</td>\n      <td>101.0</td>\n      <td>16.0</td>\n      <td>499.0</td>\n      <td>NaN</td>\n      <td>5186.0</td>\n      <td>...</td>\n      <td>72.0</td>\n      <td>0.0</td>\n      <td>20.0</td>\n      <td>13.0</td>\n      <td>41.0</td>\n      <td>139.0</td>\n      <td>NaN</td>\n      <td>234.0</td>\n      <td>NaN</td>\n      <td>NaN</td>\n    </tr>\n  </tbody>\n</table>\n<p>5 rows × 15229 columns</p>\n</div>"
     },
     "metadata": {},
     "execution_count": 3
    }
   ],
   "source": [
    "df.head()"
   ]
  },
  {
   "cell_type": "code",
   "execution_count": 4,
   "metadata": {},
   "outputs": [],
   "source": [
    "comp_id = {i:c for i, c in enumerate(df.columns)}\n",
    "with open(\"C:\\\\Users\\\\eriko\\\\OneDrive - NTNU\\\\ntnu\\\\fag\\\\prosjekt\\\\TCN\\\\representations\\\\representation_matrices\\\\id_company.pickle\", \"wb\") as handle:\n",
    "    pickle.dump(comp_id, handle)"
   ]
  },
  {
   "cell_type": "code",
   "execution_count": 5,
   "metadata": {},
   "outputs": [],
   "source": [
    "electricity_raw = np.load(\"C:\\\\Users\\\\eriko\\\\OneDrive - NTNU\\\\ntnu\\\\fag\\\\prosjekt\\\\TCN\\\\representations\\\\representation_matrices\\\\electricity_raw.npy\")\n"
   ]
  },
  {
   "cell_type": "markdown",
   "metadata": {},
   "source": [
    "# Fix only cluster on training data"
   ]
  },
  {
   "cell_type": "code",
   "execution_count": 6,
   "metadata": {},
   "outputs": [
    {
     "output_type": "execute_result",
     "data": {
      "text/plain": "            R.R. Donnelley & Sons Co.  Digitree Group SA  \\\n2018-12-31                     1763.0               14.0   \n2019-03-31                     1521.0               13.0   \n2019-06-30                     1508.0               14.0   \n2019-09-30                     1619.0               13.0   \n2019-12-31                     1626.0                NaN   \n\n            Advantex Marketing International, Inc.  Faith, Inc.  Aimia, Inc.  \\\n2018-12-31                                     1.0       5195.0       -987.0   \n2019-03-31                                     1.0       5169.0         34.0   \n2019-06-30                                     NaN       4570.0         31.0   \n2019-09-30                                     NaN       5614.0         33.0   \n2019-12-31                                     NaN       5042.0         35.0   \n\n            Data Communications Management Corp.  Points International Ltd.  \\\n2018-12-31                                  81.0                       94.0   \n2019-03-31                                  78.0                       95.0   \n2019-06-30                                  69.0                      100.0   \n2019-09-30                                  63.0                       97.0   \n2019-12-31                                   NaN                        NaN   \n\n            Alliance Data Systems Corp.  \\\n2018-12-31                       2055.0   \n2019-03-31                       1334.0   \n2019-06-30                       1348.0   \n2019-09-30                       1437.0   \n2019-12-31                       1461.0   \n\n            Pubang Landscape Architecture Co., Ltd.  Alphabet, Inc.  ...  \\\n2018-12-31                                   1276.0         39276.0  ...   \n2019-03-31                                    526.0         36339.0  ...   \n2019-06-30                                    804.0         38944.0  ...   \n2019-09-30                                    793.0         40499.0  ...   \n2019-12-31                                      NaN         46075.0  ...   \n\n            California Water Service Group  Cadiz, Inc.  Middlesex Water Co.  \\\n2018-12-31                           174.0          0.0                 33.0   \n2019-03-31                           126.0          0.0                 30.0   \n2019-06-30                           179.0          0.0                 33.0   \n2019-09-30                           232.0          0.0                 37.0   \n2019-12-31                           176.0          NaN                 32.0   \n\n            Connecticut Water Service, Inc.  SJW Group  \\\n2018-12-31                             25.0       98.0   \n2019-03-31                             26.0       77.0   \n2019-06-30                             30.0      102.0   \n2019-09-30                              NaN      113.0   \n2019-12-31                              NaN      125.0   \n\n            Essential Utilities, Inc.  Just Energy Group, Inc.  \\\n2018-12-31                      205.0                    966.0   \n2019-03-31                      201.0                   1012.0   \n2019-06-30                      218.0                    670.0   \n2019-09-30                      243.0                    768.0   \n2019-12-31                      226.0                    658.0   \n\n            Avangrid, Inc.  Pattern Energy Group, Inc.  \\\n2018-12-31          1665.0                       113.0   \n2019-03-31          1842.0                       135.0   \n2019-06-30          1400.0                       140.0   \n2019-09-30          1487.0                       119.0   \n2019-12-31          1609.0                       147.0   \n\n            Solar Alliance Energy, Inc.  \n2018-12-31                          0.0  \n2019-03-31                          0.0  \n2019-06-30                          0.0  \n2019-09-30                          0.0  \n2019-12-31                          NaN  \n\n[5 rows x 15229 columns]",
      "text/html": "<div>\n<style scoped>\n    .dataframe tbody tr th:only-of-type {\n        vertical-align: middle;\n    }\n\n    .dataframe tbody tr th {\n        vertical-align: top;\n    }\n\n    .dataframe thead th {\n        text-align: right;\n    }\n</style>\n<table border=\"1\" class=\"dataframe\">\n  <thead>\n    <tr style=\"text-align: right;\">\n      <th></th>\n      <th>R.R. Donnelley &amp; Sons Co.</th>\n      <th>Digitree Group SA</th>\n      <th>Advantex Marketing International, Inc.</th>\n      <th>Faith, Inc.</th>\n      <th>Aimia, Inc.</th>\n      <th>Data Communications Management Corp.</th>\n      <th>Points International Ltd.</th>\n      <th>Alliance Data Systems Corp.</th>\n      <th>Pubang Landscape Architecture Co., Ltd.</th>\n      <th>Alphabet, Inc.</th>\n      <th>...</th>\n      <th>California Water Service Group</th>\n      <th>Cadiz, Inc.</th>\n      <th>Middlesex Water Co.</th>\n      <th>Connecticut Water Service, Inc.</th>\n      <th>SJW Group</th>\n      <th>Essential Utilities, Inc.</th>\n      <th>Just Energy Group, Inc.</th>\n      <th>Avangrid, Inc.</th>\n      <th>Pattern Energy Group, Inc.</th>\n      <th>Solar Alliance Energy, Inc.</th>\n    </tr>\n  </thead>\n  <tbody>\n    <tr>\n      <th>2018-12-31</th>\n      <td>1763.0</td>\n      <td>14.0</td>\n      <td>1.0</td>\n      <td>5195.0</td>\n      <td>-987.0</td>\n      <td>81.0</td>\n      <td>94.0</td>\n      <td>2055.0</td>\n      <td>1276.0</td>\n      <td>39276.0</td>\n      <td>...</td>\n      <td>174.0</td>\n      <td>0.0</td>\n      <td>33.0</td>\n      <td>25.0</td>\n      <td>98.0</td>\n      <td>205.0</td>\n      <td>966.0</td>\n      <td>1665.0</td>\n      <td>113.0</td>\n      <td>0.0</td>\n    </tr>\n    <tr>\n      <th>2019-03-31</th>\n      <td>1521.0</td>\n      <td>13.0</td>\n      <td>1.0</td>\n      <td>5169.0</td>\n      <td>34.0</td>\n      <td>78.0</td>\n      <td>95.0</td>\n      <td>1334.0</td>\n      <td>526.0</td>\n      <td>36339.0</td>\n      <td>...</td>\n      <td>126.0</td>\n      <td>0.0</td>\n      <td>30.0</td>\n      <td>26.0</td>\n      <td>77.0</td>\n      <td>201.0</td>\n      <td>1012.0</td>\n      <td>1842.0</td>\n      <td>135.0</td>\n      <td>0.0</td>\n    </tr>\n    <tr>\n      <th>2019-06-30</th>\n      <td>1508.0</td>\n      <td>14.0</td>\n      <td>NaN</td>\n      <td>4570.0</td>\n      <td>31.0</td>\n      <td>69.0</td>\n      <td>100.0</td>\n      <td>1348.0</td>\n      <td>804.0</td>\n      <td>38944.0</td>\n      <td>...</td>\n      <td>179.0</td>\n      <td>0.0</td>\n      <td>33.0</td>\n      <td>30.0</td>\n      <td>102.0</td>\n      <td>218.0</td>\n      <td>670.0</td>\n      <td>1400.0</td>\n      <td>140.0</td>\n      <td>0.0</td>\n    </tr>\n    <tr>\n      <th>2019-09-30</th>\n      <td>1619.0</td>\n      <td>13.0</td>\n      <td>NaN</td>\n      <td>5614.0</td>\n      <td>33.0</td>\n      <td>63.0</td>\n      <td>97.0</td>\n      <td>1437.0</td>\n      <td>793.0</td>\n      <td>40499.0</td>\n      <td>...</td>\n      <td>232.0</td>\n      <td>0.0</td>\n      <td>37.0</td>\n      <td>NaN</td>\n      <td>113.0</td>\n      <td>243.0</td>\n      <td>768.0</td>\n      <td>1487.0</td>\n      <td>119.0</td>\n      <td>0.0</td>\n    </tr>\n    <tr>\n      <th>2019-12-31</th>\n      <td>1626.0</td>\n      <td>NaN</td>\n      <td>NaN</td>\n      <td>5042.0</td>\n      <td>35.0</td>\n      <td>NaN</td>\n      <td>NaN</td>\n      <td>1461.0</td>\n      <td>NaN</td>\n      <td>46075.0</td>\n      <td>...</td>\n      <td>176.0</td>\n      <td>NaN</td>\n      <td>32.0</td>\n      <td>NaN</td>\n      <td>125.0</td>\n      <td>226.0</td>\n      <td>658.0</td>\n      <td>1609.0</td>\n      <td>147.0</td>\n      <td>NaN</td>\n    </tr>\n  </tbody>\n</table>\n<p>5 rows × 15229 columns</p>\n</div>"
     },
     "metadata": {},
     "execution_count": 6
    }
   ],
   "source": [
    "df.tail()"
   ]
  },
  {
   "cell_type": "code",
   "execution_count": 7,
   "metadata": {},
   "outputs": [],
   "source": [
    "df = df.iloc[:-9]"
   ]
  },
  {
   "cell_type": "code",
   "execution_count": 8,
   "metadata": {},
   "outputs": [
    {
     "output_type": "execute_result",
     "data": {
      "text/plain": "            R.R. Donnelley & Sons Co.  Digitree Group SA  \\\n2016-09-30                     2772.0               10.0   \n2016-12-31                    -1258.0               12.0   \n2017-03-31                     1676.0               10.0   \n2017-06-30                     1646.0               11.0   \n2017-09-30                     1734.0               10.0   \n\n            Advantex Marketing International, Inc.  Faith, Inc.  Aimia, Inc.  \\\n2016-09-30                                     2.0       5430.0        503.0   \n2016-12-31                                     2.0       5347.0        689.0   \n2017-03-31                                     1.0       5108.0        524.0   \n2017-06-30                                     2.0       5034.0        470.0   \n2017-09-30                                     2.0       5668.0        452.0   \n\n            Data Communications Management Corp.  Points International Ltd.  \\\n2016-09-30                                  65.0                       82.0   \n2016-12-31                                  68.0                       81.0   \n2017-03-31                                  70.0                       82.0   \n2017-06-30                                  73.0                       85.0   \n2017-09-30                                  70.0                       91.0   \n\n            Alliance Data Systems Corp.  \\\n2016-09-30                       1885.0   \n2016-12-31                       1827.0   \n2017-03-31                       1879.0   \n2017-06-30                       1821.0   \n2017-09-30                       1912.0   \n\n            Pubang Landscape Architecture Co., Ltd.  Alphabet, Inc.  ...  \\\n2016-09-30                                    767.0         22451.0  ...   \n2016-12-31                                    852.0         26064.0  ...   \n2017-03-31                                    600.0         24750.0  ...   \n2017-06-30                                    988.0         26010.0  ...   \n2017-09-30                                    840.0         27772.0  ...   \n\n            California Water Service Group  Cadiz, Inc.  Middlesex Water Co.  \\\n2016-09-30                           184.0          0.0                 37.0   \n2016-12-31                           150.0          0.0                 31.0   \n2017-03-31                           122.0          0.0                 30.0   \n2017-06-30                           171.0          0.0                 33.0   \n2017-09-30                           211.0          0.0                 36.0   \n\n            Connecticut Water Service, Inc.  SJW Group  \\\n2016-09-30                             29.0      112.0   \n2016-12-31                             21.0       79.0   \n2017-03-31                             22.0       69.0   \n2017-06-30                             27.0      102.0   \n2017-09-30                             31.0      124.0   \n\n            Essential Utilities, Inc.  Just Energy Group, Inc.  \\\n2016-09-30                      226.0                    992.0   \n2016-12-31                      196.0                    918.0   \n2017-03-31                      187.0                    947.0   \n2017-06-30                      203.0                    847.0   \n2017-09-30                      215.0                    851.0   \n\n            Avangrid, Inc.  Pattern Energy Group, Inc.  \\\n2016-09-30          1418.0                        91.0   \n2016-12-31          1491.0                        81.0   \n2017-03-31          1758.0                       100.0   \n2017-06-30          1331.0                       107.0   \n2017-09-30          1341.0                        92.0   \n\n            Solar Alliance Energy, Inc.  \n2016-09-30                          1.0  \n2016-12-31                          1.0  \n2017-03-31                          1.0  \n2017-06-30                          0.0  \n2017-09-30                          0.0  \n\n[5 rows x 15229 columns]",
      "text/html": "<div>\n<style scoped>\n    .dataframe tbody tr th:only-of-type {\n        vertical-align: middle;\n    }\n\n    .dataframe tbody tr th {\n        vertical-align: top;\n    }\n\n    .dataframe thead th {\n        text-align: right;\n    }\n</style>\n<table border=\"1\" class=\"dataframe\">\n  <thead>\n    <tr style=\"text-align: right;\">\n      <th></th>\n      <th>R.R. Donnelley &amp; Sons Co.</th>\n      <th>Digitree Group SA</th>\n      <th>Advantex Marketing International, Inc.</th>\n      <th>Faith, Inc.</th>\n      <th>Aimia, Inc.</th>\n      <th>Data Communications Management Corp.</th>\n      <th>Points International Ltd.</th>\n      <th>Alliance Data Systems Corp.</th>\n      <th>Pubang Landscape Architecture Co., Ltd.</th>\n      <th>Alphabet, Inc.</th>\n      <th>...</th>\n      <th>California Water Service Group</th>\n      <th>Cadiz, Inc.</th>\n      <th>Middlesex Water Co.</th>\n      <th>Connecticut Water Service, Inc.</th>\n      <th>SJW Group</th>\n      <th>Essential Utilities, Inc.</th>\n      <th>Just Energy Group, Inc.</th>\n      <th>Avangrid, Inc.</th>\n      <th>Pattern Energy Group, Inc.</th>\n      <th>Solar Alliance Energy, Inc.</th>\n    </tr>\n  </thead>\n  <tbody>\n    <tr>\n      <th>2016-09-30</th>\n      <td>2772.0</td>\n      <td>10.0</td>\n      <td>2.0</td>\n      <td>5430.0</td>\n      <td>503.0</td>\n      <td>65.0</td>\n      <td>82.0</td>\n      <td>1885.0</td>\n      <td>767.0</td>\n      <td>22451.0</td>\n      <td>...</td>\n      <td>184.0</td>\n      <td>0.0</td>\n      <td>37.0</td>\n      <td>29.0</td>\n      <td>112.0</td>\n      <td>226.0</td>\n      <td>992.0</td>\n      <td>1418.0</td>\n      <td>91.0</td>\n      <td>1.0</td>\n    </tr>\n    <tr>\n      <th>2016-12-31</th>\n      <td>-1258.0</td>\n      <td>12.0</td>\n      <td>2.0</td>\n      <td>5347.0</td>\n      <td>689.0</td>\n      <td>68.0</td>\n      <td>81.0</td>\n      <td>1827.0</td>\n      <td>852.0</td>\n      <td>26064.0</td>\n      <td>...</td>\n      <td>150.0</td>\n      <td>0.0</td>\n      <td>31.0</td>\n      <td>21.0</td>\n      <td>79.0</td>\n      <td>196.0</td>\n      <td>918.0</td>\n      <td>1491.0</td>\n      <td>81.0</td>\n      <td>1.0</td>\n    </tr>\n    <tr>\n      <th>2017-03-31</th>\n      <td>1676.0</td>\n      <td>10.0</td>\n      <td>1.0</td>\n      <td>5108.0</td>\n      <td>524.0</td>\n      <td>70.0</td>\n      <td>82.0</td>\n      <td>1879.0</td>\n      <td>600.0</td>\n      <td>24750.0</td>\n      <td>...</td>\n      <td>122.0</td>\n      <td>0.0</td>\n      <td>30.0</td>\n      <td>22.0</td>\n      <td>69.0</td>\n      <td>187.0</td>\n      <td>947.0</td>\n      <td>1758.0</td>\n      <td>100.0</td>\n      <td>1.0</td>\n    </tr>\n    <tr>\n      <th>2017-06-30</th>\n      <td>1646.0</td>\n      <td>11.0</td>\n      <td>2.0</td>\n      <td>5034.0</td>\n      <td>470.0</td>\n      <td>73.0</td>\n      <td>85.0</td>\n      <td>1821.0</td>\n      <td>988.0</td>\n      <td>26010.0</td>\n      <td>...</td>\n      <td>171.0</td>\n      <td>0.0</td>\n      <td>33.0</td>\n      <td>27.0</td>\n      <td>102.0</td>\n      <td>203.0</td>\n      <td>847.0</td>\n      <td>1331.0</td>\n      <td>107.0</td>\n      <td>0.0</td>\n    </tr>\n    <tr>\n      <th>2017-09-30</th>\n      <td>1734.0</td>\n      <td>10.0</td>\n      <td>2.0</td>\n      <td>5668.0</td>\n      <td>452.0</td>\n      <td>70.0</td>\n      <td>91.0</td>\n      <td>1912.0</td>\n      <td>840.0</td>\n      <td>27772.0</td>\n      <td>...</td>\n      <td>211.0</td>\n      <td>0.0</td>\n      <td>36.0</td>\n      <td>31.0</td>\n      <td>124.0</td>\n      <td>215.0</td>\n      <td>851.0</td>\n      <td>1341.0</td>\n      <td>92.0</td>\n      <td>0.0</td>\n    </tr>\n  </tbody>\n</table>\n<p>5 rows × 15229 columns</p>\n</div>"
     },
     "metadata": {},
     "execution_count": 8
    }
   ],
   "source": [
    "df.tail()"
   ]
  },
  {
   "cell_type": "code",
   "execution_count": 9,
   "metadata": {},
   "outputs": [],
   "source": [
    "revenue_raw = df.values.T"
   ]
  },
  {
   "cell_type": "code",
   "execution_count": 10,
   "metadata": {},
   "outputs": [
    {
     "output_type": "execute_result",
     "data": {
      "text/plain": "(370, 26136)"
     },
     "metadata": {},
     "execution_count": 10
    }
   ],
   "source": [
    "electricity_raw.shape"
   ]
  },
  {
   "cell_type": "code",
   "execution_count": 11,
   "metadata": {},
   "outputs": [],
   "source": [
    "electricity_raw = electricity_raw[:, :-24*8]"
   ]
  },
  {
   "cell_type": "code",
   "execution_count": 12,
   "metadata": {},
   "outputs": [
    {
     "output_type": "execute_result",
     "data": {
      "text/plain": "(370, 25944)"
     },
     "metadata": {},
     "execution_count": 12
    }
   ],
   "source": [
    "electricity_raw.shape"
   ]
  },
  {
   "cell_type": "code",
   "execution_count": 13,
   "metadata": {},
   "outputs": [
    {
     "output_type": "execute_result",
     "data": {
      "text/plain": "(15229, 43)"
     },
     "metadata": {},
     "execution_count": 13
    }
   ],
   "source": [
    "revenue_raw.shape"
   ]
  },
  {
   "cell_type": "markdown",
   "metadata": {},
   "source": [
    "# Save raw train"
   ]
  },
  {
   "cell_type": "code",
   "execution_count": 14,
   "metadata": {},
   "outputs": [],
   "source": [
    "np.save(\"C:\\\\Users\\\\eriko\\\\OneDrive - NTNU\\\\ntnu\\\\fag\\\\prosjekt\\\\TCN\\\\representations\\\\representation_matrices\\\\electricity_train_raw.npy\", electricity_raw)\n",
    "np.save(\"C:\\\\Users\\\\eriko\\\\OneDrive - NTNU\\\\ntnu\\\\fag\\\\prosjekt\\\\TCN\\\\representations\\\\representation_matrices\\\\revenue_train_raw.npy\", revenue_raw)"
   ]
  },
  {
   "cell_type": "markdown",
   "metadata": {},
   "source": [
    "# Scale"
   ]
  },
  {
   "cell_type": "code",
   "execution_count": 15,
   "metadata": {},
   "outputs": [],
   "source": [
    "el_scaler = MinMaxScaler()\n",
    "rev_scaler = MinMaxScaler()  "
   ]
  },
  {
   "cell_type": "markdown",
   "metadata": {},
   "source": [
    "### We scale each time series to itself and therefore have to scale the transposed matrices"
   ]
  },
  {
   "cell_type": "code",
   "execution_count": 16,
   "metadata": {},
   "outputs": [],
   "source": [
    "revenue_scaled = rev_scaler.fit_transform(revenue_raw.T).T\n",
    "electricity_scaled = el_scaler.fit_transform(electricity_raw.T).T"
   ]
  },
  {
   "cell_type": "code",
   "execution_count": 17,
   "metadata": {},
   "outputs": [
    {
     "output_type": "execute_result",
     "data": {
      "text/plain": "((15229, 43), (370, 25944))"
     },
     "metadata": {},
     "execution_count": 17
    }
   ],
   "source": [
    "revenue_scaled.shape, electricity_scaled.shape"
   ]
  },
  {
   "cell_type": "markdown",
   "metadata": {},
   "source": [
    "# Save scaled"
   ]
  },
  {
   "cell_type": "code",
   "execution_count": 18,
   "metadata": {},
   "outputs": [],
   "source": [
    "np.save(\"C:\\\\Users\\\\eriko\\\\OneDrive - NTNU\\\\ntnu\\\\fag\\\\prosjekt\\\\TCN\\\\representations\\\\representation_matrices\\\\electricity_train_scaled.npy\", electricity_scaled)\n",
    "np.save(\"C:\\\\Users\\\\eriko\\\\OneDrive - NTNU\\\\ntnu\\\\fag\\\\prosjekt\\\\TCN\\\\representations\\\\representation_matrices\\\\revenue_train_scaled.npy\", revenue_scaled)"
   ]
  },
  {
   "cell_type": "markdown",
   "metadata": {},
   "source": [
    "# Testing pmdarima"
   ]
  },
  {
   "cell_type": "code",
   "execution_count": 29,
   "metadata": {},
   "outputs": [],
   "source": [
    "import pmdarima as pm\n",
    "from pmdarima import model_selection\n",
    "from sklearn.metrics import mean_squared_error\n",
    "import matplotlib.pyplot as plt\n",
    "import numpy as np"
   ]
  },
  {
   "cell_type": "code",
   "execution_count": 31,
   "metadata": {},
   "outputs": [
    {
     "output_type": "stream",
     "name": "stdout",
     "text": "0\n"
    },
    {
     "output_type": "error",
     "ename": "KeyboardInterrupt",
     "evalue": "",
     "traceback": [
      "\u001b[1;31m---------------------------------------------------------------------------\u001b[0m",
      "\u001b[1;31mKeyboardInterrupt\u001b[0m                         Traceback (most recent call last)",
      "\u001b[1;32m<ipython-input-31-0de1f40c0bc7>\u001b[0m in \u001b[0;36m<module>\u001b[1;34m\u001b[0m\n\u001b[0;32m     23\u001b[0m         \u001b[0mmax_D\u001b[0m\u001b[1;33m=\u001b[0m\u001b[1;36m3\u001b[0m\u001b[1;33m,\u001b[0m\u001b[1;33m\u001b[0m\u001b[1;33m\u001b[0m\u001b[0m\n\u001b[0;32m     24\u001b[0m         \u001b[0mm\u001b[0m\u001b[1;33m=\u001b[0m\u001b[0ms\u001b[0m\u001b[1;33m,\u001b[0m\u001b[1;33m\u001b[0m\u001b[1;33m\u001b[0m\u001b[0m\n\u001b[1;32m---> 25\u001b[1;33m         \u001b[0merror_action\u001b[0m\u001b[1;33m=\u001b[0m\u001b[1;34m\"ignore\"\u001b[0m\u001b[1;33m,\u001b[0m\u001b[1;33m\u001b[0m\u001b[1;33m\u001b[0m\u001b[0m\n\u001b[0m\u001b[0;32m     26\u001b[0m     )\n\u001b[0;32m     27\u001b[0m \u001b[1;33m\u001b[0m\u001b[0m\n",
      "\u001b[1;32mc:\\Users\\eriko\\OneDrive - NTNU\\ntnu\\fag\\prosjekt\\TCN\\.venv\\lib\\site-packages\\pmdarima\\arima\\auto.py\u001b[0m in \u001b[0;36mauto_arima\u001b[1;34m(y, exogenous, start_p, d, start_q, max_p, max_d, max_q, start_P, D, start_Q, max_P, max_D, max_Q, max_order, m, seasonal, stationary, information_criterion, alpha, test, seasonal_test, stepwise, n_jobs, start_params, trend, method, maxiter, offset_test_args, seasonal_test_args, suppress_warnings, error_action, trace, random, random_state, n_fits, return_valid_fits, out_of_sample_size, scoring, scoring_args, with_intercept, sarimax_kwargs, **fit_args)\u001b[0m\n\u001b[0;32m    579\u001b[0m \u001b[1;33m\u001b[0m\u001b[0m\n\u001b[0;32m    580\u001b[0m         \u001b[1;31m# do the step-through...\u001b[0m\u001b[1;33m\u001b[0m\u001b[1;33m\u001b[0m\u001b[1;33m\u001b[0m\u001b[0m\n\u001b[1;32m--> 581\u001b[1;33m         \u001b[0mall_res\u001b[0m \u001b[1;33m=\u001b[0m \u001b[0mstepwise_wrapper\u001b[0m\u001b[1;33m.\u001b[0m\u001b[0msolve_stepwise\u001b[0m\u001b[1;33m(\u001b[0m\u001b[1;33m)\u001b[0m\u001b[1;33m\u001b[0m\u001b[1;33m\u001b[0m\u001b[0m\n\u001b[0m\u001b[0;32m    582\u001b[0m \u001b[1;33m\u001b[0m\u001b[0m\n\u001b[0;32m    583\u001b[0m     \u001b[1;31m# filter the non-successful ones\u001b[0m\u001b[1;33m\u001b[0m\u001b[1;33m\u001b[0m\u001b[1;33m\u001b[0m\u001b[0m\n",
      "\u001b[1;32mc:\\Users\\eriko\\OneDrive - NTNU\\ntnu\\fag\\prosjekt\\TCN\\.venv\\lib\\site-packages\\pmdarima\\arima\\_auto_solvers.py\u001b[0m in \u001b[0;36msolve_stepwise\u001b[1;34m(self)\u001b[0m\n\u001b[0;32m    281\u001b[0m             \u001b[1;32mif\u001b[0m \u001b[0mQ\u001b[0m \u001b[1;33m<\u001b[0m \u001b[0mmax_Q\u001b[0m \u001b[1;32mand\u001b[0m \u001b[0mP\u001b[0m \u001b[1;33m<\u001b[0m \u001b[0mmax_P\u001b[0m \u001b[1;32mand\u001b[0m\u001b[0;31m \u001b[0m\u001b[0;31m\\\u001b[0m\u001b[1;33m\u001b[0m\u001b[1;33m\u001b[0m\u001b[0m\n\u001b[0;32m    282\u001b[0m                     \u001b[0mself\u001b[0m\u001b[1;33m.\u001b[0m\u001b[0mk\u001b[0m \u001b[1;33m<\u001b[0m \u001b[0mself\u001b[0m\u001b[1;33m.\u001b[0m\u001b[0mmax_k\u001b[0m \u001b[1;32mand\u001b[0m\u001b[0;31m \u001b[0m\u001b[0;31m\\\u001b[0m\u001b[1;33m\u001b[0m\u001b[1;33m\u001b[0m\u001b[0m\n\u001b[1;32m--> 283\u001b[1;33m                     \u001b[0mself\u001b[0m\u001b[1;33m.\u001b[0m\u001b[0m_do_fit\u001b[0m\u001b[1;33m(\u001b[0m\u001b[1;33m(\u001b[0m\u001b[0mp\u001b[0m\u001b[1;33m,\u001b[0m \u001b[0md\u001b[0m\u001b[1;33m,\u001b[0m \u001b[0mq\u001b[0m\u001b[1;33m)\u001b[0m\u001b[1;33m,\u001b[0m \u001b[1;33m(\u001b[0m\u001b[0mP\u001b[0m \u001b[1;33m+\u001b[0m \u001b[1;36m1\u001b[0m\u001b[1;33m,\u001b[0m \u001b[0mD\u001b[0m\u001b[1;33m,\u001b[0m \u001b[0mQ\u001b[0m \u001b[1;33m+\u001b[0m \u001b[1;36m1\u001b[0m\u001b[1;33m,\u001b[0m \u001b[0mm\u001b[0m\u001b[1;33m)\u001b[0m\u001b[1;33m)\u001b[0m\u001b[1;33m:\u001b[0m\u001b[1;33m\u001b[0m\u001b[1;33m\u001b[0m\u001b[0m\n\u001b[0m\u001b[0;32m    284\u001b[0m                 \u001b[0mQ\u001b[0m \u001b[1;33m+=\u001b[0m \u001b[1;36m1\u001b[0m\u001b[1;33m\u001b[0m\u001b[1;33m\u001b[0m\u001b[0m\n\u001b[0;32m    285\u001b[0m                 \u001b[0mP\u001b[0m \u001b[1;33m+=\u001b[0m \u001b[1;36m1\u001b[0m\u001b[1;33m\u001b[0m\u001b[1;33m\u001b[0m\u001b[0m\n",
      "\u001b[1;32mc:\\Users\\eriko\\OneDrive - NTNU\\ntnu\\fag\\prosjekt\\TCN\\.venv\\lib\\site-packages\\pmdarima\\arima\\_auto_solvers.py\u001b[0m in \u001b[0;36m_do_fit\u001b[1;34m(self, order, seasonal_order, constant)\u001b[0m\n\u001b[0;32m    163\u001b[0m                 \u001b[0morder\u001b[0m\u001b[1;33m=\u001b[0m\u001b[0morder\u001b[0m\u001b[1;33m,\u001b[0m\u001b[1;33m\u001b[0m\u001b[1;33m\u001b[0m\u001b[0m\n\u001b[0;32m    164\u001b[0m                 \u001b[0mseasonal_order\u001b[0m\u001b[1;33m=\u001b[0m\u001b[0mseasonal_order\u001b[0m\u001b[1;33m,\u001b[0m\u001b[1;33m\u001b[0m\u001b[1;33m\u001b[0m\u001b[0m\n\u001b[1;32m--> 165\u001b[1;33m                 with_intercept=constant)\n\u001b[0m\u001b[0;32m    166\u001b[0m \u001b[1;33m\u001b[0m\u001b[0m\n\u001b[0;32m    167\u001b[0m             \u001b[1;31m# use the orders as a key to be hashed for\u001b[0m\u001b[1;33m\u001b[0m\u001b[1;33m\u001b[0m\u001b[1;33m\u001b[0m\u001b[0m\n",
      "\u001b[1;32mc:\\Users\\eriko\\OneDrive - NTNU\\ntnu\\fag\\prosjekt\\TCN\\.venv\\lib\\site-packages\\pmdarima\\arima\\_auto_solvers.py\u001b[0m in \u001b[0;36m_fit_arima\u001b[1;34m(x, xreg, order, seasonal_order, start_params, trend, method, maxiter, fit_params, suppress_warnings, trace, error_action, out_of_sample_size, scoring, scoring_args, with_intercept, **kwargs)\u001b[0m\n\u001b[0;32m    377\u001b[0m                     \u001b[0mscoring_args\u001b[0m\u001b[1;33m=\u001b[0m\u001b[0mscoring_args\u001b[0m\u001b[1;33m,\u001b[0m\u001b[1;33m\u001b[0m\u001b[1;33m\u001b[0m\u001b[0m\n\u001b[0;32m    378\u001b[0m                     with_intercept=with_intercept, **kwargs)\\\n\u001b[1;32m--> 379\u001b[1;33m             \u001b[1;33m.\u001b[0m\u001b[0mfit\u001b[0m\u001b[1;33m(\u001b[0m\u001b[0mx\u001b[0m\u001b[1;33m,\u001b[0m \u001b[0mexogenous\u001b[0m\u001b[1;33m=\u001b[0m\u001b[0mxreg\u001b[0m\u001b[1;33m,\u001b[0m \u001b[1;33m**\u001b[0m\u001b[0mfit_params\u001b[0m\u001b[1;33m)\u001b[0m\u001b[1;33m\u001b[0m\u001b[1;33m\u001b[0m\u001b[0m\n\u001b[0m\u001b[0;32m    380\u001b[0m \u001b[1;33m\u001b[0m\u001b[0m\n\u001b[0;32m    381\u001b[0m     \u001b[1;31m# for non-stationarity errors or singular matrices, return None\u001b[0m\u001b[1;33m\u001b[0m\u001b[1;33m\u001b[0m\u001b[1;33m\u001b[0m\u001b[0m\n",
      "\u001b[1;32mc:\\Users\\eriko\\OneDrive - NTNU\\ntnu\\fag\\prosjekt\\TCN\\.venv\\lib\\site-packages\\pmdarima\\arima\\arima.py\u001b[0m in \u001b[0;36mfit\u001b[1;34m(self, y, exogenous, **fit_args)\u001b[0m\n\u001b[0;32m    467\u001b[0m \u001b[1;33m\u001b[0m\u001b[0m\n\u001b[0;32m    468\u001b[0m         \u001b[1;31m# Internal call\u001b[0m\u001b[1;33m\u001b[0m\u001b[1;33m\u001b[0m\u001b[1;33m\u001b[0m\u001b[0m\n\u001b[1;32m--> 469\u001b[1;33m         \u001b[0mself\u001b[0m\u001b[1;33m.\u001b[0m\u001b[0m_fit\u001b[0m\u001b[1;33m(\u001b[0m\u001b[0my\u001b[0m\u001b[1;33m,\u001b[0m \u001b[0mexogenous\u001b[0m\u001b[1;33m,\u001b[0m \u001b[1;33m**\u001b[0m\u001b[0mfit_args\u001b[0m\u001b[1;33m)\u001b[0m\u001b[1;33m\u001b[0m\u001b[1;33m\u001b[0m\u001b[0m\n\u001b[0m\u001b[0;32m    470\u001b[0m \u001b[1;33m\u001b[0m\u001b[0m\n\u001b[0;32m    471\u001b[0m         \u001b[1;31m# now make a forecast if we're validating to compute the\u001b[0m\u001b[1;33m\u001b[0m\u001b[1;33m\u001b[0m\u001b[1;33m\u001b[0m\u001b[0m\n",
      "\u001b[1;32mc:\\Users\\eriko\\OneDrive - NTNU\\ntnu\\fag\\prosjekt\\TCN\\.venv\\lib\\site-packages\\pmdarima\\arima\\arima.py\u001b[0m in \u001b[0;36m_fit\u001b[1;34m(self, y, exogenous, **fit_args)\u001b[0m\n\u001b[0;32m    390\u001b[0m             \u001b[1;32mwith\u001b[0m \u001b[0mwarnings\u001b[0m\u001b[1;33m.\u001b[0m\u001b[0mcatch_warnings\u001b[0m\u001b[1;33m(\u001b[0m\u001b[0mrecord\u001b[0m\u001b[1;33m=\u001b[0m\u001b[1;32mFalse\u001b[0m\u001b[1;33m)\u001b[0m\u001b[1;33m:\u001b[0m\u001b[1;33m\u001b[0m\u001b[1;33m\u001b[0m\u001b[0m\n\u001b[0;32m    391\u001b[0m                 \u001b[0mwarnings\u001b[0m\u001b[1;33m.\u001b[0m\u001b[0msimplefilter\u001b[0m\u001b[1;33m(\u001b[0m\u001b[1;34m'ignore'\u001b[0m\u001b[1;33m)\u001b[0m\u001b[1;33m\u001b[0m\u001b[1;33m\u001b[0m\u001b[0m\n\u001b[1;32m--> 392\u001b[1;33m                 \u001b[0mfit\u001b[0m\u001b[1;33m,\u001b[0m \u001b[0mself\u001b[0m\u001b[1;33m.\u001b[0m\u001b[0marima_res_\u001b[0m \u001b[1;33m=\u001b[0m \u001b[0m_fit_wrapper\u001b[0m\u001b[1;33m(\u001b[0m\u001b[1;33m)\u001b[0m\u001b[1;33m\u001b[0m\u001b[1;33m\u001b[0m\u001b[0m\n\u001b[0m\u001b[0;32m    393\u001b[0m         \u001b[1;32melse\u001b[0m\u001b[1;33m:\u001b[0m\u001b[1;33m\u001b[0m\u001b[1;33m\u001b[0m\u001b[0m\n\u001b[0;32m    394\u001b[0m             \u001b[0mfit\u001b[0m\u001b[1;33m,\u001b[0m \u001b[0mself\u001b[0m\u001b[1;33m.\u001b[0m\u001b[0marima_res_\u001b[0m \u001b[1;33m=\u001b[0m \u001b[0m_fit_wrapper\u001b[0m\u001b[1;33m(\u001b[0m\u001b[1;33m)\u001b[0m\u001b[1;33m\u001b[0m\u001b[1;33m\u001b[0m\u001b[0m\n",
      "\u001b[1;32mc:\\Users\\eriko\\OneDrive - NTNU\\ntnu\\fag\\prosjekt\\TCN\\.venv\\lib\\site-packages\\pmdarima\\arima\\arima.py\u001b[0m in \u001b[0;36m_fit_wrapper\u001b[1;34m()\u001b[0m\n\u001b[0;32m    384\u001b[0m                                     \u001b[0mmaxiter\u001b[0m\u001b[1;33m=\u001b[0m\u001b[0m_maxiter\u001b[0m\u001b[1;33m,\u001b[0m\u001b[1;33m\u001b[0m\u001b[1;33m\u001b[0m\u001b[0m\n\u001b[0;32m    385\u001b[0m                                     \u001b[0mdisp\u001b[0m\u001b[1;33m=\u001b[0m\u001b[0mdisp\u001b[0m\u001b[1;33m,\u001b[0m\u001b[1;33m\u001b[0m\u001b[1;33m\u001b[0m\u001b[0m\n\u001b[1;32m--> 386\u001b[1;33m                                     **fit_args)\n\u001b[0m\u001b[0;32m    387\u001b[0m \u001b[1;33m\u001b[0m\u001b[0m\n\u001b[0;32m    388\u001b[0m         \u001b[1;31m# sometimes too many warnings...\u001b[0m\u001b[1;33m\u001b[0m\u001b[1;33m\u001b[0m\u001b[1;33m\u001b[0m\u001b[0m\n",
      "\u001b[1;32mc:\\Users\\eriko\\OneDrive - NTNU\\ntnu\\fag\\prosjekt\\TCN\\.venv\\lib\\site-packages\\statsmodels\\tsa\\statespace\\mlemodel.py\u001b[0m in \u001b[0;36mfit\u001b[1;34m(self, start_params, transformed, includes_fixed, cov_type, cov_kwds, method, maxiter, full_output, disp, callback, return_params, optim_score, optim_complex_step, optim_hessian, flags, low_memory, **kwargs)\u001b[0m\n\u001b[0;32m    657\u001b[0m                                                \u001b[0mfull_output\u001b[0m\u001b[1;33m=\u001b[0m\u001b[0mfull_output\u001b[0m\u001b[1;33m,\u001b[0m\u001b[1;33m\u001b[0m\u001b[1;33m\u001b[0m\u001b[0m\n\u001b[0;32m    658\u001b[0m                                                \u001b[0mdisp\u001b[0m\u001b[1;33m=\u001b[0m\u001b[0mdisp\u001b[0m\u001b[1;33m,\u001b[0m \u001b[0mcallback\u001b[0m\u001b[1;33m=\u001b[0m\u001b[0mcallback\u001b[0m\u001b[1;33m,\u001b[0m\u001b[1;33m\u001b[0m\u001b[1;33m\u001b[0m\u001b[0m\n\u001b[1;32m--> 659\u001b[1;33m                                                skip_hessian=True, **kwargs)\n\u001b[0m\u001b[0;32m    660\u001b[0m \u001b[1;33m\u001b[0m\u001b[0m\n\u001b[0;32m    661\u001b[0m         \u001b[1;31m# Just return the fitted parameters if requested\u001b[0m\u001b[1;33m\u001b[0m\u001b[1;33m\u001b[0m\u001b[1;33m\u001b[0m\u001b[0m\n",
      "\u001b[1;32mc:\\Users\\eriko\\OneDrive - NTNU\\ntnu\\fag\\prosjekt\\TCN\\.venv\\lib\\site-packages\\statsmodels\\base\\model.py\u001b[0m in \u001b[0;36mfit\u001b[1;34m(self, start_params, method, maxiter, full_output, disp, fargs, callback, retall, skip_hessian, **kwargs)\u001b[0m\n\u001b[0;32m    524\u001b[0m                                                        \u001b[0mcallback\u001b[0m\u001b[1;33m=\u001b[0m\u001b[0mcallback\u001b[0m\u001b[1;33m,\u001b[0m\u001b[1;33m\u001b[0m\u001b[1;33m\u001b[0m\u001b[0m\n\u001b[0;32m    525\u001b[0m                                                        \u001b[0mretall\u001b[0m\u001b[1;33m=\u001b[0m\u001b[0mretall\u001b[0m\u001b[1;33m,\u001b[0m\u001b[1;33m\u001b[0m\u001b[1;33m\u001b[0m\u001b[0m\n\u001b[1;32m--> 526\u001b[1;33m                                                        full_output=full_output)\n\u001b[0m\u001b[0;32m    527\u001b[0m \u001b[1;33m\u001b[0m\u001b[0m\n\u001b[0;32m    528\u001b[0m         \u001b[1;31m# NOTE: this is for fit_regularized and should be generalized\u001b[0m\u001b[1;33m\u001b[0m\u001b[1;33m\u001b[0m\u001b[1;33m\u001b[0m\u001b[0m\n",
      "\u001b[1;32mc:\\Users\\eriko\\OneDrive - NTNU\\ntnu\\fag\\prosjekt\\TCN\\.venv\\lib\\site-packages\\statsmodels\\base\\optimizer.py\u001b[0m in \u001b[0;36m_fit\u001b[1;34m(self, objective, gradient, start_params, fargs, kwargs, hessian, method, maxiter, full_output, disp, callback, retall)\u001b[0m\n\u001b[0;32m    216\u001b[0m                             \u001b[0mdisp\u001b[0m\u001b[1;33m=\u001b[0m\u001b[0mdisp\u001b[0m\u001b[1;33m,\u001b[0m \u001b[0mmaxiter\u001b[0m\u001b[1;33m=\u001b[0m\u001b[0mmaxiter\u001b[0m\u001b[1;33m,\u001b[0m \u001b[0mcallback\u001b[0m\u001b[1;33m=\u001b[0m\u001b[0mcallback\u001b[0m\u001b[1;33m,\u001b[0m\u001b[1;33m\u001b[0m\u001b[1;33m\u001b[0m\u001b[0m\n\u001b[0;32m    217\u001b[0m                             \u001b[0mretall\u001b[0m\u001b[1;33m=\u001b[0m\u001b[0mretall\u001b[0m\u001b[1;33m,\u001b[0m \u001b[0mfull_output\u001b[0m\u001b[1;33m=\u001b[0m\u001b[0mfull_output\u001b[0m\u001b[1;33m,\u001b[0m\u001b[1;33m\u001b[0m\u001b[1;33m\u001b[0m\u001b[0m\n\u001b[1;32m--> 218\u001b[1;33m                             hess=hessian)\n\u001b[0m\u001b[0;32m    219\u001b[0m \u001b[1;33m\u001b[0m\u001b[0m\n\u001b[0;32m    220\u001b[0m         optim_settings = {'optimizer': method, 'start_params': start_params,\n",
      "\u001b[1;32mc:\\Users\\eriko\\OneDrive - NTNU\\ntnu\\fag\\prosjekt\\TCN\\.venv\\lib\\site-packages\\statsmodels\\base\\optimizer.py\u001b[0m in \u001b[0;36m_fit_lbfgs\u001b[1;34m(f, score, start_params, fargs, kwargs, disp, maxiter, callback, retall, full_output, hess)\u001b[0m\n\u001b[0;32m    438\u001b[0m                                      \u001b[0mcallback\u001b[0m\u001b[1;33m=\u001b[0m\u001b[0mcallback\u001b[0m\u001b[1;33m,\u001b[0m \u001b[0margs\u001b[0m\u001b[1;33m=\u001b[0m\u001b[0mfargs\u001b[0m\u001b[1;33m,\u001b[0m\u001b[1;33m\u001b[0m\u001b[1;33m\u001b[0m\u001b[0m\n\u001b[0;32m    439\u001b[0m                                      \u001b[0mbounds\u001b[0m\u001b[1;33m=\u001b[0m\u001b[0mbounds\u001b[0m\u001b[1;33m,\u001b[0m \u001b[0mdisp\u001b[0m\u001b[1;33m=\u001b[0m\u001b[0mdisp\u001b[0m\u001b[1;33m,\u001b[0m\u001b[1;33m\u001b[0m\u001b[1;33m\u001b[0m\u001b[0m\n\u001b[1;32m--> 440\u001b[1;33m                                      **extra_kwargs)\n\u001b[0m\u001b[0;32m    441\u001b[0m \u001b[1;33m\u001b[0m\u001b[0m\n\u001b[0;32m    442\u001b[0m     \u001b[1;32mif\u001b[0m \u001b[0mfull_output\u001b[0m\u001b[1;33m:\u001b[0m\u001b[1;33m\u001b[0m\u001b[1;33m\u001b[0m\u001b[0m\n",
      "\u001b[1;32mc:\\Users\\eriko\\OneDrive - NTNU\\ntnu\\fag\\prosjekt\\TCN\\.venv\\lib\\site-packages\\scipy\\optimize\\lbfgsb.py\u001b[0m in \u001b[0;36mfmin_l_bfgs_b\u001b[1;34m(func, x0, fprime, args, approx_grad, bounds, m, factr, pgtol, epsilon, iprint, maxfun, maxiter, disp, callback, maxls)\u001b[0m\n\u001b[0;32m    197\u001b[0m \u001b[1;33m\u001b[0m\u001b[0m\n\u001b[0;32m    198\u001b[0m     res = _minimize_lbfgsb(fun, x0, args=args, jac=jac, bounds=bounds,\n\u001b[1;32m--> 199\u001b[1;33m                            **opts)\n\u001b[0m\u001b[0;32m    200\u001b[0m     d = {'grad': res['jac'],\n\u001b[0;32m    201\u001b[0m          \u001b[1;34m'task'\u001b[0m\u001b[1;33m:\u001b[0m \u001b[0mres\u001b[0m\u001b[1;33m[\u001b[0m\u001b[1;34m'message'\u001b[0m\u001b[1;33m]\u001b[0m\u001b[1;33m,\u001b[0m\u001b[1;33m\u001b[0m\u001b[1;33m\u001b[0m\u001b[0m\n",
      "\u001b[1;32mc:\\Users\\eriko\\OneDrive - NTNU\\ntnu\\fag\\prosjekt\\TCN\\.venv\\lib\\site-packages\\scipy\\optimize\\lbfgsb.py\u001b[0m in \u001b[0;36m_minimize_lbfgsb\u001b[1;34m(fun, x0, args, jac, bounds, disp, maxcor, ftol, gtol, eps, maxfun, maxiter, iprint, callback, maxls, **unknown_options)\u001b[0m\n\u001b[0;32m    343\u001b[0m             \u001b[1;31m# until the completion of the current minimization iteration.\u001b[0m\u001b[1;33m\u001b[0m\u001b[1;33m\u001b[0m\u001b[1;33m\u001b[0m\u001b[0m\n\u001b[0;32m    344\u001b[0m             \u001b[1;31m# Overwrite f and g:\u001b[0m\u001b[1;33m\u001b[0m\u001b[1;33m\u001b[0m\u001b[1;33m\u001b[0m\u001b[0m\n\u001b[1;32m--> 345\u001b[1;33m             \u001b[0mf\u001b[0m\u001b[1;33m,\u001b[0m \u001b[0mg\u001b[0m \u001b[1;33m=\u001b[0m \u001b[0mfunc_and_grad\u001b[0m\u001b[1;33m(\u001b[0m\u001b[0mx\u001b[0m\u001b[1;33m)\u001b[0m\u001b[1;33m\u001b[0m\u001b[1;33m\u001b[0m\u001b[0m\n\u001b[0m\u001b[0;32m    346\u001b[0m         \u001b[1;32melif\u001b[0m \u001b[0mtask_str\u001b[0m\u001b[1;33m.\u001b[0m\u001b[0mstartswith\u001b[0m\u001b[1;33m(\u001b[0m\u001b[1;34mb'NEW_X'\u001b[0m\u001b[1;33m)\u001b[0m\u001b[1;33m:\u001b[0m\u001b[1;33m\u001b[0m\u001b[1;33m\u001b[0m\u001b[0m\n\u001b[0;32m    347\u001b[0m             \u001b[1;31m# new iteration\u001b[0m\u001b[1;33m\u001b[0m\u001b[1;33m\u001b[0m\u001b[1;33m\u001b[0m\u001b[0m\n",
      "\u001b[1;32mc:\\Users\\eriko\\OneDrive - NTNU\\ntnu\\fag\\prosjekt\\TCN\\.venv\\lib\\site-packages\\scipy\\optimize\\lbfgsb.py\u001b[0m in \u001b[0;36mfunc_and_grad\u001b[1;34m(x)\u001b[0m\n\u001b[0;32m    289\u001b[0m         \u001b[1;32mdef\u001b[0m \u001b[0mfunc_and_grad\u001b[0m\u001b[1;33m(\u001b[0m\u001b[0mx\u001b[0m\u001b[1;33m)\u001b[0m\u001b[1;33m:\u001b[0m\u001b[1;33m\u001b[0m\u001b[1;33m\u001b[0m\u001b[0m\n\u001b[0;32m    290\u001b[0m             \u001b[0mf\u001b[0m \u001b[1;33m=\u001b[0m \u001b[0mfun\u001b[0m\u001b[1;33m(\u001b[0m\u001b[0mx\u001b[0m\u001b[1;33m,\u001b[0m \u001b[1;33m*\u001b[0m\u001b[0margs\u001b[0m\u001b[1;33m)\u001b[0m\u001b[1;33m\u001b[0m\u001b[1;33m\u001b[0m\u001b[0m\n\u001b[1;32m--> 291\u001b[1;33m             \u001b[0mg\u001b[0m \u001b[1;33m=\u001b[0m \u001b[0m_approx_fprime_helper\u001b[0m\u001b[1;33m(\u001b[0m\u001b[0mx\u001b[0m\u001b[1;33m,\u001b[0m \u001b[0mfun\u001b[0m\u001b[1;33m,\u001b[0m \u001b[0mepsilon\u001b[0m\u001b[1;33m,\u001b[0m \u001b[0margs\u001b[0m\u001b[1;33m=\u001b[0m\u001b[0margs\u001b[0m\u001b[1;33m,\u001b[0m \u001b[0mf0\u001b[0m\u001b[1;33m=\u001b[0m\u001b[0mf\u001b[0m\u001b[1;33m)\u001b[0m\u001b[1;33m\u001b[0m\u001b[1;33m\u001b[0m\u001b[0m\n\u001b[0m\u001b[0;32m    292\u001b[0m             \u001b[1;32mreturn\u001b[0m \u001b[0mf\u001b[0m\u001b[1;33m,\u001b[0m \u001b[0mg\u001b[0m\u001b[1;33m\u001b[0m\u001b[1;33m\u001b[0m\u001b[0m\n\u001b[0;32m    293\u001b[0m     \u001b[1;32melse\u001b[0m\u001b[1;33m:\u001b[0m\u001b[1;33m\u001b[0m\u001b[1;33m\u001b[0m\u001b[0m\n",
      "\u001b[1;32mc:\\Users\\eriko\\OneDrive - NTNU\\ntnu\\fag\\prosjekt\\TCN\\.venv\\lib\\site-packages\\scipy\\optimize\\optimize.py\u001b[0m in \u001b[0;36m_approx_fprime_helper\u001b[1;34m(xk, f, epsilon, args, f0)\u001b[0m\n\u001b[0;32m    695\u001b[0m         \u001b[0mei\u001b[0m\u001b[1;33m[\u001b[0m\u001b[0mk\u001b[0m\u001b[1;33m]\u001b[0m \u001b[1;33m=\u001b[0m \u001b[1;36m1.0\u001b[0m\u001b[1;33m\u001b[0m\u001b[1;33m\u001b[0m\u001b[0m\n\u001b[0;32m    696\u001b[0m         \u001b[0md\u001b[0m \u001b[1;33m=\u001b[0m \u001b[0mepsilon\u001b[0m \u001b[1;33m*\u001b[0m \u001b[0mei\u001b[0m\u001b[1;33m\u001b[0m\u001b[1;33m\u001b[0m\u001b[0m\n\u001b[1;32m--> 697\u001b[1;33m         \u001b[0mdf\u001b[0m \u001b[1;33m=\u001b[0m \u001b[1;33m(\u001b[0m\u001b[0mf\u001b[0m\u001b[1;33m(\u001b[0m\u001b[1;33m*\u001b[0m\u001b[1;33m(\u001b[0m\u001b[1;33m(\u001b[0m\u001b[0mxk\u001b[0m \u001b[1;33m+\u001b[0m \u001b[0md\u001b[0m\u001b[1;33m,\u001b[0m\u001b[1;33m)\u001b[0m \u001b[1;33m+\u001b[0m \u001b[0margs\u001b[0m\u001b[1;33m)\u001b[0m\u001b[1;33m)\u001b[0m \u001b[1;33m-\u001b[0m \u001b[0mf0\u001b[0m\u001b[1;33m)\u001b[0m \u001b[1;33m/\u001b[0m \u001b[0md\u001b[0m\u001b[1;33m[\u001b[0m\u001b[0mk\u001b[0m\u001b[1;33m]\u001b[0m\u001b[1;33m\u001b[0m\u001b[1;33m\u001b[0m\u001b[0m\n\u001b[0m\u001b[0;32m    698\u001b[0m         \u001b[1;32mif\u001b[0m \u001b[1;32mnot\u001b[0m \u001b[0mnp\u001b[0m\u001b[1;33m.\u001b[0m\u001b[0misscalar\u001b[0m\u001b[1;33m(\u001b[0m\u001b[0mdf\u001b[0m\u001b[1;33m)\u001b[0m\u001b[1;33m:\u001b[0m\u001b[1;33m\u001b[0m\u001b[1;33m\u001b[0m\u001b[0m\n\u001b[0;32m    699\u001b[0m             \u001b[1;32mtry\u001b[0m\u001b[1;33m:\u001b[0m\u001b[1;33m\u001b[0m\u001b[1;33m\u001b[0m\u001b[0m\n",
      "\u001b[1;32mc:\\Users\\eriko\\OneDrive - NTNU\\ntnu\\fag\\prosjekt\\TCN\\.venv\\lib\\site-packages\\scipy\\optimize\\optimize.py\u001b[0m in \u001b[0;36mfunction_wrapper\u001b[1;34m(*wrapper_args)\u001b[0m\n\u001b[0;32m    325\u001b[0m     \u001b[1;32mdef\u001b[0m \u001b[0mfunction_wrapper\u001b[0m\u001b[1;33m(\u001b[0m\u001b[1;33m*\u001b[0m\u001b[0mwrapper_args\u001b[0m\u001b[1;33m)\u001b[0m\u001b[1;33m:\u001b[0m\u001b[1;33m\u001b[0m\u001b[1;33m\u001b[0m\u001b[0m\n\u001b[0;32m    326\u001b[0m         \u001b[0mncalls\u001b[0m\u001b[1;33m[\u001b[0m\u001b[1;36m0\u001b[0m\u001b[1;33m]\u001b[0m \u001b[1;33m+=\u001b[0m \u001b[1;36m1\u001b[0m\u001b[1;33m\u001b[0m\u001b[1;33m\u001b[0m\u001b[0m\n\u001b[1;32m--> 327\u001b[1;33m         \u001b[1;32mreturn\u001b[0m \u001b[0mfunction\u001b[0m\u001b[1;33m(\u001b[0m\u001b[1;33m*\u001b[0m\u001b[1;33m(\u001b[0m\u001b[0mwrapper_args\u001b[0m \u001b[1;33m+\u001b[0m \u001b[0margs\u001b[0m\u001b[1;33m)\u001b[0m\u001b[1;33m)\u001b[0m\u001b[1;33m\u001b[0m\u001b[1;33m\u001b[0m\u001b[0m\n\u001b[0m\u001b[0;32m    328\u001b[0m \u001b[1;33m\u001b[0m\u001b[0m\n\u001b[0;32m    329\u001b[0m     \u001b[1;32mreturn\u001b[0m \u001b[0mncalls\u001b[0m\u001b[1;33m,\u001b[0m \u001b[0mfunction_wrapper\u001b[0m\u001b[1;33m\u001b[0m\u001b[1;33m\u001b[0m\u001b[0m\n",
      "\u001b[1;32mc:\\Users\\eriko\\OneDrive - NTNU\\ntnu\\fag\\prosjekt\\TCN\\.venv\\lib\\site-packages\\statsmodels\\base\\model.py\u001b[0m in \u001b[0;36mf\u001b[1;34m(params, *args)\u001b[0m\n\u001b[0;32m    498\u001b[0m \u001b[1;33m\u001b[0m\u001b[0m\n\u001b[0;32m    499\u001b[0m         \u001b[1;32mdef\u001b[0m \u001b[0mf\u001b[0m\u001b[1;33m(\u001b[0m\u001b[0mparams\u001b[0m\u001b[1;33m,\u001b[0m \u001b[1;33m*\u001b[0m\u001b[0margs\u001b[0m\u001b[1;33m)\u001b[0m\u001b[1;33m:\u001b[0m\u001b[1;33m\u001b[0m\u001b[1;33m\u001b[0m\u001b[0m\n\u001b[1;32m--> 500\u001b[1;33m             \u001b[1;32mreturn\u001b[0m \u001b[1;33m-\u001b[0m\u001b[0mself\u001b[0m\u001b[1;33m.\u001b[0m\u001b[0mloglike\u001b[0m\u001b[1;33m(\u001b[0m\u001b[0mparams\u001b[0m\u001b[1;33m,\u001b[0m \u001b[1;33m*\u001b[0m\u001b[0margs\u001b[0m\u001b[1;33m)\u001b[0m \u001b[1;33m/\u001b[0m \u001b[0mnobs\u001b[0m\u001b[1;33m\u001b[0m\u001b[1;33m\u001b[0m\u001b[0m\n\u001b[0m\u001b[0;32m    501\u001b[0m \u001b[1;33m\u001b[0m\u001b[0m\n\u001b[0;32m    502\u001b[0m         \u001b[1;32mif\u001b[0m \u001b[0mmethod\u001b[0m \u001b[1;33m==\u001b[0m \u001b[1;34m'newton'\u001b[0m\u001b[1;33m:\u001b[0m\u001b[1;33m\u001b[0m\u001b[1;33m\u001b[0m\u001b[0m\n",
      "\u001b[1;32mc:\\Users\\eriko\\OneDrive - NTNU\\ntnu\\fag\\prosjekt\\TCN\\.venv\\lib\\site-packages\\statsmodels\\tsa\\statespace\\mlemodel.py\u001b[0m in \u001b[0;36mloglike\u001b[1;34m(self, params, *args, **kwargs)\u001b[0m\n\u001b[0;32m    887\u001b[0m             \u001b[0mkwargs\u001b[0m\u001b[1;33m[\u001b[0m\u001b[1;34m'inversion_method'\u001b[0m\u001b[1;33m]\u001b[0m \u001b[1;33m=\u001b[0m \u001b[0mINVERT_UNIVARIATE\u001b[0m \u001b[1;33m|\u001b[0m \u001b[0mSOLVE_LU\u001b[0m\u001b[1;33m\u001b[0m\u001b[1;33m\u001b[0m\u001b[0m\n\u001b[0;32m    888\u001b[0m \u001b[1;33m\u001b[0m\u001b[0m\n\u001b[1;32m--> 889\u001b[1;33m         \u001b[0mloglike\u001b[0m \u001b[1;33m=\u001b[0m \u001b[0mself\u001b[0m\u001b[1;33m.\u001b[0m\u001b[0mssm\u001b[0m\u001b[1;33m.\u001b[0m\u001b[0mloglike\u001b[0m\u001b[1;33m(\u001b[0m\u001b[0mcomplex_step\u001b[0m\u001b[1;33m=\u001b[0m\u001b[0mcomplex_step\u001b[0m\u001b[1;33m,\u001b[0m \u001b[1;33m**\u001b[0m\u001b[0mkwargs\u001b[0m\u001b[1;33m)\u001b[0m\u001b[1;33m\u001b[0m\u001b[1;33m\u001b[0m\u001b[0m\n\u001b[0m\u001b[0;32m    890\u001b[0m \u001b[1;33m\u001b[0m\u001b[0m\n\u001b[0;32m    891\u001b[0m         \u001b[1;31m# Koopman, Shephard, and Doornik recommend maximizing the average\u001b[0m\u001b[1;33m\u001b[0m\u001b[1;33m\u001b[0m\u001b[1;33m\u001b[0m\u001b[0m\n",
      "\u001b[1;32mc:\\Users\\eriko\\OneDrive - NTNU\\ntnu\\fag\\prosjekt\\TCN\\.venv\\lib\\site-packages\\statsmodels\\tsa\\statespace\\kalman_filter.py\u001b[0m in \u001b[0;36mloglike\u001b[1;34m(self, **kwargs)\u001b[0m\n\u001b[0;32m    975\u001b[0m         kwargs.setdefault('conserve_memory',\n\u001b[0;32m    976\u001b[0m                           MEMORY_CONSERVE ^ MEMORY_NO_LIKELIHOOD)\n\u001b[1;32m--> 977\u001b[1;33m         \u001b[0mkfilter\u001b[0m \u001b[1;33m=\u001b[0m \u001b[0mself\u001b[0m\u001b[1;33m.\u001b[0m\u001b[0m_filter\u001b[0m\u001b[1;33m(\u001b[0m\u001b[1;33m**\u001b[0m\u001b[0mkwargs\u001b[0m\u001b[1;33m)\u001b[0m\u001b[1;33m\u001b[0m\u001b[1;33m\u001b[0m\u001b[0m\n\u001b[0m\u001b[0;32m    978\u001b[0m         loglikelihood_burn = kwargs.get('loglikelihood_burn',\n\u001b[0;32m    979\u001b[0m                                         self.loglikelihood_burn)\n",
      "\u001b[1;32mc:\\Users\\eriko\\OneDrive - NTNU\\ntnu\\fag\\prosjekt\\TCN\\.venv\\lib\\site-packages\\statsmodels\\tsa\\statespace\\kalman_filter.py\u001b[0m in \u001b[0;36m_filter\u001b[1;34m(self, filter_method, inversion_method, stability_method, conserve_memory, filter_timing, tolerance, loglikelihood_burn, complex_step)\u001b[0m\n\u001b[0;32m    889\u001b[0m             self._initialize_filter(\n\u001b[0;32m    890\u001b[0m                 \u001b[0mfilter_method\u001b[0m\u001b[1;33m,\u001b[0m \u001b[0minversion_method\u001b[0m\u001b[1;33m,\u001b[0m \u001b[0mstability_method\u001b[0m\u001b[1;33m,\u001b[0m\u001b[1;33m\u001b[0m\u001b[1;33m\u001b[0m\u001b[0m\n\u001b[1;32m--> 891\u001b[1;33m                 \u001b[0mconserve_memory\u001b[0m\u001b[1;33m,\u001b[0m \u001b[0mfilter_timing\u001b[0m\u001b[1;33m,\u001b[0m \u001b[0mtolerance\u001b[0m\u001b[1;33m,\u001b[0m \u001b[0mloglikelihood_burn\u001b[0m\u001b[1;33m\u001b[0m\u001b[1;33m\u001b[0m\u001b[0m\n\u001b[0m\u001b[0;32m    892\u001b[0m             )\n\u001b[0;32m    893\u001b[0m         )\n",
      "\u001b[1;32mc:\\Users\\eriko\\OneDrive - NTNU\\ntnu\\fag\\prosjekt\\TCN\\.venv\\lib\\site-packages\\statsmodels\\tsa\\statespace\\kalman_filter.py\u001b[0m in \u001b[0;36m_initialize_filter\u001b[1;34m(self, filter_method, inversion_method, stability_method, conserve_memory, tolerance, filter_timing, loglikelihood_burn)\u001b[0m\n\u001b[0;32m    454\u001b[0m \u001b[1;33m\u001b[0m\u001b[0m\n\u001b[0;32m    455\u001b[0m         \u001b[1;31m# Initialize the representation matrices\u001b[0m\u001b[1;33m\u001b[0m\u001b[1;33m\u001b[0m\u001b[1;33m\u001b[0m\u001b[0m\n\u001b[1;32m--> 456\u001b[1;33m         \u001b[0mprefix\u001b[0m\u001b[1;33m,\u001b[0m \u001b[0mdtype\u001b[0m\u001b[1;33m,\u001b[0m \u001b[0mcreate_statespace\u001b[0m \u001b[1;33m=\u001b[0m \u001b[0mself\u001b[0m\u001b[1;33m.\u001b[0m\u001b[0m_initialize_representation\u001b[0m\u001b[1;33m(\u001b[0m\u001b[1;33m)\u001b[0m\u001b[1;33m\u001b[0m\u001b[1;33m\u001b[0m\u001b[0m\n\u001b[0m\u001b[0;32m    457\u001b[0m \u001b[1;33m\u001b[0m\u001b[0m\n\u001b[0;32m    458\u001b[0m         \u001b[1;31m# Determine if we need to (re-)create the filter\u001b[0m\u001b[1;33m\u001b[0m\u001b[1;33m\u001b[0m\u001b[1;33m\u001b[0m\u001b[0m\n",
      "\u001b[1;32mc:\\Users\\eriko\\OneDrive - NTNU\\ntnu\\fag\\prosjekt\\TCN\\.venv\\lib\\site-packages\\statsmodels\\tsa\\statespace\\representation.py\u001b[0m in \u001b[0;36m_initialize_representation\u001b[1;34m(self, prefix)\u001b[0m\n\u001b[0;32m    892\u001b[0m                     \u001b[1;32mpass\u001b[0m\u001b[1;33m\u001b[0m\u001b[1;33m\u001b[0m\u001b[0m\n\u001b[0;32m    893\u001b[0m                 \u001b[1;32melse\u001b[0m\u001b[1;33m:\u001b[0m\u001b[1;33m\u001b[0m\u001b[1;33m\u001b[0m\u001b[0m\n\u001b[1;32m--> 894\u001b[1;33m                     \u001b[0mnew\u001b[0m \u001b[1;33m=\u001b[0m \u001b[0mgetattr\u001b[0m\u001b[1;33m(\u001b[0m\u001b[0mself\u001b[0m\u001b[1;33m,\u001b[0m \u001b[1;34m'_'\u001b[0m \u001b[1;33m+\u001b[0m \u001b[0mmatrix\u001b[0m\u001b[1;33m)\u001b[0m\u001b[1;33m.\u001b[0m\u001b[0mastype\u001b[0m\u001b[1;33m(\u001b[0m\u001b[0mdtype\u001b[0m\u001b[1;33m)\u001b[0m\u001b[1;33m\u001b[0m\u001b[1;33m\u001b[0m\u001b[0m\n\u001b[0m\u001b[0;32m    895\u001b[0m                     \u001b[1;32mif\u001b[0m \u001b[0mexisting\u001b[0m\u001b[1;33m.\u001b[0m\u001b[0mshape\u001b[0m \u001b[1;33m==\u001b[0m \u001b[0mnew\u001b[0m\u001b[1;33m.\u001b[0m\u001b[0mshape\u001b[0m\u001b[1;33m:\u001b[0m\u001b[1;33m\u001b[0m\u001b[1;33m\u001b[0m\u001b[0m\n\u001b[0;32m    896\u001b[0m                         \u001b[0mexisting\u001b[0m\u001b[1;33m[\u001b[0m\u001b[1;33m:\u001b[0m\u001b[1;33m]\u001b[0m \u001b[1;33m=\u001b[0m \u001b[0mnew\u001b[0m\u001b[1;33m[\u001b[0m\u001b[1;33m:\u001b[0m\u001b[1;33m]\u001b[0m\u001b[1;33m\u001b[0m\u001b[1;33m\u001b[0m\u001b[0m\n",
      "\u001b[1;31mKeyboardInterrupt\u001b[0m: "
     ]
    }
   ],
   "source": [
    "Y = np.load(\"C:\\\\Users\\\\eriko\\\\OneDrive - NTNU\\\\ntnu\\\\fag\\\\prosjekt\\\\TCN\\\\representations\\\\representation_matrices\\\\electricity_train_raw.npy\")\n",
    "s = 24\n",
    "if Y.shape[1] > 300:\n",
    "    Y = Y[:, -300:]\n",
    "params_list = []\n",
    "for i in range(Y.shape[0]):\n",
    "    print(i)\n",
    "    train = Y[i][~np.isnan(Y[i])]\n",
    "    modl = pm.auto_arima(\n",
    "        train,\n",
    "        start_p=1,\n",
    "        start_q=1,\n",
    "        start_P=1,\n",
    "        start_Q=1,\n",
    "        max_p=5,\n",
    "        max_q=5,\n",
    "        max_P=5,\n",
    "        max_Q=5,\n",
    "        seasonal=True,\n",
    "        stepwise=True,\n",
    "        suppress_warnings=True,\n",
    "        D=1,\n",
    "        max_D=3,\n",
    "        m=s,\n",
    "        error_action=\"ignore\",\n",
    "    )\n",
    "\n",
    "    d = modl.to_dict()\n",
    "    params = list(d[\"params\"][1:-1])  # not intercept and variance. list to pop\n",
    "    order = d[\"order\"]\n",
    "    seasonal_order = d[\"seasonal_order\"]\n",
    "    arma = {\n",
    "        \"ar\": order[0],\n",
    "        \"ma\": order[2],\n",
    "        \"AR\": seasonal_order[0],\n",
    "        \"MA\": seasonal_order[2],\n",
    "    }\n",
    "    p = {}\n",
    "    for term, num in arma.items():\n",
    "        for i in range(num):\n",
    "            p[\"\".join([term, str(i + 1)])] = params.pop()\n",
    "    params_list.append(p)\n",
    "\n",
    "df = pd.DataFrame(params_list)\n",
    "print(df.head())"
   ]
  },
  {
   "cell_type": "code",
   "execution_count": null,
   "metadata": {},
   "outputs": [],
   "source": [
    "X = df.values"
   ]
  },
  {
   "cell_type": "code",
   "execution_count": null,
   "metadata": {},
   "outputs": [],
   "source": [
    "np.save(\"C:\\\\Users\\\\eriko\\\\OneDrive - NTNU\\\\ntnu\\\\fag\\\\prosjekt\\\\TCN\\\\representations\\\\representation_matrices\\\\electricity_train_sarima.npy\", X)"
   ]
  },
  {
   "cell_type": "code",
   "execution_count": 21,
   "metadata": {},
   "outputs": [],
   "source": [
    "import sys\n",
    "sys.path.append(\"\")\n",
    "sys.path.append(\"../\")\n",
    "sys.path.append(\"../../\")"
   ]
  },
  {
   "cell_type": "code",
   "execution_count": 22,
   "metadata": {},
   "outputs": [],
   "source": [
    "from representations.representations import calculate_sarima"
   ]
  },
  {
   "cell_type": "code",
   "execution_count": 23,
   "metadata": {},
   "outputs": [
    {
     "output_type": "stream",
     "name": "stdout",
     "text": "(370, 200)\n370\n(200,)\n0\nfitting model\n[ 8.8832  7.6142  7.6142  8.8832  8.8832  8.8832 10.152  10.152   7.6142\n  8.8832  8.8832 10.152   8.8832  8.8832  7.6142 10.152   3.8071 19.036\n  3.8071 13.959  15.228   8.8832 12.69   12.69   10.152   5.0761  6.3452\n  7.6142  6.3452  7.6142  7.6142  7.6142  7.6142  7.6142  7.6142  6.3452\n  8.8832  7.6142  6.3452  8.8832  1.269   1.269   1.269   6.3452  3.8071\n  2.5381 11.421  12.69   10.152   6.3452  8.8832  8.8832  8.8832 10.152\n  8.8832  8.8832  8.8832  8.8832  8.8832  7.6142 10.152   8.8832  7.6142\n 10.152   5.0761  3.8071  2.5381  1.269   1.269   2.5381  8.8832 13.959\n  8.8832  7.6142  8.8832  7.6142 10.152   8.8832  8.8832 10.152   8.8832\n  8.8832  8.8832 10.152   8.8832  8.8832  8.8832 10.152  12.69   11.421\n 11.421  13.959  11.421  12.69   15.228  13.959   8.8832  8.8832 10.152\n 11.421  10.152  10.152  11.421  10.152  10.152  11.421  10.152  10.152\n 11.421  11.421  10.152  10.152   5.0761  3.8071  2.5381  6.3452  5.0761\n  5.0761  5.0761  7.6142  6.3452  8.8832  7.6142 10.152   8.8832  7.6142\n 10.152   8.8832 10.152   7.6142 10.152   8.8832  8.8832 10.152   8.8832\n  7.6142  6.3452  6.3452  5.0761  6.3452  5.0761  6.3452  5.0761  8.8832\n  6.3452  7.6142  8.8832  8.8832  8.8832  8.8832 10.152   8.8832  8.8832\n 10.152   8.8832  8.8832  8.8832 10.152   7.6142  7.6142  6.3452  2.5381\n  3.8071  7.6142  3.8071  2.5381  8.8832 15.228  12.69    8.8832 10.152\n 10.152  10.152  11.421  10.152  11.421  11.421  10.152  11.421  10.152\n 11.421  10.152  10.152  11.421   3.8071  3.8071  5.0761 15.228   5.0761\n  3.8071  5.0761 17.766  12.69   10.152  10.152  11.421  10.152  11.421\n 11.421  10.152 ]\n"
    },
    {
     "output_type": "error",
     "ename": "KeyboardInterrupt",
     "evalue": "",
     "traceback": [
      "\u001b[1;31m---------------------------------------------------------------------------\u001b[0m",
      "\u001b[1;31mKeyboardInterrupt\u001b[0m                         Traceback (most recent call last)",
      "\u001b[1;32m<ipython-input-23-a67f6bcd690c>\u001b[0m in \u001b[0;36m<module>\u001b[1;34m\u001b[0m\n\u001b[1;32m----> 1\u001b[1;33m \u001b[0mcalculate_sarima\u001b[0m\u001b[1;33m(\u001b[0m\u001b[0melectricity_raw\u001b[0m\u001b[1;33m,\u001b[0m \u001b[1;36m24\u001b[0m\u001b[1;33m)\u001b[0m\u001b[1;33m\u001b[0m\u001b[1;33m\u001b[0m\u001b[0m\n\u001b[0m",
      "\u001b[1;32mc:\\Users\\eriko\\OneDrive - NTNU\\ntnu\\fag\\prosjekt\\TCN\\representations\\representations.py\u001b[0m in \u001b[0;36mcalculate_sarima\u001b[1;34m(Y, s)\u001b[0m\n\u001b[0;32m     60\u001b[0m             \u001b[0mmax_D\u001b[0m\u001b[1;33m=\u001b[0m\u001b[1;36m3\u001b[0m\u001b[1;33m,\u001b[0m\u001b[1;33m\u001b[0m\u001b[1;33m\u001b[0m\u001b[0m\n\u001b[0;32m     61\u001b[0m             \u001b[0mm\u001b[0m\u001b[1;33m=\u001b[0m\u001b[0ms\u001b[0m\u001b[1;33m,\u001b[0m\u001b[1;33m\u001b[0m\u001b[1;33m\u001b[0m\u001b[0m\n\u001b[1;32m---> 62\u001b[1;33m             \u001b[0merror_action\u001b[0m\u001b[1;33m=\u001b[0m\u001b[1;34m\"ignore\"\u001b[0m\u001b[1;33m,\u001b[0m\u001b[1;33m\u001b[0m\u001b[1;33m\u001b[0m\u001b[0m\n\u001b[0m\u001b[0;32m     63\u001b[0m         )\n\u001b[0;32m     64\u001b[0m         \u001b[0mprint\u001b[0m\u001b[1;33m(\u001b[0m\u001b[1;34m\"done fit\"\u001b[0m\u001b[1;33m)\u001b[0m\u001b[1;33m\u001b[0m\u001b[1;33m\u001b[0m\u001b[0m\n",
      "\u001b[1;32mc:\\Users\\eriko\\OneDrive - NTNU\\ntnu\\fag\\prosjekt\\TCN\\.venv\\lib\\site-packages\\pmdarima\\arima\\auto.py\u001b[0m in \u001b[0;36mauto_arima\u001b[1;34m(y, exogenous, start_p, d, start_q, max_p, max_d, max_q, start_P, D, start_Q, max_P, max_D, max_Q, max_order, m, seasonal, stationary, information_criterion, alpha, test, seasonal_test, stepwise, n_jobs, start_params, trend, method, maxiter, offset_test_args, seasonal_test_args, suppress_warnings, error_action, trace, random, random_state, n_fits, return_valid_fits, out_of_sample_size, scoring, scoring_args, with_intercept, sarimax_kwargs, **fit_args)\u001b[0m\n\u001b[0;32m    579\u001b[0m \u001b[1;33m\u001b[0m\u001b[0m\n\u001b[0;32m    580\u001b[0m         \u001b[1;31m# do the step-through...\u001b[0m\u001b[1;33m\u001b[0m\u001b[1;33m\u001b[0m\u001b[1;33m\u001b[0m\u001b[0m\n\u001b[1;32m--> 581\u001b[1;33m         \u001b[0mall_res\u001b[0m \u001b[1;33m=\u001b[0m \u001b[0mstepwise_wrapper\u001b[0m\u001b[1;33m.\u001b[0m\u001b[0msolve_stepwise\u001b[0m\u001b[1;33m(\u001b[0m\u001b[1;33m)\u001b[0m\u001b[1;33m\u001b[0m\u001b[1;33m\u001b[0m\u001b[0m\n\u001b[0m\u001b[0;32m    582\u001b[0m \u001b[1;33m\u001b[0m\u001b[0m\n\u001b[0;32m    583\u001b[0m     \u001b[1;31m# filter the non-successful ones\u001b[0m\u001b[1;33m\u001b[0m\u001b[1;33m\u001b[0m\u001b[1;33m\u001b[0m\u001b[0m\n",
      "\u001b[1;32mc:\\Users\\eriko\\OneDrive - NTNU\\ntnu\\fag\\prosjekt\\TCN\\.venv\\lib\\site-packages\\pmdarima\\arima\\_auto_solvers.py\u001b[0m in \u001b[0;36msolve_stepwise\u001b[1;34m(self)\u001b[0m\n\u001b[0;32m    248\u001b[0m             \u001b[1;32mif\u001b[0m \u001b[0mP\u001b[0m \u001b[1;33m<\u001b[0m \u001b[0mmax_P\u001b[0m \u001b[1;32mand\u001b[0m\u001b[0;31m \u001b[0m\u001b[0;31m\\\u001b[0m\u001b[1;33m\u001b[0m\u001b[1;33m\u001b[0m\u001b[0m\n\u001b[0;32m    249\u001b[0m                     \u001b[0mself\u001b[0m\u001b[1;33m.\u001b[0m\u001b[0mk\u001b[0m \u001b[1;33m<\u001b[0m \u001b[0mself\u001b[0m\u001b[1;33m.\u001b[0m\u001b[0mmax_k\u001b[0m \u001b[1;32mand\u001b[0m\u001b[0;31m \u001b[0m\u001b[0;31m\\\u001b[0m\u001b[1;33m\u001b[0m\u001b[1;33m\u001b[0m\u001b[0m\n\u001b[1;32m--> 250\u001b[1;33m                     \u001b[0mself\u001b[0m\u001b[1;33m.\u001b[0m\u001b[0m_do_fit\u001b[0m\u001b[1;33m(\u001b[0m\u001b[1;33m(\u001b[0m\u001b[0mp\u001b[0m\u001b[1;33m,\u001b[0m \u001b[0md\u001b[0m\u001b[1;33m,\u001b[0m \u001b[0mq\u001b[0m\u001b[1;33m)\u001b[0m\u001b[1;33m,\u001b[0m \u001b[1;33m(\u001b[0m\u001b[0mP\u001b[0m \u001b[1;33m+\u001b[0m \u001b[1;36m1\u001b[0m\u001b[1;33m,\u001b[0m \u001b[0mD\u001b[0m\u001b[1;33m,\u001b[0m \u001b[0mQ\u001b[0m\u001b[1;33m,\u001b[0m \u001b[0mm\u001b[0m\u001b[1;33m)\u001b[0m\u001b[1;33m)\u001b[0m\u001b[1;33m:\u001b[0m\u001b[1;33m\u001b[0m\u001b[1;33m\u001b[0m\u001b[0m\n\u001b[0m\u001b[0;32m    251\u001b[0m                 \u001b[0mP\u001b[0m \u001b[1;33m+=\u001b[0m \u001b[1;36m1\u001b[0m\u001b[1;33m\u001b[0m\u001b[1;33m\u001b[0m\u001b[0m\n\u001b[0;32m    252\u001b[0m                 \u001b[1;32mcontinue\u001b[0m\u001b[1;33m\u001b[0m\u001b[1;33m\u001b[0m\u001b[0m\n",
      "\u001b[1;32mc:\\Users\\eriko\\OneDrive - NTNU\\ntnu\\fag\\prosjekt\\TCN\\.venv\\lib\\site-packages\\pmdarima\\arima\\_auto_solvers.py\u001b[0m in \u001b[0;36m_do_fit\u001b[1;34m(self, order, seasonal_order, constant)\u001b[0m\n\u001b[0;32m    163\u001b[0m                 \u001b[0morder\u001b[0m\u001b[1;33m=\u001b[0m\u001b[0morder\u001b[0m\u001b[1;33m,\u001b[0m\u001b[1;33m\u001b[0m\u001b[1;33m\u001b[0m\u001b[0m\n\u001b[0;32m    164\u001b[0m                 \u001b[0mseasonal_order\u001b[0m\u001b[1;33m=\u001b[0m\u001b[0mseasonal_order\u001b[0m\u001b[1;33m,\u001b[0m\u001b[1;33m\u001b[0m\u001b[1;33m\u001b[0m\u001b[0m\n\u001b[1;32m--> 165\u001b[1;33m                 with_intercept=constant)\n\u001b[0m\u001b[0;32m    166\u001b[0m \u001b[1;33m\u001b[0m\u001b[0m\n\u001b[0;32m    167\u001b[0m             \u001b[1;31m# use the orders as a key to be hashed for\u001b[0m\u001b[1;33m\u001b[0m\u001b[1;33m\u001b[0m\u001b[1;33m\u001b[0m\u001b[0m\n",
      "\u001b[1;32mc:\\Users\\eriko\\OneDrive - NTNU\\ntnu\\fag\\prosjekt\\TCN\\.venv\\lib\\site-packages\\pmdarima\\arima\\_auto_solvers.py\u001b[0m in \u001b[0;36m_fit_arima\u001b[1;34m(x, xreg, order, seasonal_order, start_params, trend, method, maxiter, fit_params, suppress_warnings, trace, error_action, out_of_sample_size, scoring, scoring_args, with_intercept, **kwargs)\u001b[0m\n\u001b[0;32m    377\u001b[0m                     \u001b[0mscoring_args\u001b[0m\u001b[1;33m=\u001b[0m\u001b[0mscoring_args\u001b[0m\u001b[1;33m,\u001b[0m\u001b[1;33m\u001b[0m\u001b[1;33m\u001b[0m\u001b[0m\n\u001b[0;32m    378\u001b[0m                     with_intercept=with_intercept, **kwargs)\\\n\u001b[1;32m--> 379\u001b[1;33m             \u001b[1;33m.\u001b[0m\u001b[0mfit\u001b[0m\u001b[1;33m(\u001b[0m\u001b[0mx\u001b[0m\u001b[1;33m,\u001b[0m \u001b[0mexogenous\u001b[0m\u001b[1;33m=\u001b[0m\u001b[0mxreg\u001b[0m\u001b[1;33m,\u001b[0m \u001b[1;33m**\u001b[0m\u001b[0mfit_params\u001b[0m\u001b[1;33m)\u001b[0m\u001b[1;33m\u001b[0m\u001b[1;33m\u001b[0m\u001b[0m\n\u001b[0m\u001b[0;32m    380\u001b[0m \u001b[1;33m\u001b[0m\u001b[0m\n\u001b[0;32m    381\u001b[0m     \u001b[1;31m# for non-stationarity errors or singular matrices, return None\u001b[0m\u001b[1;33m\u001b[0m\u001b[1;33m\u001b[0m\u001b[1;33m\u001b[0m\u001b[0m\n",
      "\u001b[1;32mc:\\Users\\eriko\\OneDrive - NTNU\\ntnu\\fag\\prosjekt\\TCN\\.venv\\lib\\site-packages\\pmdarima\\arima\\arima.py\u001b[0m in \u001b[0;36mfit\u001b[1;34m(self, y, exogenous, **fit_args)\u001b[0m\n\u001b[0;32m    467\u001b[0m \u001b[1;33m\u001b[0m\u001b[0m\n\u001b[0;32m    468\u001b[0m         \u001b[1;31m# Internal call\u001b[0m\u001b[1;33m\u001b[0m\u001b[1;33m\u001b[0m\u001b[1;33m\u001b[0m\u001b[0m\n\u001b[1;32m--> 469\u001b[1;33m         \u001b[0mself\u001b[0m\u001b[1;33m.\u001b[0m\u001b[0m_fit\u001b[0m\u001b[1;33m(\u001b[0m\u001b[0my\u001b[0m\u001b[1;33m,\u001b[0m \u001b[0mexogenous\u001b[0m\u001b[1;33m,\u001b[0m \u001b[1;33m**\u001b[0m\u001b[0mfit_args\u001b[0m\u001b[1;33m)\u001b[0m\u001b[1;33m\u001b[0m\u001b[1;33m\u001b[0m\u001b[0m\n\u001b[0m\u001b[0;32m    470\u001b[0m \u001b[1;33m\u001b[0m\u001b[0m\n\u001b[0;32m    471\u001b[0m         \u001b[1;31m# now make a forecast if we're validating to compute the\u001b[0m\u001b[1;33m\u001b[0m\u001b[1;33m\u001b[0m\u001b[1;33m\u001b[0m\u001b[0m\n",
      "\u001b[1;32mc:\\Users\\eriko\\OneDrive - NTNU\\ntnu\\fag\\prosjekt\\TCN\\.venv\\lib\\site-packages\\pmdarima\\arima\\arima.py\u001b[0m in \u001b[0;36m_fit\u001b[1;34m(self, y, exogenous, **fit_args)\u001b[0m\n\u001b[0;32m    392\u001b[0m                 \u001b[0mfit\u001b[0m\u001b[1;33m,\u001b[0m \u001b[0mself\u001b[0m\u001b[1;33m.\u001b[0m\u001b[0marima_res_\u001b[0m \u001b[1;33m=\u001b[0m \u001b[0m_fit_wrapper\u001b[0m\u001b[1;33m(\u001b[0m\u001b[1;33m)\u001b[0m\u001b[1;33m\u001b[0m\u001b[1;33m\u001b[0m\u001b[0m\n\u001b[0;32m    393\u001b[0m         \u001b[1;32melse\u001b[0m\u001b[1;33m:\u001b[0m\u001b[1;33m\u001b[0m\u001b[1;33m\u001b[0m\u001b[0m\n\u001b[1;32m--> 394\u001b[1;33m             \u001b[0mfit\u001b[0m\u001b[1;33m,\u001b[0m \u001b[0mself\u001b[0m\u001b[1;33m.\u001b[0m\u001b[0marima_res_\u001b[0m \u001b[1;33m=\u001b[0m \u001b[0m_fit_wrapper\u001b[0m\u001b[1;33m(\u001b[0m\u001b[1;33m)\u001b[0m\u001b[1;33m\u001b[0m\u001b[1;33m\u001b[0m\u001b[0m\n\u001b[0m\u001b[0;32m    395\u001b[0m \u001b[1;33m\u001b[0m\u001b[0m\n\u001b[0;32m    396\u001b[0m         \u001b[1;31m# Set df_model attribute for SARIMAXResults object\u001b[0m\u001b[1;33m\u001b[0m\u001b[1;33m\u001b[0m\u001b[1;33m\u001b[0m\u001b[0m\n",
      "\u001b[1;32mc:\\Users\\eriko\\OneDrive - NTNU\\ntnu\\fag\\prosjekt\\TCN\\.venv\\lib\\site-packages\\pmdarima\\arima\\arima.py\u001b[0m in \u001b[0;36m_fit_wrapper\u001b[1;34m()\u001b[0m\n\u001b[0;32m    384\u001b[0m                                     \u001b[0mmaxiter\u001b[0m\u001b[1;33m=\u001b[0m\u001b[0m_maxiter\u001b[0m\u001b[1;33m,\u001b[0m\u001b[1;33m\u001b[0m\u001b[1;33m\u001b[0m\u001b[0m\n\u001b[0;32m    385\u001b[0m                                     \u001b[0mdisp\u001b[0m\u001b[1;33m=\u001b[0m\u001b[0mdisp\u001b[0m\u001b[1;33m,\u001b[0m\u001b[1;33m\u001b[0m\u001b[1;33m\u001b[0m\u001b[0m\n\u001b[1;32m--> 386\u001b[1;33m                                     **fit_args)\n\u001b[0m\u001b[0;32m    387\u001b[0m \u001b[1;33m\u001b[0m\u001b[0m\n\u001b[0;32m    388\u001b[0m         \u001b[1;31m# sometimes too many warnings...\u001b[0m\u001b[1;33m\u001b[0m\u001b[1;33m\u001b[0m\u001b[1;33m\u001b[0m\u001b[0m\n",
      "\u001b[1;32mc:\\Users\\eriko\\OneDrive - NTNU\\ntnu\\fag\\prosjekt\\TCN\\.venv\\lib\\site-packages\\statsmodels\\tsa\\statespace\\mlemodel.py\u001b[0m in \u001b[0;36mfit\u001b[1;34m(self, start_params, transformed, includes_fixed, cov_type, cov_kwds, method, maxiter, full_output, disp, callback, return_params, optim_score, optim_complex_step, optim_hessian, flags, low_memory, **kwargs)\u001b[0m\n\u001b[0;32m    657\u001b[0m                                                \u001b[0mfull_output\u001b[0m\u001b[1;33m=\u001b[0m\u001b[0mfull_output\u001b[0m\u001b[1;33m,\u001b[0m\u001b[1;33m\u001b[0m\u001b[1;33m\u001b[0m\u001b[0m\n\u001b[0;32m    658\u001b[0m                                                \u001b[0mdisp\u001b[0m\u001b[1;33m=\u001b[0m\u001b[0mdisp\u001b[0m\u001b[1;33m,\u001b[0m \u001b[0mcallback\u001b[0m\u001b[1;33m=\u001b[0m\u001b[0mcallback\u001b[0m\u001b[1;33m,\u001b[0m\u001b[1;33m\u001b[0m\u001b[1;33m\u001b[0m\u001b[0m\n\u001b[1;32m--> 659\u001b[1;33m                                                skip_hessian=True, **kwargs)\n\u001b[0m\u001b[0;32m    660\u001b[0m \u001b[1;33m\u001b[0m\u001b[0m\n\u001b[0;32m    661\u001b[0m         \u001b[1;31m# Just return the fitted parameters if requested\u001b[0m\u001b[1;33m\u001b[0m\u001b[1;33m\u001b[0m\u001b[1;33m\u001b[0m\u001b[0m\n",
      "\u001b[1;32mc:\\Users\\eriko\\OneDrive - NTNU\\ntnu\\fag\\prosjekt\\TCN\\.venv\\lib\\site-packages\\statsmodels\\base\\model.py\u001b[0m in \u001b[0;36mfit\u001b[1;34m(self, start_params, method, maxiter, full_output, disp, fargs, callback, retall, skip_hessian, **kwargs)\u001b[0m\n\u001b[0;32m    524\u001b[0m                                                        \u001b[0mcallback\u001b[0m\u001b[1;33m=\u001b[0m\u001b[0mcallback\u001b[0m\u001b[1;33m,\u001b[0m\u001b[1;33m\u001b[0m\u001b[1;33m\u001b[0m\u001b[0m\n\u001b[0;32m    525\u001b[0m                                                        \u001b[0mretall\u001b[0m\u001b[1;33m=\u001b[0m\u001b[0mretall\u001b[0m\u001b[1;33m,\u001b[0m\u001b[1;33m\u001b[0m\u001b[1;33m\u001b[0m\u001b[0m\n\u001b[1;32m--> 526\u001b[1;33m                                                        full_output=full_output)\n\u001b[0m\u001b[0;32m    527\u001b[0m \u001b[1;33m\u001b[0m\u001b[0m\n\u001b[0;32m    528\u001b[0m         \u001b[1;31m# NOTE: this is for fit_regularized and should be generalized\u001b[0m\u001b[1;33m\u001b[0m\u001b[1;33m\u001b[0m\u001b[1;33m\u001b[0m\u001b[0m\n",
      "\u001b[1;32mc:\\Users\\eriko\\OneDrive - NTNU\\ntnu\\fag\\prosjekt\\TCN\\.venv\\lib\\site-packages\\statsmodels\\base\\optimizer.py\u001b[0m in \u001b[0;36m_fit\u001b[1;34m(self, objective, gradient, start_params, fargs, kwargs, hessian, method, maxiter, full_output, disp, callback, retall)\u001b[0m\n\u001b[0;32m    216\u001b[0m                             \u001b[0mdisp\u001b[0m\u001b[1;33m=\u001b[0m\u001b[0mdisp\u001b[0m\u001b[1;33m,\u001b[0m \u001b[0mmaxiter\u001b[0m\u001b[1;33m=\u001b[0m\u001b[0mmaxiter\u001b[0m\u001b[1;33m,\u001b[0m \u001b[0mcallback\u001b[0m\u001b[1;33m=\u001b[0m\u001b[0mcallback\u001b[0m\u001b[1;33m,\u001b[0m\u001b[1;33m\u001b[0m\u001b[1;33m\u001b[0m\u001b[0m\n\u001b[0;32m    217\u001b[0m                             \u001b[0mretall\u001b[0m\u001b[1;33m=\u001b[0m\u001b[0mretall\u001b[0m\u001b[1;33m,\u001b[0m \u001b[0mfull_output\u001b[0m\u001b[1;33m=\u001b[0m\u001b[0mfull_output\u001b[0m\u001b[1;33m,\u001b[0m\u001b[1;33m\u001b[0m\u001b[1;33m\u001b[0m\u001b[0m\n\u001b[1;32m--> 218\u001b[1;33m                             hess=hessian)\n\u001b[0m\u001b[0;32m    219\u001b[0m \u001b[1;33m\u001b[0m\u001b[0m\n\u001b[0;32m    220\u001b[0m         optim_settings = {'optimizer': method, 'start_params': start_params,\n",
      "\u001b[1;32mc:\\Users\\eriko\\OneDrive - NTNU\\ntnu\\fag\\prosjekt\\TCN\\.venv\\lib\\site-packages\\statsmodels\\base\\optimizer.py\u001b[0m in \u001b[0;36m_fit_lbfgs\u001b[1;34m(f, score, start_params, fargs, kwargs, disp, maxiter, callback, retall, full_output, hess)\u001b[0m\n\u001b[0;32m    438\u001b[0m                                      \u001b[0mcallback\u001b[0m\u001b[1;33m=\u001b[0m\u001b[0mcallback\u001b[0m\u001b[1;33m,\u001b[0m \u001b[0margs\u001b[0m\u001b[1;33m=\u001b[0m\u001b[0mfargs\u001b[0m\u001b[1;33m,\u001b[0m\u001b[1;33m\u001b[0m\u001b[1;33m\u001b[0m\u001b[0m\n\u001b[0;32m    439\u001b[0m                                      \u001b[0mbounds\u001b[0m\u001b[1;33m=\u001b[0m\u001b[0mbounds\u001b[0m\u001b[1;33m,\u001b[0m \u001b[0mdisp\u001b[0m\u001b[1;33m=\u001b[0m\u001b[0mdisp\u001b[0m\u001b[1;33m,\u001b[0m\u001b[1;33m\u001b[0m\u001b[1;33m\u001b[0m\u001b[0m\n\u001b[1;32m--> 440\u001b[1;33m                                      **extra_kwargs)\n\u001b[0m\u001b[0;32m    441\u001b[0m \u001b[1;33m\u001b[0m\u001b[0m\n\u001b[0;32m    442\u001b[0m     \u001b[1;32mif\u001b[0m \u001b[0mfull_output\u001b[0m\u001b[1;33m:\u001b[0m\u001b[1;33m\u001b[0m\u001b[1;33m\u001b[0m\u001b[0m\n",
      "\u001b[1;32mc:\\Users\\eriko\\OneDrive - NTNU\\ntnu\\fag\\prosjekt\\TCN\\.venv\\lib\\site-packages\\scipy\\optimize\\lbfgsb.py\u001b[0m in \u001b[0;36mfmin_l_bfgs_b\u001b[1;34m(func, x0, fprime, args, approx_grad, bounds, m, factr, pgtol, epsilon, iprint, maxfun, maxiter, disp, callback, maxls)\u001b[0m\n\u001b[0;32m    197\u001b[0m \u001b[1;33m\u001b[0m\u001b[0m\n\u001b[0;32m    198\u001b[0m     res = _minimize_lbfgsb(fun, x0, args=args, jac=jac, bounds=bounds,\n\u001b[1;32m--> 199\u001b[1;33m                            **opts)\n\u001b[0m\u001b[0;32m    200\u001b[0m     d = {'grad': res['jac'],\n\u001b[0;32m    201\u001b[0m          \u001b[1;34m'task'\u001b[0m\u001b[1;33m:\u001b[0m \u001b[0mres\u001b[0m\u001b[1;33m[\u001b[0m\u001b[1;34m'message'\u001b[0m\u001b[1;33m]\u001b[0m\u001b[1;33m,\u001b[0m\u001b[1;33m\u001b[0m\u001b[1;33m\u001b[0m\u001b[0m\n",
      "\u001b[1;32mc:\\Users\\eriko\\OneDrive - NTNU\\ntnu\\fag\\prosjekt\\TCN\\.venv\\lib\\site-packages\\scipy\\optimize\\lbfgsb.py\u001b[0m in \u001b[0;36m_minimize_lbfgsb\u001b[1;34m(fun, x0, args, jac, bounds, disp, maxcor, ftol, gtol, eps, maxfun, maxiter, iprint, callback, maxls, **unknown_options)\u001b[0m\n\u001b[0;32m    343\u001b[0m             \u001b[1;31m# until the completion of the current minimization iteration.\u001b[0m\u001b[1;33m\u001b[0m\u001b[1;33m\u001b[0m\u001b[1;33m\u001b[0m\u001b[0m\n\u001b[0;32m    344\u001b[0m             \u001b[1;31m# Overwrite f and g:\u001b[0m\u001b[1;33m\u001b[0m\u001b[1;33m\u001b[0m\u001b[1;33m\u001b[0m\u001b[0m\n\u001b[1;32m--> 345\u001b[1;33m             \u001b[0mf\u001b[0m\u001b[1;33m,\u001b[0m \u001b[0mg\u001b[0m \u001b[1;33m=\u001b[0m \u001b[0mfunc_and_grad\u001b[0m\u001b[1;33m(\u001b[0m\u001b[0mx\u001b[0m\u001b[1;33m)\u001b[0m\u001b[1;33m\u001b[0m\u001b[1;33m\u001b[0m\u001b[0m\n\u001b[0m\u001b[0;32m    346\u001b[0m         \u001b[1;32melif\u001b[0m \u001b[0mtask_str\u001b[0m\u001b[1;33m.\u001b[0m\u001b[0mstartswith\u001b[0m\u001b[1;33m(\u001b[0m\u001b[1;34mb'NEW_X'\u001b[0m\u001b[1;33m)\u001b[0m\u001b[1;33m:\u001b[0m\u001b[1;33m\u001b[0m\u001b[1;33m\u001b[0m\u001b[0m\n\u001b[0;32m    347\u001b[0m             \u001b[1;31m# new iteration\u001b[0m\u001b[1;33m\u001b[0m\u001b[1;33m\u001b[0m\u001b[1;33m\u001b[0m\u001b[0m\n",
      "\u001b[1;32mc:\\Users\\eriko\\OneDrive - NTNU\\ntnu\\fag\\prosjekt\\TCN\\.venv\\lib\\site-packages\\scipy\\optimize\\lbfgsb.py\u001b[0m in \u001b[0;36mfunc_and_grad\u001b[1;34m(x)\u001b[0m\n\u001b[0;32m    288\u001b[0m     \u001b[1;32mif\u001b[0m \u001b[0mjac\u001b[0m \u001b[1;32mis\u001b[0m \u001b[1;32mNone\u001b[0m\u001b[1;33m:\u001b[0m\u001b[1;33m\u001b[0m\u001b[1;33m\u001b[0m\u001b[0m\n\u001b[0;32m    289\u001b[0m         \u001b[1;32mdef\u001b[0m \u001b[0mfunc_and_grad\u001b[0m\u001b[1;33m(\u001b[0m\u001b[0mx\u001b[0m\u001b[1;33m)\u001b[0m\u001b[1;33m:\u001b[0m\u001b[1;33m\u001b[0m\u001b[1;33m\u001b[0m\u001b[0m\n\u001b[1;32m--> 290\u001b[1;33m             \u001b[0mf\u001b[0m \u001b[1;33m=\u001b[0m \u001b[0mfun\u001b[0m\u001b[1;33m(\u001b[0m\u001b[0mx\u001b[0m\u001b[1;33m,\u001b[0m \u001b[1;33m*\u001b[0m\u001b[0margs\u001b[0m\u001b[1;33m)\u001b[0m\u001b[1;33m\u001b[0m\u001b[1;33m\u001b[0m\u001b[0m\n\u001b[0m\u001b[0;32m    291\u001b[0m             \u001b[0mg\u001b[0m \u001b[1;33m=\u001b[0m \u001b[0m_approx_fprime_helper\u001b[0m\u001b[1;33m(\u001b[0m\u001b[0mx\u001b[0m\u001b[1;33m,\u001b[0m \u001b[0mfun\u001b[0m\u001b[1;33m,\u001b[0m \u001b[0mepsilon\u001b[0m\u001b[1;33m,\u001b[0m \u001b[0margs\u001b[0m\u001b[1;33m=\u001b[0m\u001b[0margs\u001b[0m\u001b[1;33m,\u001b[0m \u001b[0mf0\u001b[0m\u001b[1;33m=\u001b[0m\u001b[0mf\u001b[0m\u001b[1;33m)\u001b[0m\u001b[1;33m\u001b[0m\u001b[1;33m\u001b[0m\u001b[0m\n\u001b[0;32m    292\u001b[0m             \u001b[1;32mreturn\u001b[0m \u001b[0mf\u001b[0m\u001b[1;33m,\u001b[0m \u001b[0mg\u001b[0m\u001b[1;33m\u001b[0m\u001b[1;33m\u001b[0m\u001b[0m\n",
      "\u001b[1;32mc:\\Users\\eriko\\OneDrive - NTNU\\ntnu\\fag\\prosjekt\\TCN\\.venv\\lib\\site-packages\\scipy\\optimize\\optimize.py\u001b[0m in \u001b[0;36mfunction_wrapper\u001b[1;34m(*wrapper_args)\u001b[0m\n\u001b[0;32m    325\u001b[0m     \u001b[1;32mdef\u001b[0m \u001b[0mfunction_wrapper\u001b[0m\u001b[1;33m(\u001b[0m\u001b[1;33m*\u001b[0m\u001b[0mwrapper_args\u001b[0m\u001b[1;33m)\u001b[0m\u001b[1;33m:\u001b[0m\u001b[1;33m\u001b[0m\u001b[1;33m\u001b[0m\u001b[0m\n\u001b[0;32m    326\u001b[0m         \u001b[0mncalls\u001b[0m\u001b[1;33m[\u001b[0m\u001b[1;36m0\u001b[0m\u001b[1;33m]\u001b[0m \u001b[1;33m+=\u001b[0m \u001b[1;36m1\u001b[0m\u001b[1;33m\u001b[0m\u001b[1;33m\u001b[0m\u001b[0m\n\u001b[1;32m--> 327\u001b[1;33m         \u001b[1;32mreturn\u001b[0m \u001b[0mfunction\u001b[0m\u001b[1;33m(\u001b[0m\u001b[1;33m*\u001b[0m\u001b[1;33m(\u001b[0m\u001b[0mwrapper_args\u001b[0m \u001b[1;33m+\u001b[0m \u001b[0margs\u001b[0m\u001b[1;33m)\u001b[0m\u001b[1;33m)\u001b[0m\u001b[1;33m\u001b[0m\u001b[1;33m\u001b[0m\u001b[0m\n\u001b[0m\u001b[0;32m    328\u001b[0m \u001b[1;33m\u001b[0m\u001b[0m\n\u001b[0;32m    329\u001b[0m     \u001b[1;32mreturn\u001b[0m \u001b[0mncalls\u001b[0m\u001b[1;33m,\u001b[0m \u001b[0mfunction_wrapper\u001b[0m\u001b[1;33m\u001b[0m\u001b[1;33m\u001b[0m\u001b[0m\n",
      "\u001b[1;32mc:\\Users\\eriko\\OneDrive - NTNU\\ntnu\\fag\\prosjekt\\TCN\\.venv\\lib\\site-packages\\statsmodels\\base\\model.py\u001b[0m in \u001b[0;36mf\u001b[1;34m(params, *args)\u001b[0m\n\u001b[0;32m    498\u001b[0m \u001b[1;33m\u001b[0m\u001b[0m\n\u001b[0;32m    499\u001b[0m         \u001b[1;32mdef\u001b[0m \u001b[0mf\u001b[0m\u001b[1;33m(\u001b[0m\u001b[0mparams\u001b[0m\u001b[1;33m,\u001b[0m \u001b[1;33m*\u001b[0m\u001b[0margs\u001b[0m\u001b[1;33m)\u001b[0m\u001b[1;33m:\u001b[0m\u001b[1;33m\u001b[0m\u001b[1;33m\u001b[0m\u001b[0m\n\u001b[1;32m--> 500\u001b[1;33m             \u001b[1;32mreturn\u001b[0m \u001b[1;33m-\u001b[0m\u001b[0mself\u001b[0m\u001b[1;33m.\u001b[0m\u001b[0mloglike\u001b[0m\u001b[1;33m(\u001b[0m\u001b[0mparams\u001b[0m\u001b[1;33m,\u001b[0m \u001b[1;33m*\u001b[0m\u001b[0margs\u001b[0m\u001b[1;33m)\u001b[0m \u001b[1;33m/\u001b[0m \u001b[0mnobs\u001b[0m\u001b[1;33m\u001b[0m\u001b[1;33m\u001b[0m\u001b[0m\n\u001b[0m\u001b[0;32m    501\u001b[0m \u001b[1;33m\u001b[0m\u001b[0m\n\u001b[0;32m    502\u001b[0m         \u001b[1;32mif\u001b[0m \u001b[0mmethod\u001b[0m \u001b[1;33m==\u001b[0m \u001b[1;34m'newton'\u001b[0m\u001b[1;33m:\u001b[0m\u001b[1;33m\u001b[0m\u001b[1;33m\u001b[0m\u001b[0m\n",
      "\u001b[1;32mc:\\Users\\eriko\\OneDrive - NTNU\\ntnu\\fag\\prosjekt\\TCN\\.venv\\lib\\site-packages\\statsmodels\\tsa\\statespace\\mlemodel.py\u001b[0m in \u001b[0;36mloglike\u001b[1;34m(self, params, *args, **kwargs)\u001b[0m\n\u001b[0;32m    887\u001b[0m             \u001b[0mkwargs\u001b[0m\u001b[1;33m[\u001b[0m\u001b[1;34m'inversion_method'\u001b[0m\u001b[1;33m]\u001b[0m \u001b[1;33m=\u001b[0m \u001b[0mINVERT_UNIVARIATE\u001b[0m \u001b[1;33m|\u001b[0m \u001b[0mSOLVE_LU\u001b[0m\u001b[1;33m\u001b[0m\u001b[1;33m\u001b[0m\u001b[0m\n\u001b[0;32m    888\u001b[0m \u001b[1;33m\u001b[0m\u001b[0m\n\u001b[1;32m--> 889\u001b[1;33m         \u001b[0mloglike\u001b[0m \u001b[1;33m=\u001b[0m \u001b[0mself\u001b[0m\u001b[1;33m.\u001b[0m\u001b[0mssm\u001b[0m\u001b[1;33m.\u001b[0m\u001b[0mloglike\u001b[0m\u001b[1;33m(\u001b[0m\u001b[0mcomplex_step\u001b[0m\u001b[1;33m=\u001b[0m\u001b[0mcomplex_step\u001b[0m\u001b[1;33m,\u001b[0m \u001b[1;33m**\u001b[0m\u001b[0mkwargs\u001b[0m\u001b[1;33m)\u001b[0m\u001b[1;33m\u001b[0m\u001b[1;33m\u001b[0m\u001b[0m\n\u001b[0m\u001b[0;32m    890\u001b[0m \u001b[1;33m\u001b[0m\u001b[0m\n\u001b[0;32m    891\u001b[0m         \u001b[1;31m# Koopman, Shephard, and Doornik recommend maximizing the average\u001b[0m\u001b[1;33m\u001b[0m\u001b[1;33m\u001b[0m\u001b[1;33m\u001b[0m\u001b[0m\n",
      "\u001b[1;32mc:\\Users\\eriko\\OneDrive - NTNU\\ntnu\\fag\\prosjekt\\TCN\\.venv\\lib\\site-packages\\statsmodels\\tsa\\statespace\\kalman_filter.py\u001b[0m in \u001b[0;36mloglike\u001b[1;34m(self, **kwargs)\u001b[0m\n\u001b[0;32m    975\u001b[0m         kwargs.setdefault('conserve_memory',\n\u001b[0;32m    976\u001b[0m                           MEMORY_CONSERVE ^ MEMORY_NO_LIKELIHOOD)\n\u001b[1;32m--> 977\u001b[1;33m         \u001b[0mkfilter\u001b[0m \u001b[1;33m=\u001b[0m \u001b[0mself\u001b[0m\u001b[1;33m.\u001b[0m\u001b[0m_filter\u001b[0m\u001b[1;33m(\u001b[0m\u001b[1;33m**\u001b[0m\u001b[0mkwargs\u001b[0m\u001b[1;33m)\u001b[0m\u001b[1;33m\u001b[0m\u001b[1;33m\u001b[0m\u001b[0m\n\u001b[0m\u001b[0;32m    978\u001b[0m         loglikelihood_burn = kwargs.get('loglikelihood_burn',\n\u001b[0;32m    979\u001b[0m                                         self.loglikelihood_burn)\n",
      "\u001b[1;31mKeyboardInterrupt\u001b[0m: "
     ]
    }
   ],
   "source": [
    "calculate_sarima(electricity_raw, 24)"
   ]
  },
  {
   "cell_type": "code",
   "execution_count": null,
   "metadata": {},
   "outputs": [],
   "source": [
    "n=0\n",
    "train = revenue_raw[n][~np.isnan(revenue_raw[n])]\n",
    "train = electricity_raw[n][~np.isnan(electricity_raw[n])][-200:]\n",
    "train"
   ]
  },
  {
   "cell_type": "code",
   "execution_count": null,
   "metadata": {},
   "outputs": [],
   "source": [
    "modl = pm.auto_arima(train, start_p=1, start_q=1, start_P=1, start_Q=1,\n",
    "                     max_p=5, max_q=5, max_P=5, max_Q=5, seasonal=True,\n",
    "                     stepwise=True, suppress_warnings=False, D=1, max_D=3, m=4,\n",
    "                     error_action='ignore')"
   ]
  },
  {
   "cell_type": "code",
   "execution_count": null,
   "metadata": {},
   "outputs": [],
   "source": [
    "#modl.plot_diagnostics()\n",
    "modl.get_params(), modl.params()"
   ]
  },
  {
   "cell_type": "code",
   "execution_count": 123,
   "metadata": {},
   "outputs": [
    {
     "output_type": "execute_result",
     "data": {
      "text/plain": "({'pvalues': array([3.33772064e-01, 2.16619350e-36, 1.23825979e-08, 3.98335221e-01,\n         7.47892935e-04, 9.97509225e-01, 8.43560781e-01, 8.42625658e-01]),\n  'resid': array([ 506.1504825 ,  682.54100622,  921.39458089,  886.97517025,\n          317.23202174, -229.6026508 , -131.91262754,  131.77507873,\n          -10.42533265,  -84.55427202,  -97.00806442,   16.94187739,\n           -3.88532316,  -64.91746696,  -14.2864228 ,  -10.39021353,\n          -20.59047382,  -58.84515754,  -98.11991364,   64.98793062,\n           37.37549936,  -86.15540631,  -45.12101618,   43.08923392,\n          -15.4256177 ,  151.93937228,  214.11588645,  -52.9499655 ,\n           21.89324011,   28.21337019,    6.5005392 ,  -10.80944026,\n          -14.53093333,  -22.31076029,  -32.38529702,   39.23218935,\n          -78.72770086,   18.56215759,  -18.43440497,  -58.61734532,\n           34.8778147 ,  -82.88071308,   30.21962246,   26.4275328 ,\n          -94.52737073,   30.53264418, -113.46636357,   18.51363887,\n           40.0466357 ,  168.65997107,  139.91959939,   63.95285035,\n         -173.28504446,  210.39583505,  -37.18755699, -134.086732  ,\n          122.79615574,  -73.54449303,  -30.22890978,   21.11321477,\n          -32.94026927,  -27.47930831,   10.81617377,  -47.14294121,\n          -27.8938357 ,  -77.62597371,   15.60868545,   20.5867397 ,\n          -34.94208465,  -65.54677425, -124.9624798 ,   56.52825269,\n            4.36944553,  239.08558503,  -46.18870495,  134.93239504,\n          -25.21308669,   72.29896446,  -84.55643944,  -57.24162421,\n           80.15178229,  -21.41395892,  -29.29830425,  -57.1095176 ,\n           18.55951183,  -38.62645456,   21.83112426,  -71.54199781,\n          -35.49965138,  -27.01484005,  -32.84876439,  -19.79466451,\n           50.03492753,  -38.11759627,  -32.9072467 ,  -37.07061608,\n           14.40033761,  232.23255621,   41.53320326,   13.9821744 ,\n          -27.65143754,   18.61727741,   16.6563067 ,  -12.01426246,\n           14.36423019,  -13.08949346, -104.31327576,   62.05715292,\n          -31.30792274,  -52.51595518,  -67.32794104,   -1.82539258,\n           55.67604344,   50.37846816,  -16.43874168,  -10.90233943,\n           40.65318615,   66.50505512, -132.61390497,   -9.34374946,\n          141.40040975,  142.20092827,    1.58649606,  109.13993221,\n          -64.78652702,   41.10763299,  -14.28372203,   46.3402809 ,\n           58.21575898, -124.65051329,  -48.02855243,   42.85579118,\n           -7.47486091,  -76.5778939 ,  -55.17148074,   18.35483558,\n            3.62124154,   96.23540548,   37.08587793,   63.78970769,\n         -146.69973749,   32.66805081,   32.37616607,  -32.72782059,\n           -4.79926948,  174.88008044,   78.12698734,   -8.4381665 ,\n          -22.13446363,   15.70054686,  102.74779807,  -94.76036565,\n            4.75433102,  -88.56828083,   12.18872707,   16.45420471,\n          -28.22393102,  -77.51216973,   57.45446301,  -81.63179435,\n           13.31600314,  -67.29766707,  -30.64634547,   -4.43791813,\n            5.05959117,  -56.85530248, -124.1608537 ,   18.69437162,\n           51.8020462 ,   61.10391976,  123.01522176,   31.87005232,\n           10.97738396,   12.44976045,    4.41119552,  -28.83070761,\n          -29.10023084,  -38.08657381,  -27.22313889,   14.55935564,\n          -24.32897386,  -84.66282886,    9.2256746 ,   -9.31173003,\n          -63.18456148,  -46.75282662,   20.59602946,  -57.86053443,\n           75.5164839 , -163.84665212,  -37.03544743,    2.77947084,\n           60.36073183,   98.1023679 ,   80.88439158,   97.01724538,\n         -167.9124705 ,  -15.78893135,   91.08578388,   10.26641363]),\n  'order': (2, 0, 2),\n  'seasonal_order': (1, 1, 1, 4),\n  'oob': nan,\n  'aic': 2258.3360712837894,\n  'aicc': 2259.0899979853602,\n  'bic': 2284.5609885576337,\n  'bse': array([4.93061847e-01, 1.07449201e-01, 1.04367616e-01, 1.19335391e-01,\n         9.91306597e-02, 1.10943523e-01, 5.06549714e+00, 2.50957270e+04]),\n  'params': array([ 4.76565946e-01,  1.35364297e+00, -5.94308155e-01, -1.00790455e-01,\n          3.34208336e-01, -3.46335563e-04, -9.99629728e-01,  4.98240730e+03])},\n <class 'statsmodels.iolib.summary.Summary'>\n \"\"\"\n                                       SARIMAX Results                                      \n ===========================================================================================\n Dep. Variable:                                   y   No. Observations:                  200\n Model:             SARIMAX(2, 0, 2)x(1, 1, [1], 4)   Log Likelihood               -1121.168\n Date:                             Sat, 30 May 2020   AIC                           2258.336\n Time:                                     20:40:05   BIC                           2284.561\n Sample:                                          0   HQIC                          2268.953\n                                              - 200                                         \n Covariance Type:                               opg                                         \n ==============================================================================\n                  coef    std err          z      P>|z|      [0.025      0.975]\n ------------------------------------------------------------------------------\n intercept      0.4766      0.493      0.967      0.334      -0.490       1.443\n ar.L1          1.3536      0.107     12.598      0.000       1.143       1.564\n ar.L2         -0.5943      0.104     -5.694      0.000      -0.799      -0.390\n ma.L1         -0.1008      0.119     -0.845      0.398      -0.335       0.133\n ma.L2          0.3342      0.099      3.371      0.001       0.140       0.529\n ar.S.L4       -0.0003      0.111     -0.003      0.998      -0.218       0.217\n ma.S.L4       -0.9996      5.065     -0.197      0.844     -10.928       8.929\n sigma2      4982.4073   2.51e+04      0.199      0.843   -4.42e+04    5.42e+04\n ===================================================================================\n Ljung-Box (Q):                       80.57   Jarque-Bera (JB):                17.42\n Prob(Q):                              0.00   Prob(JB):                         0.00\n Heteroskedasticity (H):               0.81   Skew:                             0.54\n Prob(H) (two-sided):                  0.41   Kurtosis:                         3.98\n ===================================================================================\n \n Warnings:\n [1] Covariance matrix calculated using the outer product of gradients (complex-step).\n \"\"\")"
     },
     "metadata": {},
     "execution_count": 123
    }
   ],
   "source": [
    "modl.to_dict(), modl.summary()"
   ]
  },
  {
   "cell_type": "code",
   "execution_count": 135,
   "metadata": {},
   "outputs": [],
   "source": [
    "p = {}\n",
    "d = modl.to_dict()\n",
    "params = list(d[\"params\"][1:-1])  # not intercept and variance. list to pop\n",
    "order = d[\"order\"]\n",
    "seasonal_order = d[\"seasonal_order\"]\n",
    "arma = {\n",
    "    \"ar\": order[0],\n",
    "    \"ma\": order[2],\n",
    "    \"AR\": seasonal_order[0],\n",
    "    \"MA\": seasonal_order[2],\n",
    "}"
   ]
  },
  {
   "cell_type": "code",
   "execution_count": 136,
   "metadata": {},
   "outputs": [
    {
     "output_type": "stream",
     "name": "stdout",
     "text": "ar 2\n1\nar1\n2\nar2\nma 2\n1\nma1\n2\nma2\nAR 1\n1\nAR1\nMA 1\n1\nMA1\n"
    }
   ],
   "source": [
    "for term, num in arma.items():\n",
    "    print(term, num)\n",
    "    for i in range(num):\n",
    "        print(i+1)\n",
    "        print(\"\".join([term, str(i+1)]))\n",
    "        p[\"\".join([term, str(i+1)])] = params.pop()"
   ]
  },
  {
   "cell_type": "code",
   "execution_count": 137,
   "metadata": {},
   "outputs": [
    {
     "output_type": "execute_result",
     "data": {
      "text/plain": "{'ar1': -0.9996297276636779,\n 'ar2': -0.0003463355629819715,\n 'ma1': 0.3342083359384229,\n 'ma2': -0.10079045536267785,\n 'AR1': -0.5943081550552152,\n 'MA1': 1.3536429667105854}"
     },
     "metadata": {},
     "execution_count": 137
    }
   ],
   "source": [
    "p"
   ]
  },
  {
   "cell_type": "code",
   "execution_count": null,
   "metadata": {},
   "outputs": [],
   "source": []
  }
 ],
 "metadata": {
  "language_info": {
   "codemirror_mode": {
    "name": "ipython",
    "version": 3
   },
   "file_extension": ".py",
   "mimetype": "text/x-python",
   "name": "python",
   "nbconvert_exporter": "python",
   "pygments_lexer": "ipython3",
   "version": "3.7.6-final"
  },
  "orig_nbformat": 2,
  "kernelspec": {
   "name": "python37664bitvenvvenv0a826a9888d543f18db3a6c847c4f0db",
   "display_name": "Python 3.7.6 64-bit ('.venv': venv)"
  }
 },
 "nbformat": 4,
 "nbformat_minor": 2
}