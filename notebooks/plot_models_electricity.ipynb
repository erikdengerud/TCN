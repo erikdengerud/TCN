{
 "cells": [
  {
   "cell_type": "markdown",
   "metadata": {},
   "source": [
    "# Plotting predictions from models"
   ]
  },
  {
   "cell_type": "code",
   "execution_count": 2,
   "metadata": {},
   "outputs": [],
   "source": [
    "import pickle\n",
    "from electricity.model import TCN"
   ]
  },
  {
   "cell_type": "code",
   "execution_count": 1,
   "metadata": {},
   "outputs": [],
   "source": [
    "model_names = [\n",
    "    \"8e083e2c7751418587a58a960a7ac3fd\", \n",
    "    \"055ac1422aad4d0daa7d89dfa47c9e3e\", \n",
    "    \"f290f6f5f28a4c4abcbd08bc972f3a61\", \n",
    "    \"685b978096594f229009a3cfdca2092d\"\n",
    "]"
   ]
  },
  {
   "cell_type": "code",
   "execution_count": null,
   "metadata": {},
   "outputs": [],
   "source": [
    "models = []\n",
    "for name in model_names:\n",
    "    args = pickle.load(f\"{name}.pt_args.pkl\")\n",
    "    mod = TCN()"
   ]
  }
 ],
 "metadata": {
  "language_info": {
   "codemirror_mode": {
    "name": "ipython",
    "version": 3
   },
   "file_extension": ".py",
   "mimetype": "text/x-python",
   "name": "python",
   "nbconvert_exporter": "python",
   "pygments_lexer": "ipython3",
   "version": "3.7.6-final"
  },
  "orig_nbformat": 2,
  "kernelspec": {
   "name": "python37664bitvenvvenv0a826a9888d543f18db3a6c847c4f0db",
   "display_name": "Python 3.7.6 64-bit ('.venv': venv)"
  }
 },
 "nbformat": 4,
 "nbformat_minor": 2
}