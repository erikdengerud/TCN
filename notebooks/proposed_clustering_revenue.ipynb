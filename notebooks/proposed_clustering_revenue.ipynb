{
 "cells": [
  {
   "cell_type": "markdown",
   "metadata": {},
   "source": [
    "# Plotting visualization and prototypes that seems to make sense"
   ]
  },
  {
   "cell_type": "code",
   "execution_count": null,
   "metadata": {},
   "outputs": [],
   "source": [
    "import numpy as np\n",
    "from matplotlib import rc\n",
    "from matplotlib.collections import LineCollection\n",
    "import matplotlib.pyplot as plt\n",
    "import pandas as pd\n",
    "import pickle\n",
    "import sys\n",
    "import torch\n",
    "\n",
    "sys.path.append(\"./\")\n",
    "sys.path.append(\"../../\")\n",
    "\n",
    "from sklearn.cluster import KMeans, SpectralClustering, AgglomerativeClustering\n",
    "\n",
    "from clustering.cluster import cluster_dataset, cluster_similarity_matrix, create_prototypes\n",
    "from sklearn.preprocessing import StandardScaler\n",
    "from sklearn.decomposition import PCA\n",
    "from sklearn.manifold import TSNE\n",
    "\n",
    "from revenue.data import RevenueDataset\n",
    "\n",
    "from representations.representations import calculate_pca, calculate_sarima, calculate_tsne, calculate_embedded_id, calculate_representation\n",
    "from similarities.similarities import calculate_similarity_matrix\n",
    "from clustering.cluster import create_prototypes"
   ]
  },
  {
   "cell_type": "code",
   "execution_count": 11,
   "metadata": {},
   "outputs": [],
   "source": [
    "rc(\"text\", usetex=True)\n",
    "ts_style = {\n",
    "    \"axes.spines.left\": True,\n",
    "    \"axes.spines.right\": False,\n",
    "    \"axes.spines.bottom\": True,\n",
    "    \"axes.spines.top\": False,\n",
    "    \"axes.grid\": False,\n",
    "    \"xtick.bottom\": True,\n",
    "    \"ytick.left\": True,\n",
    "}\n",
    "cluster_style = {\n",
    "    \"axes.spines.left\": False,\n",
    "    \"axes.spines.right\": False,\n",
    "    \"axes.spines.bottom\": False,\n",
    "    \"axes.spines.top\": False,\n",
    "    \"axes.grid\": False,\n",
    "    \"xtick.bottom\": False,\n",
    "    \"ytick.left\": False,\n",
    "}"
   ]
  },
  {
   "cell_type": "code",
   "execution_count": 12,
   "metadata": {
    "tags": []
   },
   "outputs": [
    {
     "output_type": "stream",
     "name": "stdout",
     "text": "Dimension of X :  torch.Size([15229, 1, 40])\nDimension of Y :  torch.Size([15229, 1, 40])\nDimension of X :  torch.Size([15229, 1, 40])\nDimension of Y :  torch.Size([15229, 1, 40])\n"
    },
    {
     "output_type": "execute_result",
     "data": {
      "text/plain": "(array([-0.77477473, -0.77477473, -0.77477473, -0.77477473, -0.77477473,\n        -0.77477473, -0.77477473, -0.77477473, -0.77477473, -0.77477473,\n        -0.77477473, -0.77477473, -0.77477473, -0.77477473, -0.77477473,\n        -0.77477473, -0.77477473, -0.77477473, -0.77477473, -0.77477473,\n        -0.51213926, -0.51213926, -0.51213926,  0.01313177,  0.01313177,\n         0.01313177,  0.01313177,  0.2757673 ,  0.8010383 ,  0.5384028 ,\n         0.8010383 ,  1.0636739 ,  1.0636739 ,  2.1142159 ,  1.3263093 ,\n         1.8515804 ,  1.0636739 ,  1.8515804 ,  1.8515804 ,  2.3768513 ],\n       dtype=float32),\n array([ 0.,  0.,  0.,  0.,  0.,  0.,  0.,  0.,  0.,  0.,  0.,  0.,  0.,\n         0.,  0.,  0.,  0.,  0.,  0.,  0.,  1.,  1.,  1.,  3.,  3.,  3.,\n         3.,  4.,  6.,  5.,  6.,  7.,  7., 11.,  8., 10.,  7., 10., 10.,\n        12.], dtype=float32),\n (15229, 40),\n (15229, 40))"
     },
     "metadata": {},
     "execution_count": 12
    }
   ],
   "source": [
    "dataset_scaled = RevenueDataset(\n",
    "    file_path=\"revenue/data/processed_companies.csv\",\n",
    "    meta_path=\"revenue/data/comp_sect_meta.csv\",\n",
    "    data_scale=True,\n",
    "    start_date=\"2007-01-01\",\n",
    "    end_date=\"2017-01-01\",\n",
    ")\n",
    "dataset_unscaled = RevenueDataset(\n",
    "    file_path=\"revenue/data/processed_companies.csv\",\n",
    "    meta_path=\"revenue/data/comp_sect_meta.csv\",\n",
    "    data_scale=False,\n",
    "    start_date=\"2007-01-01\",\n",
    "    end_date=\"2017-01-01\",\n",
    ")\n",
    "dataset_scaled = dataset_scaled.X.squeeze().detach().numpy()\n",
    "dataset_unscaled = dataset_unscaled.X.squeeze().detach().numpy()\n",
    "dataset_scaled.shape, dataset_unscaled.shape"
   ]
  },
  {
   "cell_type": "code",
   "execution_count": 13,
   "metadata": {},
   "outputs": [],
   "source": [
    "algorithm = \"KMeans\"\n",
    "num_clusters = 100\n",
    "representation = \"raw\"\n",
    "scaled_representation = True\n",
    "num_components = 10\n",
    "similarity = \"correlation\""
   ]
  },
  {
   "cell_type": "code",
   "execution_count": 14,
   "metadata": {
    "tags": [
     "outputPrepend"
    ]
   },
   "outputs": [
    {
     "output_type": "stream",
     "name": "stdout",
     "text": "ia 127624.23\nstart iteration\ndone sorting\nend inner loop\nIteration 10, inertia 127468.48\nstart iteration\ndone sorting\nend inner loop\nIteration 11, inertia 127369.945\nstart iteration\ndone sorting\nend inner loop\nIteration 12, inertia 127268.4\nstart iteration\ndone sorting\nend inner loop\nIteration 13, inertia 127199.25\nstart iteration\ndone sorting\nend inner loop\nIteration 14, inertia 127153.32\nstart iteration\ndone sorting\nend inner loop\nIteration 15, inertia 127119.06\nstart iteration\ndone sorting\nend inner loop\nIteration 16, inertia 127089.03\nstart iteration\ndone sorting\nend inner loop\nIteration 17, inertia 127065.03\nstart iteration\ndone sorting\nend inner loop\nIteration 18, inertia 127032.42\nstart iteration\ndone sorting\nend inner loop\nIteration 19, inertia 127001.375\nstart iteration\ndone sorting\nend inner loop\nIteration 20, inertia 126975.51\nstart iteration\ndone sorting\nend inner loop\nIteration 21, inertia 126953.62\nstart iteration\ndone sorting\nend inner loop\nIteration 22, inertia 126936.5\nstart iteration\ndone sorting\nend inner loop\nIteration 23, inertia 126919.64\nstart iteration\ndone sorting\nend inner loop\nIteration 24, inertia 126907.2\nstart iteration\ndone sorting\nend inner loop\nIteration 25, inertia 126893.67\nstart iteration\ndone sorting\nend inner loop\nIteration 26, inertia 126881.375\nstart iteration\ndone sorting\nend inner loop\nIteration 27, inertia 126871.63\nstart iteration\ndone sorting\nend inner loop\nIteration 28, inertia 126863.22\nstart iteration\ndone sorting\nend inner loop\nIteration 29, inertia 126852.12\nstart iteration\ndone sorting\nend inner loop\nIteration 30, inertia 126836.24\nstart iteration\ndone sorting\nend inner loop\nIteration 31, inertia 126825.86\nstart iteration\ndone sorting\nend inner loop\nIteration 32, inertia 126819.59\nstart iteration\ndone sorting\nend inner loop\nIteration 33, inertia 126809.9\nstart iteration\ndone sorting\nend inner loop\nIteration 34, inertia 126800.195\nstart iteration\ndone sorting\nend inner loop\nIteration 35, inertia 126790.625\nstart iteration\ndone sorting\nend inner loop\nIteration 36, inertia 126782.32\nstart iteration\ndone sorting\nend inner loop\nIteration 37, inertia 126775.266\nstart iteration\ndone sorting\nend inner loop\nIteration 38, inertia 126764.945\nstart iteration\ndone sorting\nend inner loop\nIteration 39, inertia 126755.68\nstart iteration\ndone sorting\nend inner loop\nIteration 40, inertia 126744.766\nstart iteration\ndone sorting\nend inner loop\nIteration 41, inertia 126738.58\nstart iteration\ndone sorting\nend inner loop\nIteration 42, inertia 126735.8\nstart iteration\ndone sorting\nend inner loop\nIteration 43, inertia 126734.31\nstart iteration\ndone sorting\nend inner loop\nIteration 44, inertia 126732.81\nstart iteration\ndone sorting\nend inner loop\nIteration 45, inertia 126731.336\nstart iteration\ndone sorting\nend inner loop\nIteration 46, inertia 126730.06\nstart iteration\ndone sorting\nend inner loop\nIteration 47, inertia 126728.56\nstart iteration\ndone sorting\nend inner loop\nIteration 48, inertia 126728.28\nstart iteration\ndone sorting\nend inner loop\nIteration 49, inertia 126727.51\nstart iteration\ndone sorting\nend inner loop\nIteration 50, inertia 126726.92\nstart iteration\ndone sorting\nend inner loop\nIteration 51, inertia 126726.68\nstart iteration\ndone sorting\nend inner loop\nIteration 52, inertia 126726.38\nstart iteration\ndone sorting\nend inner loop\nIteration 53, inertia 126726.19\nstart iteration\ndone sorting\nend inner loop\nIteration 54, inertia 126726.19\ncenter shift 0.000000e+00 within tolerance 6.058923e-05\nInitialization complete\nstart iteration\ndone sorting\nend inner loop\nIteration 0, inertia 139467.64\nstart iteration\ndone sorting\nend inner loop\nIteration 1, inertia 131668.58\nstart iteration\ndone sorting\nend inner loop\nIteration 2, inertia 129938.53\nstart iteration\ndone sorting\nend inner loop\nIteration 3, inertia 129158.42\nstart iteration\ndone sorting\nend inner loop\nIteration 4, inertia 128677.84\nstart iteration\ndone sorting\nend inner loop\nIteration 5, inertia 128307.805\nstart iteration\ndone sorting\nend inner loop\nIteration 6, inertia 128003.945\nstart iteration\ndone sorting\nend inner loop\nIteration 7, inertia 127756.41\nstart iteration\ndone sorting\nend inner loop\nIteration 8, inertia 127524.67\nstart iteration\ndone sorting\nend inner loop\nIteration 9, inertia 127299.89\nstart iteration\ndone sorting\nend inner loop\nIteration 10, inertia 127078.125\nstart iteration\ndone sorting\nend inner loop\nIteration 11, inertia 126939.91\nstart iteration\ndone sorting\nend inner loop\nIteration 12, inertia 126848.36\nstart iteration\ndone sorting\nend inner loop\nIteration 13, inertia 126772.12\nstart iteration\ndone sorting\nend inner loop\nIteration 14, inertia 126710.38\nstart iteration\ndone sorting\nend inner loop\nIteration 15, inertia 126662.84\nstart iteration\ndone sorting\nend inner loop\nIteration 16, inertia 126632.7\nstart iteration\ndone sorting\nend inner loop\nIteration 17, inertia 126613.23\nstart iteration\ndone sorting\nend inner loop\nIteration 18, inertia 126600.47\nstart iteration\ndone sorting\nend inner loop\nIteration 19, inertia 126590.13\nstart iteration\ndone sorting\nend inner loop\nIteration 20, inertia 126577.51\nstart iteration\ndone sorting\nend inner loop\nIteration 21, inertia 126567.86\nstart iteration\ndone sorting\nend inner loop\nIteration 22, inertia 126558.01\nstart iteration\ndone sorting\nend inner loop\nIteration 23, inertia 126544.414\nstart iteration\ndone sorting\nend inner loop\nIteration 24, inertia 126534.59\nstart iteration\ndone sorting\nend inner loop\nIteration 25, inertia 126525.195\nstart iteration\ndone sorting\nend inner loop\nIteration 26, inertia 126513.39\nstart iteration\ndone sorting\nend inner loop\nIteration 27, inertia 126503.95\nstart iteration\ndone sorting\nend inner loop\nIteration 28, inertia 126493.805\nstart iteration\ndone sorting\nend inner loop\nIteration 29, inertia 126482.51\nstart iteration\ndone sorting\nend inner loop\nIteration 30, inertia 126476.87\nstart iteration\ndone sorting\nend inner loop\nIteration 31, inertia 126469.55\nstart iteration\ndone sorting\nend inner loop\nIteration 32, inertia 126465.0\nstart iteration\ndone sorting\nend inner loop\nIteration 33, inertia 126461.086\nstart iteration\ndone sorting\nend inner loop\nIteration 34, inertia 126457.46\nstart iteration\ndone sorting\nend inner loop\nIteration 35, inertia 126451.38\nstart iteration\ndone sorting\nend inner loop\nIteration 36, inertia 126445.78\nstart iteration\ndone sorting\nend inner loop\nIteration 37, inertia 126441.26\nstart iteration\ndone sorting\nend inner loop\nIteration 38, inertia 126435.11\nstart iteration\ndone sorting\nend inner loop\nIteration 39, inertia 126428.51\nstart iteration\ndone sorting\nend inner loop\nIteration 40, inertia 126423.32\nstart iteration\ndone sorting\nend inner loop\nIteration 41, inertia 126417.16\nstart iteration\ndone sorting\nend inner loop\nIteration 42, inertia 126411.5\nstart iteration\ndone sorting\nend inner loop\nIteration 43, inertia 126407.29\nstart iteration\ndone sorting\nend inner loop\nIteration 44, inertia 126405.36\nstart iteration\ndone sorting\nend inner loop\nIteration 45, inertia 126404.36\nstart iteration\ndone sorting\nend inner loop\nIteration 46, inertia 126403.24\nstart iteration\ndone sorting\nend inner loop\nIteration 47, inertia 126401.7\nstart iteration\ndone sorting\nend inner loop\nIteration 48, inertia 126401.375\nstart iteration\ndone sorting\nend inner loop\nIteration 49, inertia 126400.984\nstart iteration\ndone sorting\nend inner loop\nIteration 50, inertia 126400.4\nstart iteration\ndone sorting\nend inner loop\nIteration 51, inertia 126400.03\nstart iteration\ndone sorting\nend inner loop\nIteration 52, inertia 126399.77\nstart iteration\ndone sorting\nend inner loop\nIteration 53, inertia 126399.54\nstart iteration\ndone sorting\nend inner loop\nIteration 54, inertia 126399.21\nstart iteration\ndone sorting\nend inner loop\nIteration 55, inertia 126398.336\nstart iteration\ndone sorting\nend inner loop\nIteration 56, inertia 126397.945\nstart iteration\ndone sorting\nend inner loop\nIteration 57, inertia 126397.32\nstart iteration\ndone sorting\nend inner loop\nIteration 58, inertia 126396.52\nstart iteration\ndone sorting\nend inner loop\nIteration 59, inertia 126395.93\nstart iteration\ndone sorting\nend inner loop\nIteration 60, inertia 126395.49\nstart iteration\ndone sorting\nend inner loop\nIteration 61, inertia 126394.766\nstart iteration\ndone sorting\nend inner loop\nIteration 62, inertia 126394.16\nstart iteration\ndone sorting\nend inner loop\nIteration 63, inertia 126393.22\nstart iteration\ndone sorting\nend inner loop\nIteration 64, inertia 126392.76\nstart iteration\ndone sorting\nend inner loop\nIteration 65, inertia 126392.48\nstart iteration\ndone sorting\nend inner loop\nIteration 66, inertia 126392.35\nstart iteration\ndone sorting\nend inner loop\nIteration 67, inertia 126392.03\nstart iteration\ndone sorting\nend inner loop\nIteration 68, inertia 126391.695\nstart iteration\ndone sorting\nend inner loop\nIteration 69, inertia 126391.45\nstart iteration\ndone sorting\nend inner loop\nIteration 70, inertia 126391.27\nstart iteration\ndone sorting\nend inner loop\nIteration 71, inertia 126391.04\nstart iteration\ndone sorting\nend inner loop\nIteration 72, inertia 126390.875\nstart iteration\ndone sorting\nend inner loop\nIteration 73, inertia 126390.766\nstart iteration\ndone sorting\nend inner loop\nIteration 74, inertia 126390.695\nstart iteration\ndone sorting\nend inner loop\nIteration 75, inertia 126390.63\nstart iteration\ndone sorting\nend inner loop\nIteration 76, inertia 126390.63\ncenter shift 0.000000e+00 within tolerance 6.058923e-05\nInitialization complete\nstart iteration\ndone sorting\nend inner loop\nIteration 0, inertia 140645.67\nstart iteration\ndone sorting\nend inner loop\nIteration 1, inertia 132754.34\nstart iteration\ndone sorting\nend inner loop\nIteration 2, inertia 130968.91\nstart iteration\ndone sorting\nend inner loop\nIteration 3, inertia 129932.15\nstart iteration\ndone sorting\nend inner loop\nIteration 4, inertia 129246.68\nstart iteration\ndone sorting\nend inner loop\nIteration 5, inertia 128819.664\nstart iteration\ndone sorting\nend inner loop\nIteration 6, inertia 128540.73\nstart iteration\ndone sorting\nend inner loop\nIteration 7, inertia 128353.49\nstart iteration\ndone sorting\nend inner loop\nIteration 8, inertia 128208.11\nstart iteration\ndone sorting\nend inner loop\nIteration 9, inertia 128092.5\nstart iteration\ndone sorting\nend inner loop\nIteration 10, inertia 127984.47\nstart iteration\ndone sorting\nend inner loop\nIteration 11, inertia 127895.64\nstart iteration\ndone sorting\nend inner loop\nIteration 12, inertia 127823.52\nstart iteration\ndone sorting\nend inner loop\nIteration 13, inertia 127759.14\nstart iteration\ndone sorting\nend inner loop\nIteration 14, inertia 127693.35\nstart iteration\ndone sorting\nend inner loop\nIteration 15, inertia 127637.5\nstart iteration\ndone sorting\nend inner loop\nIteration 16, inertia 127599.586\nstart iteration\ndone sorting\nend inner loop\nIteration 17, inertia 127565.0\nstart iteration\ndone sorting\nend inner loop\nIteration 18, inertia 127543.19\nstart iteration\ndone sorting\nend inner loop\nIteration 19, inertia 127525.3\nstart iteration\ndone sorting\nend inner loop\nIteration 20, inertia 127511.35\nstart iteration\ndone sorting\nend inner loop\nIteration 21, inertia 127504.734\nstart iteration\ndone sorting\nend inner loop\nIteration 22, inertia 127501.336\nstart iteration\ndone sorting\nend inner loop\nIteration 23, inertia 127497.04\nstart iteration\ndone sorting\nend inner loop\nIteration 24, inertia 127493.57\nstart iteration\ndone sorting\nend inner loop\nIteration 25, inertia 127488.74\nstart iteration\ndone sorting\nend inner loop\nIteration 26, inertia 127480.055\nstart iteration\ndone sorting\nend inner loop\nIteration 27, inertia 127466.77\nstart iteration\ndone sorting\nend inner loop\nIteration 28, inertia 127452.97\nstart iteration\ndone sorting\nend inner loop\nIteration 29, inertia 127430.18\nstart iteration\ndone sorting\nend inner loop\nIteration 30, inertia 127416.695\nstart iteration\ndone sorting\nend inner loop\nIteration 31, inertia 127403.06\nstart iteration\ndone sorting\nend inner loop\nIteration 32, inertia 127390.49\nstart iteration\ndone sorting\nend inner loop\nIteration 33, inertia 127373.42\nstart iteration\ndone sorting\nend inner loop\nIteration 34, inertia 127361.08\nstart iteration\ndone sorting\nend inner loop\nIteration 35, inertia 127353.91\nstart iteration\ndone sorting\nend inner loop\nIteration 36, inertia 127349.23\nstart iteration\ndone sorting\nend inner loop\nIteration 37, inertia 127345.234\nstart iteration\ndone sorting\nend inner loop\nIteration 38, inertia 127338.266\nstart iteration\ndone sorting\nend inner loop\nIteration 39, inertia 127329.22\nstart iteration\ndone sorting\nend inner loop\nIteration 40, inertia 127311.25\nstart iteration\ndone sorting\nend inner loop\nIteration 41, inertia 127288.01\nstart iteration\ndone sorting\nend inner loop\nIteration 42, inertia 127258.125\nstart iteration\ndone sorting\nend inner loop\nIteration 43, inertia 127232.664\nstart iteration\ndone sorting\nend inner loop\nIteration 44, inertia 127205.38\nstart iteration\ndone sorting\nend inner loop\nIteration 45, inertia 127183.85\nstart iteration\ndone sorting\nend inner loop\nIteration 46, inertia 127166.48\nstart iteration\ndone sorting\nend inner loop\nIteration 47, inertia 127158.75\nstart iteration\ndone sorting\nend inner loop\nIteration 48, inertia 127151.16\nstart iteration\ndone sorting\nend inner loop\nIteration 49, inertia 127148.1\nstart iteration\ndone sorting\nend inner loop\nIteration 50, inertia 127146.61\nstart iteration\ndone sorting\nend inner loop\nIteration 51, inertia 127144.25\nstart iteration\ndone sorting\nend inner loop\nIteration 52, inertia 127142.914\nstart iteration\ndone sorting\nend inner loop\nIteration 53, inertia 127142.01\nstart iteration\ndone sorting\nend inner loop\nIteration 54, inertia 127141.73\nstart iteration\ndone sorting\nend inner loop\nIteration 55, inertia 127141.64\nstart iteration\ndone sorting\nend inner loop\nIteration 56, inertia 127141.555\nstart iteration\ndone sorting\nend inner loop\nIteration 57, inertia 127141.38\nstart iteration\ndone sorting\nend inner loop\nIteration 58, inertia 127141.24\nstart iteration\ndone sorting\nend inner loop\nIteration 59, inertia 127140.94\nstart iteration\ndone sorting\nend inner loop\nIteration 60, inertia 127140.66\nstart iteration\ndone sorting\nend inner loop\nIteration 61, inertia 127140.66\ncenter shift 0.000000e+00 within tolerance 6.058923e-05\nInitialization complete\nstart iteration\ndone sorting\nend inner loop\nIteration 0, inertia 139209.27\nstart iteration\ndone sorting\nend inner loop\nIteration 1, inertia 132063.25\nstart iteration\ndone sorting\nend inner loop\nIteration 2, inertia 130214.84\nstart iteration\ndone sorting\nend inner loop\nIteration 3, inertia 129011.85\nstart iteration\ndone sorting\nend inner loop\nIteration 4, inertia 128321.79\nstart iteration\ndone sorting\nend inner loop\nIteration 5, inertia 127893.3\nstart iteration\ndone sorting\nend inner loop\nIteration 6, inertia 127617.414\nstart iteration\ndone sorting\nend inner loop\nIteration 7, inertia 127437.12\nstart iteration\ndone sorting\nend inner loop\nIteration 8, inertia 127310.47\nstart iteration\ndone sorting\nend inner loop\nIteration 9, inertia 127200.85\nstart iteration\ndone sorting\nend inner loop\nIteration 10, inertia 127121.63\nstart iteration\ndone sorting\nend inner loop\nIteration 11, inertia 127037.3\nstart iteration\ndone sorting\nend inner loop\nIteration 12, inertia 126996.586\nstart iteration\ndone sorting\nend inner loop\nIteration 13, inertia 126957.16\nstart iteration\ndone sorting\nend inner loop\nIteration 14, inertia 126925.305\nstart iteration\ndone sorting\nend inner loop\nIteration 15, inertia 126890.88\nstart iteration\ndone sorting\nend inner loop\nIteration 16, inertia 126869.984\nstart iteration\ndone sorting\nend inner loop\nIteration 17, inertia 126854.4\nstart iteration\ndone sorting\nend inner loop\nIteration 18, inertia 126839.8\nstart iteration\ndone sorting\nend inner loop\nIteration 19, inertia 126824.36\nstart iteration\ndone sorting\nend inner loop\nIteration 20, inertia 126807.76\nstart iteration\ndone sorting\nend inner loop\nIteration 21, inertia 126782.09\nstart iteration\ndone sorting\nend inner loop\nIteration 22, inertia 126751.9\nstart iteration\ndone sorting\nend inner loop\nIteration 23, inertia 126727.28\nstart iteration\ndone sorting\nend inner loop\nIteration 24, inertia 126703.56\nstart iteration\ndone sorting\nend inner loop\nIteration 25, inertia 126683.86\nstart iteration\ndone sorting\nend inner loop\nIteration 26, inertia 126670.37\nstart iteration\ndone sorting\nend inner loop\nIteration 27, inertia 126661.77\nstart iteration\ndone sorting\nend inner loop\nIteration 28, inertia 126656.88\nstart iteration\ndone sorting\nend inner loop\nIteration 29, inertia 126651.68\nstart iteration\ndone sorting\nend inner loop\nIteration 30, inertia 126646.53\nstart iteration\ndone sorting\nend inner loop\nIteration 31, inertia 126642.61\nstart iteration\ndone sorting\nend inner loop\nIteration 32, inertia 126639.67\nstart iteration\ndone sorting\nend inner loop\nIteration 33, inertia 126637.12\nstart iteration\ndone sorting\nend inner loop\nIteration 34, inertia 126634.484\nstart iteration\ndone sorting\nend inner loop\nIteration 35, inertia 126632.34\nstart iteration\ndone sorting\nend inner loop\nIteration 36, inertia 126629.9\nstart iteration\ndone sorting\nend inner loop\nIteration 37, inertia 126629.164\nstart iteration\ndone sorting\nend inner loop\nIteration 38, inertia 126628.46\nstart iteration\ndone sorting\nend inner loop\nIteration 39, inertia 126627.27\nstart iteration\ndone sorting\nend inner loop\nIteration 40, inertia 126625.414\nstart iteration\ndone sorting\nend inner loop\nIteration 41, inertia 126624.16\nstart iteration\ndone sorting\nend inner loop\nIteration 42, inertia 126622.14\nstart iteration\ndone sorting\nend inner loop\nIteration 43, inertia 126619.42\nstart iteration\ndone sorting\nend inner loop\nIteration 44, inertia 126617.65\nstart iteration\ndone sorting\nend inner loop\nIteration 45, inertia 126615.45\nstart iteration\ndone sorting\nend inner loop\nIteration 46, inertia 126614.06\nstart iteration\ndone sorting\nend inner loop\nIteration 47, inertia 126612.21\nstart iteration\ndone sorting\nend inner loop\nIteration 48, inertia 126610.97\nstart iteration\ndone sorting\nend inner loop\nIteration 49, inertia 126609.73\nstart iteration\ndone sorting\nend inner loop\nIteration 50, inertia 126608.58\nstart iteration\ndone sorting\nend inner loop\nIteration 51, inertia 126607.4\nstart iteration\ndone sorting\nend inner loop\nIteration 52, inertia 126606.2\nstart iteration\ndone sorting\nend inner loop\nIteration 53, inertia 126605.41\nstart iteration\ndone sorting\nend inner loop\nIteration 54, inertia 126604.984\nstart iteration\ndone sorting\nend inner loop\nIteration 55, inertia 126604.65\nstart iteration\ndone sorting\nend inner loop\nIteration 56, inertia 126604.32\nstart iteration\ndone sorting\nend inner loop\nIteration 57, inertia 126603.87\nstart iteration\ndone sorting\nend inner loop\nIteration 58, inertia 126603.4\nstart iteration\ndone sorting\nend inner loop\nIteration 59, inertia 126603.17\nstart iteration\ndone sorting\nend inner loop\nIteration 60, inertia 126602.93\nstart iteration\ndone sorting\nend inner loop\nIteration 61, inertia 126602.89\nstart iteration\ndone sorting\nend inner loop\nIteration 62, inertia 126602.73\nstart iteration\ndone sorting\nend inner loop\nIteration 63, inertia 126602.71\ncenter shift 2.930923e-05 within tolerance 6.058923e-05\n 0 : 22\n 1 : 503\n 2 : 224\n 3 : 45\n 4 : 297\n 5 : 257\n 6 : 90\n 7 : 98\n 8 : 150\n 9 : 117\n10 : 154\n11 : 229\n12 : 169\n13 : 330\n14 : 211\n15 : 373\n16 : 110\n17 : 135\n18 : 347\n19 : 298\n20 : 67\n21 : 154\n22 : 34\n23 : 47\n24 : 43\n25 : 192\n26 : 454\n27 : 74\n28 : 260\n29 : 199\n30 : 114\n31 : 149\n32 : 288\n33 : 90\n34 : 76\n35 : 36\n36 : 112\n37 : 88\n38 : 97\n39 : 116\n40 : 215\n41 : 343\n42 : 151\n43 : 55\n44 : 223\n45 : 131\n46 : 205\n47 : 36\n48 : 34\n49 : 81\n50 : 329\n51 : 91\n52 : 88\n53 : 254\n54 : 69\n55 : 89\n56 : 471\n57 : 300\n58 : 76\n59 : 59\n60 : 310\n61 : 304\n62 : 28\n63 : 17\n64 : 85\n65 : 63\n66 : 49\n67 : 126\n68 : 137\n69 : 160\n70 : 36\n71 : 45\n72 : 57\n73 : 31\n74 : 197\n75 : 94\n76 : 438\n77 : 278\n78 : 35\n79 : 108\n80 : 89\n81 : 43\n82 : 29\n83 : 416\n84 : 63\n85 : 59\n86 : 404\n87 : 29\n88 : 91\n89 : 46\n90 : 199\n91 : 82\n92 : 240\n93 : 64\n94 : 141\n95 : 31\n96 : 201\n97 : 41\n98 : 61\n99 : 153\n"
    }
   ],
   "source": [
    "if algorithm == \"KMeans\":\n",
    "    method = KMeans(n_clusters=num_clusters)\n",
    "    dist_or_sim_or_feat = \"feat\"\n",
    "elif algorithm in (\"Agglomerative\"):\n",
    "    method = AgglomerativeClustering(\n",
    "        n_clusters=num_clusters, affinity=\"precomputed\", linkage=\"average\"\n",
    "    )\n",
    "    dist_or_sim_or_feat = \"dist\"\n",
    "elif algorithm in (\"Spectral clustering\"):\n",
    "    method = SpectralClustering(\n",
    "        n_clusters=num_clusters, affinity=\"precomputed\"\n",
    "    )\n",
    "    dist_or_sim_or_feat = \"sim\"\n",
    "\n",
    "\"\"\" Representation \"\"\"\n",
    "if scaled_representation:\n",
    "    rep = calculate_representation(\n",
    "        dataset_scaled,\n",
    "        representation=representation,\n",
    "        num_components=num_components,\n",
    "        dataset=\"electricity\"\n",
    "    )\n",
    "else:\n",
    "    rep = calculate_representation(\n",
    "        dataset_unscaled,\n",
    "        representation=representation,\n",
    "        num_components=num_components,\n",
    "        dataset=\"electricity\"\n",
    "    )\n",
    "\n",
    "\"\"\" Similarity \"\"\"\n",
    "if dist_or_sim_or_feat == \"feat\":\n",
    "    D = rep\n",
    "    S = calculate_similarity_matrix(rep, metric=similarity, dist_or_sim=\"dist\")\n",
    "else:\n",
    "    D = calculate_similarity_matrix(rep, metric=similarity, dist_or_sim=dist_or_sim_or_feat)\n",
    "    S = D\n",
    "\n",
    "\n",
    "\"\"\" Clustering \"\"\"\n",
    "clusters = method.fit_predict(D)\n",
    "cluster_dist = {\n",
    "    c: len(clusters[np.where(clusters == c)]) for c in range(len(set(clusters)))\n",
    "}\n",
    "for k, v in cluster_dist.items():\n",
    "    print(f\"{k:2} : {v}\")\n",
    "cluster_dict = {i: clusters[i] for i in range(len(clusters))}"
   ]
  },
  {
   "cell_type": "code",
   "execution_count": 18,
   "metadata": {},
   "outputs": [],
   "source": [
    "X_scaled_pca = PCA(n_components=10).fit_transform(dataset_scaled)\n",
    "X_unsscaled_pca = PCA(n_components=10).fit_transform(dataset_unscaled)"
   ]
  },
  {
   "cell_type": "code",
   "execution_count": null,
   "metadata": {},
   "outputs": [],
   "source": [
    "emb_scaled = TSNE(n_components=2, verbose=1).fit_transform(X_scaled_pca)"
   ]
  },
  {
   "cell_type": "code",
   "execution_count": null,
   "metadata": {},
   "outputs": [],
   "source": [
    "emb_unscaled = TSNE(n_components=2).fit_transform(X_unscaled_pca)"
   ]
  },
  {
   "cell_type": "code",
   "execution_count": 16,
   "metadata": {},
   "outputs": [
    {
     "output_type": "error",
     "ename": "MemoryError",
     "evalue": "Unable to allocate 885. MiB for an array with shape (115953606,) and data type float64",
     "traceback": [
      "\u001b[1;31m---------------------------------------------------------------------------\u001b[0m",
      "\u001b[1;31mMemoryError\u001b[0m                               Traceback (most recent call last)",
      "\u001b[1;32m<ipython-input-16-4474ecc37132>\u001b[0m in \u001b[0;36m<module>\u001b[1;34m\u001b[0m\n\u001b[1;32m----> 1\u001b[1;33m \u001b[0memb_scaled\u001b[0m \u001b[1;33m=\u001b[0m \u001b[0mcalculate_tsne\u001b[0m\u001b[1;33m(\u001b[0m\u001b[0mX_scaled_pca\u001b[0m\u001b[1;33m,\u001b[0m \u001b[0mnum_components\u001b[0m\u001b[1;33m=\u001b[0m\u001b[1;36m2\u001b[0m\u001b[1;33m)\u001b[0m\u001b[1;33m\u001b[0m\u001b[1;33m\u001b[0m\u001b[0m\n\u001b[0m\u001b[0;32m      2\u001b[0m \u001b[0memb_unscaled\u001b[0m \u001b[1;33m=\u001b[0m \u001b[0mcalculate_tsne\u001b[0m\u001b[1;33m(\u001b[0m\u001b[0mX_unscaled_pca\u001b[0m\u001b[1;33m,\u001b[0m \u001b[0mnum_components\u001b[0m\u001b[1;33m=\u001b[0m\u001b[1;36m2\u001b[0m\u001b[1;33m)\u001b[0m\u001b[1;33m\u001b[0m\u001b[1;33m\u001b[0m\u001b[0m\n",
      "\u001b[1;32mc:\\Users\\eriko\\OneDrive - NTNU\\ntnu\\fag\\prosjekt\\TCN\\representations\\representations.py\u001b[0m in \u001b[0;36mcalculate_tsne\u001b[1;34m(Y, num_components)\u001b[0m\n\u001b[0;32m     83\u001b[0m         \u001b[0mY\u001b[0m \u001b[1;33m=\u001b[0m \u001b[0mpca\u001b[0m\u001b[1;33m.\u001b[0m\u001b[0mfit_transform\u001b[0m\u001b[1;33m(\u001b[0m\u001b[0mY\u001b[0m\u001b[1;33m)\u001b[0m\u001b[1;33m\u001b[0m\u001b[1;33m\u001b[0m\u001b[0m\n\u001b[0;32m     84\u001b[0m     \u001b[0mtsne\u001b[0m \u001b[1;33m=\u001b[0m \u001b[0mTSNE\u001b[0m\u001b[1;33m(\u001b[0m\u001b[0mn_components\u001b[0m\u001b[1;33m=\u001b[0m\u001b[0mnum_components\u001b[0m\u001b[1;33m,\u001b[0m \u001b[0mmethod\u001b[0m\u001b[1;33m=\u001b[0m\u001b[1;34m\"exact\"\u001b[0m\u001b[1;33m)\u001b[0m\u001b[1;33m\u001b[0m\u001b[1;33m\u001b[0m\u001b[0m\n\u001b[1;32m---> 85\u001b[1;33m     \u001b[0mY_tsne\u001b[0m \u001b[1;33m=\u001b[0m \u001b[0mtsne\u001b[0m\u001b[1;33m.\u001b[0m\u001b[0mfit_transform\u001b[0m\u001b[1;33m(\u001b[0m\u001b[0mY\u001b[0m\u001b[1;33m)\u001b[0m\u001b[1;33m\u001b[0m\u001b[1;33m\u001b[0m\u001b[0m\n\u001b[0m\u001b[0;32m     86\u001b[0m     \u001b[1;32mreturn\u001b[0m \u001b[0mY_tsne\u001b[0m\u001b[1;33m\u001b[0m\u001b[1;33m\u001b[0m\u001b[0m\n\u001b[0;32m     87\u001b[0m \u001b[1;33m\u001b[0m\u001b[0m\n",
      "\u001b[1;32mc:\\Users\\eriko\\OneDrive - NTNU\\ntnu\\fag\\prosjekt\\TCN\\.venv\\lib\\site-packages\\sklearn\\manifold\\_t_sne.py\u001b[0m in \u001b[0;36mfit_transform\u001b[1;34m(self, X, y)\u001b[0m\n\u001b[0;32m    884\u001b[0m             \u001b[0mEmbedding\u001b[0m \u001b[0mof\u001b[0m \u001b[0mthe\u001b[0m \u001b[0mtraining\u001b[0m \u001b[0mdata\u001b[0m \u001b[1;32min\u001b[0m \u001b[0mlow\u001b[0m\u001b[1;33m-\u001b[0m\u001b[0mdimensional\u001b[0m \u001b[0mspace\u001b[0m\u001b[1;33m.\u001b[0m\u001b[1;33m\u001b[0m\u001b[1;33m\u001b[0m\u001b[0m\n\u001b[0;32m    885\u001b[0m         \"\"\"\n\u001b[1;32m--> 886\u001b[1;33m         \u001b[0membedding\u001b[0m \u001b[1;33m=\u001b[0m \u001b[0mself\u001b[0m\u001b[1;33m.\u001b[0m\u001b[0m_fit\u001b[0m\u001b[1;33m(\u001b[0m\u001b[0mX\u001b[0m\u001b[1;33m)\u001b[0m\u001b[1;33m\u001b[0m\u001b[1;33m\u001b[0m\u001b[0m\n\u001b[0m\u001b[0;32m    887\u001b[0m         \u001b[0mself\u001b[0m\u001b[1;33m.\u001b[0m\u001b[0membedding_\u001b[0m \u001b[1;33m=\u001b[0m \u001b[0membedding\u001b[0m\u001b[1;33m\u001b[0m\u001b[1;33m\u001b[0m\u001b[0m\n\u001b[0;32m    888\u001b[0m         \u001b[1;32mreturn\u001b[0m \u001b[0mself\u001b[0m\u001b[1;33m.\u001b[0m\u001b[0membedding_\u001b[0m\u001b[1;33m\u001b[0m\u001b[1;33m\u001b[0m\u001b[0m\n",
      "\u001b[1;32mc:\\Users\\eriko\\OneDrive - NTNU\\ntnu\\fag\\prosjekt\\TCN\\.venv\\lib\\site-packages\\sklearn\\manifold\\_t_sne.py\u001b[0m in \u001b[0;36m_fit\u001b[1;34m(self, X, skip_num_points)\u001b[0m\n\u001b[0;32m    721\u001b[0m \u001b[1;33m\u001b[0m\u001b[0m\n\u001b[0;32m    722\u001b[0m             \u001b[1;31m# compute the joint probability distribution for the input space\u001b[0m\u001b[1;33m\u001b[0m\u001b[1;33m\u001b[0m\u001b[1;33m\u001b[0m\u001b[0m\n\u001b[1;32m--> 723\u001b[1;33m             \u001b[0mP\u001b[0m \u001b[1;33m=\u001b[0m \u001b[0m_joint_probabilities\u001b[0m\u001b[1;33m(\u001b[0m\u001b[0mdistances\u001b[0m\u001b[1;33m,\u001b[0m \u001b[0mself\u001b[0m\u001b[1;33m.\u001b[0m\u001b[0mperplexity\u001b[0m\u001b[1;33m,\u001b[0m \u001b[0mself\u001b[0m\u001b[1;33m.\u001b[0m\u001b[0mverbose\u001b[0m\u001b[1;33m)\u001b[0m\u001b[1;33m\u001b[0m\u001b[1;33m\u001b[0m\u001b[0m\n\u001b[0m\u001b[0;32m    724\u001b[0m             \u001b[1;32massert\u001b[0m \u001b[0mnp\u001b[0m\u001b[1;33m.\u001b[0m\u001b[0mall\u001b[0m\u001b[1;33m(\u001b[0m\u001b[0mnp\u001b[0m\u001b[1;33m.\u001b[0m\u001b[0misfinite\u001b[0m\u001b[1;33m(\u001b[0m\u001b[0mP\u001b[0m\u001b[1;33m)\u001b[0m\u001b[1;33m)\u001b[0m\u001b[1;33m,\u001b[0m \u001b[1;34m\"All probabilities should be finite\"\u001b[0m\u001b[1;33m\u001b[0m\u001b[1;33m\u001b[0m\u001b[0m\n\u001b[0;32m    725\u001b[0m             \u001b[1;32massert\u001b[0m \u001b[0mnp\u001b[0m\u001b[1;33m.\u001b[0m\u001b[0mall\u001b[0m\u001b[1;33m(\u001b[0m\u001b[0mP\u001b[0m \u001b[1;33m>=\u001b[0m \u001b[1;36m0\u001b[0m\u001b[1;33m)\u001b[0m\u001b[1;33m,\u001b[0m \u001b[1;34m\"All probabilities should be non-negative\"\u001b[0m\u001b[1;33m\u001b[0m\u001b[1;33m\u001b[0m\u001b[0m\n",
      "\u001b[1;32mc:\\Users\\eriko\\OneDrive - NTNU\\ntnu\\fag\\prosjekt\\TCN\\.venv\\lib\\site-packages\\sklearn\\manifold\\_t_sne.py\u001b[0m in \u001b[0;36m_joint_probabilities\u001b[1;34m(distances, desired_perplexity, verbose)\u001b[0m\n\u001b[0;32m     58\u001b[0m     \u001b[0mP\u001b[0m \u001b[1;33m=\u001b[0m \u001b[0mconditional_P\u001b[0m \u001b[1;33m+\u001b[0m \u001b[0mconditional_P\u001b[0m\u001b[1;33m.\u001b[0m\u001b[0mT\u001b[0m\u001b[1;33m\u001b[0m\u001b[1;33m\u001b[0m\u001b[0m\n\u001b[0;32m     59\u001b[0m     \u001b[0msum_P\u001b[0m \u001b[1;33m=\u001b[0m \u001b[0mnp\u001b[0m\u001b[1;33m.\u001b[0m\u001b[0mmaximum\u001b[0m\u001b[1;33m(\u001b[0m\u001b[0mnp\u001b[0m\u001b[1;33m.\u001b[0m\u001b[0msum\u001b[0m\u001b[1;33m(\u001b[0m\u001b[0mP\u001b[0m\u001b[1;33m)\u001b[0m\u001b[1;33m,\u001b[0m \u001b[0mMACHINE_EPSILON\u001b[0m\u001b[1;33m)\u001b[0m\u001b[1;33m\u001b[0m\u001b[1;33m\u001b[0m\u001b[0m\n\u001b[1;32m---> 60\u001b[1;33m     \u001b[0mP\u001b[0m \u001b[1;33m=\u001b[0m \u001b[0mnp\u001b[0m\u001b[1;33m.\u001b[0m\u001b[0mmaximum\u001b[0m\u001b[1;33m(\u001b[0m\u001b[0msquareform\u001b[0m\u001b[1;33m(\u001b[0m\u001b[0mP\u001b[0m\u001b[1;33m)\u001b[0m \u001b[1;33m/\u001b[0m \u001b[0msum_P\u001b[0m\u001b[1;33m,\u001b[0m \u001b[0mMACHINE_EPSILON\u001b[0m\u001b[1;33m)\u001b[0m\u001b[1;33m\u001b[0m\u001b[1;33m\u001b[0m\u001b[0m\n\u001b[0m\u001b[0;32m     61\u001b[0m     \u001b[1;32mreturn\u001b[0m \u001b[0mP\u001b[0m\u001b[1;33m\u001b[0m\u001b[1;33m\u001b[0m\u001b[0m\n\u001b[0;32m     62\u001b[0m \u001b[1;33m\u001b[0m\u001b[0m\n",
      "\u001b[1;31mMemoryError\u001b[0m: Unable to allocate 885. MiB for an array with shape (115953606,) and data type float64"
     ]
    }
   ],
   "source": [
    "emb_scaled = calculate_tsne(X_scaled_pca, num_components=2, verbose=1)\n",
    "emb_unscaled = calculate_tsne(X_unscaled_pca, num_components=2, verbose=1)"
   ]
  },
  {
   "cell_type": "code",
   "execution_count": 17,
   "metadata": {},
   "outputs": [
    {
     "output_type": "error",
     "ename": "NameError",
     "evalue": "name 'emb_scaled' is not defined",
     "traceback": [
      "\u001b[1;31m---------------------------------------------------------------------------\u001b[0m",
      "\u001b[1;31mNameError\u001b[0m                                 Traceback (most recent call last)",
      "\u001b[1;32m<ipython-input-17-9f8fd25bf889>\u001b[0m in \u001b[0;36m<module>\u001b[1;34m\u001b[0m\n\u001b[0;32m      3\u001b[0m     \u001b[0mplt\u001b[0m\u001b[1;33m.\u001b[0m\u001b[0mfigure\u001b[0m\u001b[1;33m(\u001b[0m\u001b[0mfigsize\u001b[0m\u001b[1;33m=\u001b[0m\u001b[1;33m(\u001b[0m\u001b[1;36m4.77\u001b[0m\u001b[1;33m/\u001b[0m\u001b[1;36m2\u001b[0m\u001b[1;33m,\u001b[0m \u001b[1;36m4.77\u001b[0m\u001b[1;33m/\u001b[0m\u001b[1;36m2\u001b[0m\u001b[1;33m)\u001b[0m\u001b[1;33m)\u001b[0m\u001b[1;33m\u001b[0m\u001b[1;33m\u001b[0m\u001b[0m\n\u001b[0;32m      4\u001b[0m     \u001b[0max\u001b[0m \u001b[1;33m=\u001b[0m \u001b[0mplt\u001b[0m\u001b[1;33m.\u001b[0m\u001b[0maxes\u001b[0m\u001b[1;33m(\u001b[0m\u001b[1;33m[\u001b[0m\u001b[1;36m0.\u001b[0m\u001b[1;33m,\u001b[0m \u001b[1;36m0.\u001b[0m\u001b[1;33m,\u001b[0m \u001b[1;36m1.\u001b[0m\u001b[1;33m,\u001b[0m \u001b[1;36m1.\u001b[0m\u001b[1;33m]\u001b[0m\u001b[1;33m)\u001b[0m\u001b[1;33m\u001b[0m\u001b[1;33m\u001b[0m\u001b[0m\n\u001b[1;32m----> 5\u001b[1;33m     \u001b[0mplt\u001b[0m\u001b[1;33m.\u001b[0m\u001b[0mscatter\u001b[0m\u001b[1;33m(\u001b[0m\u001b[0memb_scaled\u001b[0m\u001b[1;33m[\u001b[0m\u001b[1;33m:\u001b[0m\u001b[1;33m,\u001b[0m\u001b[1;36m0\u001b[0m\u001b[1;33m]\u001b[0m\u001b[1;33m,\u001b[0m \u001b[0memb_scaled\u001b[0m\u001b[1;33m[\u001b[0m\u001b[1;33m:\u001b[0m\u001b[1;33m,\u001b[0m\u001b[1;36m1\u001b[0m\u001b[1;33m]\u001b[0m\u001b[1;33m,\u001b[0m \u001b[0mc\u001b[0m \u001b[1;33m=\u001b[0m \u001b[0mcolors\u001b[0m\u001b[1;33m,\u001b[0m \u001b[0mcmap\u001b[0m\u001b[1;33m=\u001b[0m\u001b[1;34m\"tab10\"\u001b[0m\u001b[1;33m,\u001b[0m \u001b[0medgecolors\u001b[0m\u001b[1;33m=\u001b[0m\u001b[1;34m\"black\"\u001b[0m\u001b[1;33m,\u001b[0m \u001b[0ms\u001b[0m\u001b[1;33m=\u001b[0m\u001b[1;36m15\u001b[0m\u001b[1;33m,\u001b[0m \u001b[0mlinewidth\u001b[0m\u001b[1;33m=\u001b[0m\u001b[1;36m0.3\u001b[0m\u001b[1;33m)\u001b[0m\u001b[1;33m\u001b[0m\u001b[1;33m\u001b[0m\u001b[0m\n\u001b[0m\u001b[0;32m      6\u001b[0m     \u001b[0mplt\u001b[0m\u001b[1;33m.\u001b[0m\u001b[0mxticks\u001b[0m\u001b[1;33m(\u001b[0m\u001b[1;33m[\u001b[0m\u001b[1;33m]\u001b[0m\u001b[1;33m)\u001b[0m\u001b[1;33m\u001b[0m\u001b[1;33m\u001b[0m\u001b[0m\n\u001b[0;32m      7\u001b[0m     \u001b[0mplt\u001b[0m\u001b[1;33m.\u001b[0m\u001b[0myticks\u001b[0m\u001b[1;33m(\u001b[0m\u001b[1;33m[\u001b[0m\u001b[1;33m]\u001b[0m\u001b[1;33m)\u001b[0m\u001b[1;33m\u001b[0m\u001b[1;33m\u001b[0m\u001b[0m\n",
      "\u001b[1;31mNameError\u001b[0m: name 'emb_scaled' is not defined"
     ]
    }
   ],
   "source": [
    "with plt.style.context(cluster_style):\n",
    "    colors = [v for k, v in cluster_dict.items()]\n",
    "    plt.figure(figsize=(4.77/2, 4.77/2))\n",
    "    ax = plt.axes([0., 0., 1., 1.])\n",
    "    plt.scatter(emb_scaled[:,0], emb_scaled[:,1], c = colors, cmap=\"tab10\", edgecolors=\"black\", s=15, linewidth=0.3)\n",
    "    plt.xticks([])\n",
    "    plt.yticks([])\n",
    "\n",
    "    # Display a graph of the partial correlations\n",
    "    non_zero = (np.abs(np.triu(np.exp(-S), k=1)) > 0.92)\n",
    "\n",
    "    # Plot the edges\n",
    "    start_idx, end_idx = np.where(non_zero)\n",
    "    segments = [[emb_scaled[start, :], emb_scaled[stop, :]] for start, stop in zip(start_idx, end_idx)]\n",
    "    lc = LineCollection(segments, zorder=0)\n",
    "    ax.add_collection(lc)\n",
    "    plt.tight_layout()\n",
    "    #plt.savefig(f\"Figures/revenue_proposed_clustering_edges.pdf\", bbox_inches=\"tight\")\n",
    "    #plt.savefig(f\"Figures/revenue_proposed_clustering_.pdf\", bbox_inches=\"tight\")\n",
    "    plt.show()"
   ]
  }
 ],
 "metadata": {
  "language_info": {
   "codemirror_mode": {
    "name": "ipython",
    "version": 3
   },
   "file_extension": ".py",
   "mimetype": "text/x-python",
   "name": "python",
   "nbconvert_exporter": "python",
   "pygments_lexer": "ipython3",
   "version": "3.7.6-final"
  },
  "orig_nbformat": 2,
  "kernelspec": {
   "name": "python37664bitvenvvenv0a826a9888d543f18db3a6c847c4f0db",
   "display_name": "Python 3.7.6 64-bit ('.venv': venv)"
  }
 },
 "nbformat": 4,
 "nbformat_minor": 2
}