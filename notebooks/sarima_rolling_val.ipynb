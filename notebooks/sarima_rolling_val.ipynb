{
 "cells": [
  {
   "cell_type": "markdown",
   "metadata": {},
   "source": [
    "# Rolling validation using pre fitted stuff"
   ]
  },
  {
   "cell_type": "code",
   "execution_count": 1,
   "metadata": {},
   "outputs": [],
   "source": [
    "import numpy as np\n",
    "import pandas as pd\n",
    "from electricity.data import ElectricityDataSet\n",
    "from statsmodels.tsa.statespace.sarimax import SARIMAX\n",
    "import matplotlib.pyplot as plt\n",
    "import warnings\n",
    "import time\n",
    "import datetime\n",
    "warnings.filterwarnings(\"ignore\")\n",
    "from tqdm import tqdm"
   ]
  },
  {
   "cell_type": "code",
   "execution_count": 2,
   "metadata": {},
   "outputs": [],
   "source": [
    "def WAPE(Y, Y_hat):\n",
    "    return np.mean(np.abs(Y - Y_hat)) / np.mean(np.abs(Y))\n",
    "def MAPE(Y, Y_hat):\n",
    "    nz = np.where(Y > 0)\n",
    "    Pz = Y_hat[nz]\n",
    "    Az = Y[nz]\n",
    "    return np.mean(np.abs(Az - Pz) / np.abs(Az))\n",
    "def SMAPE(Y, Y_hat):\n",
    "    nz = np.where(Y > 0)\n",
    "    Pz = Y_hat[nz]\n",
    "    Az = Y[nz]\n",
    "    return np.mean(2 * np.abs(Az - Pz) / (np.abs(Az) + np.abs(Pz)))\n",
    "def MAE(Y, Y_hat):\n",
    "    return np.abs(Y_hat - Y).mean()\n",
    "def RMSE(Y, Y_hat):\n",
    "    return np.sqrt(((Y_hat - Y) ** 2).mean())\n"
   ]
  },
  {
   "cell_type": "code",
   "execution_count": 3,
   "metadata": {},
   "outputs": [
    {
     "output_type": "stream",
     "name": "stdout",
     "text": "Dimension of X :  torch.Size([370, 1, 8400])\nDimension of Y :  torch.Size([370, 1, 8400])\nDimension of X :  torch.Size([370, 1, 168])\nDimension of Y :  torch.Size([370, 1, 168])\n"
    }
   ],
   "source": [
    "ds = ElectricityDataSet(\n",
    "    file_path=\"electricity/data/electricity.npy\",\n",
    "    data_scale=False,\n",
    "    data_scaler=None,\n",
    "    start_date=\"2014-01-01\",  # yyyy-mm-dd\n",
    "    end_date=\"2014-12-16\",  # yyyy-mm-dd\n",
    ")\n",
    "ds_test = ElectricityDataSet(\n",
    "    file_path=\"electricity/data/electricity.npy\",\n",
    "    data_scale=False,\n",
    "    data_scaler=None,\n",
    "    start_date=\"2014-12-17\",  # yyyy-mm-dd\n",
    "    end_date=\"2014-12-23\",  # yyyy-mm-dd\n",
    ")"
   ]
  },
  {
   "cell_type": "code",
   "execution_count": 4,
   "metadata": {},
   "outputs": [
    {
     "output_type": "execute_result",
     "data": {
      "text/plain": "   name    p    d    q    P    D    Q   s\n0     0  2.0  1.0  1.0  0.0  1.0  1.0  24\n1     1  2.0  1.0  1.0  1.0  1.0  1.0  24\n2     2  2.0  1.0  2.0  1.0  1.0  1.0  24\n3     3  1.0  1.0  3.0  1.0  1.0  1.0  24\n4     4  2.0  1.0  1.0  0.0  1.0  1.0  24",
      "text/html": "<div>\n<style scoped>\n    .dataframe tbody tr th:only-of-type {\n        vertical-align: middle;\n    }\n\n    .dataframe tbody tr th {\n        vertical-align: top;\n    }\n\n    .dataframe thead th {\n        text-align: right;\n    }\n</style>\n<table border=\"1\" class=\"dataframe\">\n  <thead>\n    <tr style=\"text-align: right;\">\n      <th></th>\n      <th>name</th>\n      <th>p</th>\n      <th>d</th>\n      <th>q</th>\n      <th>P</th>\n      <th>D</th>\n      <th>Q</th>\n      <th>s</th>\n    </tr>\n  </thead>\n  <tbody>\n    <tr>\n      <th>0</th>\n      <td>0</td>\n      <td>2.0</td>\n      <td>1.0</td>\n      <td>1.0</td>\n      <td>0.0</td>\n      <td>1.0</td>\n      <td>1.0</td>\n      <td>24</td>\n    </tr>\n    <tr>\n      <th>1</th>\n      <td>1</td>\n      <td>2.0</td>\n      <td>1.0</td>\n      <td>1.0</td>\n      <td>1.0</td>\n      <td>1.0</td>\n      <td>1.0</td>\n      <td>24</td>\n    </tr>\n    <tr>\n      <th>2</th>\n      <td>2</td>\n      <td>2.0</td>\n      <td>1.0</td>\n      <td>2.0</td>\n      <td>1.0</td>\n      <td>1.0</td>\n      <td>1.0</td>\n      <td>24</td>\n    </tr>\n    <tr>\n      <th>3</th>\n      <td>3</td>\n      <td>1.0</td>\n      <td>1.0</td>\n      <td>3.0</td>\n      <td>1.0</td>\n      <td>1.0</td>\n      <td>1.0</td>\n      <td>24</td>\n    </tr>\n    <tr>\n      <th>4</th>\n      <td>4</td>\n      <td>2.0</td>\n      <td>1.0</td>\n      <td>1.0</td>\n      <td>0.0</td>\n      <td>1.0</td>\n      <td>1.0</td>\n      <td>24</td>\n    </tr>\n  </tbody>\n</table>\n</div>"
     },
     "metadata": {},
     "execution_count": 4
    }
   ],
   "source": [
    "df_order = pd.read_csv(\"Z:\\TCN_clone\\TCN\\\\representations\\\\representation_matrices\\electricity_sarima_order.csv\", index_col=0)"
   ]
  },
  {
   "cell_type": "code",
   "execution_count": 5,
   "metadata": {},
   "outputs": [],
   "source": [
    "X = ds.X.detach().cpu().squeeze(1).numpy()\n",
    "X_test = ds_test.X.detach().cpu().squeeze(1).numpy()\n",
    "d_list = []\n",
    "order_list = []\n",
    "all_predictions = []"
   ]
  },
  {
   "cell_type": "code",
   "execution_count": null,
   "metadata": {},
   "outputs": [],
   "source": [
    "t0 = time.time()\n",
    "for index, row in tqdm(df_order.iterrows(), total=df_order.shape[0]):#range(X.shape[0])[:1]:\n",
    "    endog = X[index, -200:]\n",
    "    #print(f\"Fitting {index+1:3} of {len(df_order)}\")\n",
    "    pdq = row[1:4].to_numpy()\n",
    "    PDQs = row[4:].to_numpy()\n",
    "    # rolling forecast\n",
    "    hist = endog\n",
    "    predictions = []\n",
    "    for i in range(7):\n",
    "        try:\n",
    "            model = SARIMAX(endog=hist, order=pdq, seasonal_order=PDQs).fit(\n",
    "                maxiter=20, disp=False\n",
    "            )\n",
    "            pred = model.forecast(steps=24)\n",
    "        except:\n",
    "            pred = np.repeat(X_test[index, -(7-i)*24], 24)\n",
    "\n",
    "        predictions = np.append(predictions, pred)\n",
    "        if -(7 - i - 1) * 24 == 0:\n",
    "            real = X_test[index, -(7 - i) * 24 :].flatten()\n",
    "        else:\n",
    "            real = X_test[index, -(7 - i) * 24 : -(7 - i - 1) * 24].flatten()\n",
    "        hist = np.append(hist, real)\n",
    "    all_predictions.append(predictions)\n",
    "\n",
    "predictions = np.stack(all_predictions, axis=0)\n",
    "actual = X_test[:, -24 * 7 :]"
   ]
  },
  {
   "cell_type": "code",
   "execution_count": 7,
   "metadata": {},
   "outputs": [
    {
     "output_type": "error",
     "ename": "NameError",
     "evalue": "name 'actual' is not defined",
     "traceback": [
      "\u001b[1;31m---------------------------------------------------------------------------\u001b[0m",
      "\u001b[1;31mNameError\u001b[0m                                 Traceback (most recent call last)",
      "\u001b[1;32m<ipython-input-7-5d791f86122e>\u001b[0m in \u001b[0;36m<module>\u001b[1;34m\u001b[0m\n\u001b[1;32m----> 1\u001b[1;33m \u001b[0mwape\u001b[0m \u001b[1;33m=\u001b[0m \u001b[0mWAPE\u001b[0m\u001b[1;33m(\u001b[0m\u001b[0mactual\u001b[0m\u001b[1;33m,\u001b[0m \u001b[0mpredictions\u001b[0m\u001b[1;33m)\u001b[0m\u001b[1;33m\u001b[0m\u001b[1;33m\u001b[0m\u001b[0m\n\u001b[0m\u001b[0;32m      2\u001b[0m \u001b[0mmape\u001b[0m \u001b[1;33m=\u001b[0m \u001b[0mMAPE\u001b[0m\u001b[1;33m(\u001b[0m\u001b[0mactual\u001b[0m\u001b[1;33m,\u001b[0m \u001b[0mpredictions\u001b[0m\u001b[1;33m)\u001b[0m\u001b[1;33m\u001b[0m\u001b[1;33m\u001b[0m\u001b[0m\n\u001b[0;32m      3\u001b[0m \u001b[0msmape\u001b[0m \u001b[1;33m=\u001b[0m \u001b[0mSMAPE\u001b[0m\u001b[1;33m(\u001b[0m\u001b[0mactual\u001b[0m\u001b[1;33m,\u001b[0m \u001b[0mpredictions\u001b[0m\u001b[1;33m)\u001b[0m\u001b[1;33m\u001b[0m\u001b[1;33m\u001b[0m\u001b[0m\n\u001b[0;32m      4\u001b[0m \u001b[0mmae\u001b[0m \u001b[1;33m=\u001b[0m \u001b[0mMAE\u001b[0m\u001b[1;33m(\u001b[0m\u001b[0mactual\u001b[0m\u001b[1;33m,\u001b[0m \u001b[0mpredictions\u001b[0m\u001b[1;33m)\u001b[0m\u001b[1;33m\u001b[0m\u001b[1;33m\u001b[0m\u001b[0m\n\u001b[0;32m      5\u001b[0m \u001b[0mrmse\u001b[0m \u001b[1;33m=\u001b[0m \u001b[0mRMSE\u001b[0m\u001b[1;33m(\u001b[0m\u001b[0mactual\u001b[0m\u001b[1;33m,\u001b[0m \u001b[0mpredictions\u001b[0m\u001b[1;33m)\u001b[0m\u001b[1;33m\u001b[0m\u001b[1;33m\u001b[0m\u001b[0m\n",
      "\u001b[1;31mNameError\u001b[0m: name 'actual' is not defined"
     ]
    }
   ],
   "source": [
    "wape = WAPE(actual, predictions)\n",
    "mape = MAPE(actual, predictions)\n",
    "smape = SMAPE(actual, predictions)\n",
    "mae = MAE(actual, predictions)\n",
    "rmse = RMSE(actual, predictions)\n",
    "\n",
    "print(f\"WAPE = {wape:.3f}\")\n",
    "print(f\"MAPE = {mape:.3f}\")\n",
    "print(f\"SMAPE = {smape:.3f}\")\n",
    "print(f\"MAE = {mae:.3f}\")\n",
    "print(f\"RMSE = {rmse:.3f}\")"
   ]
  },
  {
   "cell_type": "code",
   "execution_count": 8,
   "metadata": {},
   "outputs": [
    {
     "output_type": "error",
     "ename": "NameError",
     "evalue": "name 'wape' is not defined",
     "traceback": [
      "\u001b[1;31m---------------------------------------------------------------------------\u001b[0m",
      "\u001b[1;31mNameError\u001b[0m                                 Traceback (most recent call last)",
      "\u001b[1;32m<ipython-input-8-e2a9c9db5615>\u001b[0m in \u001b[0;36m<module>\u001b[1;34m\u001b[0m\n\u001b[0;32m      1\u001b[0m \u001b[1;31m# save all the stuff\u001b[0m\u001b[1;33m\u001b[0m\u001b[1;33m\u001b[0m\u001b[1;33m\u001b[0m\u001b[0m\n\u001b[0;32m      2\u001b[0m \u001b[1;32mwith\u001b[0m \u001b[0mopen\u001b[0m\u001b[1;33m(\u001b[0m\u001b[1;34m\"sarima_electricity.txt\"\u001b[0m\u001b[1;33m,\u001b[0m \u001b[1;34m\"w\"\u001b[0m\u001b[1;33m)\u001b[0m \u001b[1;32mas\u001b[0m \u001b[0mf\u001b[0m\u001b[1;33m:\u001b[0m\u001b[1;33m\u001b[0m\u001b[1;33m\u001b[0m\u001b[0m\n\u001b[1;32m----> 3\u001b[1;33m     \u001b[0mf\u001b[0m\u001b[1;33m.\u001b[0m\u001b[0mwrite\u001b[0m\u001b[1;33m(\u001b[0m\u001b[1;34mf\"WAPE = {wape:.3f}\"\u001b[0m\u001b[1;33m)\u001b[0m\u001b[1;33m\u001b[0m\u001b[1;33m\u001b[0m\u001b[0m\n\u001b[0m\u001b[0;32m      4\u001b[0m     \u001b[0mf\u001b[0m\u001b[1;33m.\u001b[0m\u001b[0mwrite\u001b[0m\u001b[1;33m(\u001b[0m\u001b[1;34m\"\\n\"\u001b[0m\u001b[1;33m)\u001b[0m\u001b[1;33m\u001b[0m\u001b[1;33m\u001b[0m\u001b[0m\n\u001b[0;32m      5\u001b[0m     \u001b[0mf\u001b[0m\u001b[1;33m.\u001b[0m\u001b[0mwrite\u001b[0m\u001b[1;33m(\u001b[0m\u001b[1;34mf\"MAPE = {mape:.3f}\"\u001b[0m\u001b[1;33m)\u001b[0m\u001b[1;33m\u001b[0m\u001b[1;33m\u001b[0m\u001b[0m\n",
      "\u001b[1;31mNameError\u001b[0m: name 'wape' is not defined"
     ]
    }
   ],
   "source": [
    "# save all the stuff\n",
    "with open(\"sarima_electricity.txt\", \"w\") as f:\n",
    "    f.write(f\"WAPE = {wape:.3f}\")\n",
    "    f.write(\"\\n\")\n",
    "    f.write(f\"MAPE = {mape:.3f}\")\n",
    "    f.write(\"\\n\")\n",
    "    f.write(f\"SMAPE = {smape:.3f}\")\n",
    "    f.write(\"\\n\")\n",
    "    f.write(f\"MAE = {mae:.3f}\")\n",
    "    f.write(\"\\n\")\n",
    "    f.write(f\"RMSE = {rmse:.3f}\")\n",
    "print(f\"Total time: {datetime.timedelta(seconds=round((time.time() - t0), 1))} \")"
   ]
  },
  {
   "cell_type": "code",
   "execution_count": null,
   "metadata": {},
   "outputs": [],
   "source": []
  }
 ],
 "metadata": {
  "language_info": {
   "codemirror_mode": {
    "name": "ipython",
    "version": 3
   },
   "file_extension": ".py",
   "mimetype": "text/x-python",
   "name": "python",
   "nbconvert_exporter": "python",
   "pygments_lexer": "ipython3",
   "version": "3.7.6-final"
  },
  "orig_nbformat": 2,
  "kernelspec": {
   "name": "python37664bitvenvvenv0a826a9888d543f18db3a6c847c4f0db",
   "display_name": "Python 3.7.6 64-bit ('.venv': venv)"
  }
 },
 "nbformat": 4,
 "nbformat_minor": 2
}