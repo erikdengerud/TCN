{
 "cells": [
  {
   "cell_type": "code",
   "execution_count": 1,
   "metadata": {},
   "outputs": [],
   "source": [
    "from dtaidistance import dtw\n",
    "from dtaidistance import dtw_visualisation as dtwvis\n",
    "import numpy as np"
   ]
  },
  {
   "cell_type": "code",
   "execution_count": 4,
   "metadata": {},
   "outputs": [
    {
     "output_type": "error",
     "ename": "TypeError",
     "evalue": "plot_warping() missing 2 required positional arguments: 's2' and 'path'",
     "traceback": [
      "\u001b[1;31m---------------------------------------------------------------------------\u001b[0m",
      "\u001b[1;31mTypeError\u001b[0m                                 Traceback (most recent call last)",
      "\u001b[1;32m<ipython-input-4-b392c946972e>\u001b[0m in \u001b[0;36m<module>\u001b[1;34m\u001b[0m\n\u001b[0;32m      3\u001b[0m \u001b[0ms2\u001b[0m \u001b[1;33m=\u001b[0m \u001b[0mnp\u001b[0m\u001b[1;33m.\u001b[0m\u001b[0marray\u001b[0m\u001b[1;33m(\u001b[0m\u001b[1;33m[\u001b[0m\u001b[1;36m0.\u001b[0m\u001b[1;33m,\u001b[0m \u001b[1;36m1\u001b[0m\u001b[1;33m,\u001b[0m \u001b[1;36m2\u001b[0m\u001b[1;33m,\u001b[0m \u001b[1;36m3\u001b[0m\u001b[1;33m,\u001b[0m \u001b[1;36m1\u001b[0m\u001b[1;33m,\u001b[0m \u001b[1;36m0\u001b[0m\u001b[1;33m,\u001b[0m \u001b[1;36m0\u001b[0m\u001b[1;33m,\u001b[0m \u001b[1;36m0\u001b[0m\u001b[1;33m,\u001b[0m \u001b[1;36m2\u001b[0m\u001b[1;33m,\u001b[0m \u001b[1;36m1\u001b[0m\u001b[1;33m,\u001b[0m \u001b[1;36m0\u001b[0m\u001b[1;33m,\u001b[0m \u001b[1;36m0\u001b[0m\u001b[1;33m,\u001b[0m \u001b[1;36m0\u001b[0m\u001b[1;33m]\u001b[0m\u001b[1;33m)\u001b[0m\u001b[1;33m\u001b[0m\u001b[1;33m\u001b[0m\u001b[0m\n\u001b[0;32m      4\u001b[0m \u001b[0mpath\u001b[0m \u001b[1;33m=\u001b[0m \u001b[0mdtw\u001b[0m\u001b[1;33m.\u001b[0m\u001b[0mwarping_path\u001b[0m\u001b[1;33m(\u001b[0m\u001b[0ms1\u001b[0m\u001b[1;33m,\u001b[0m \u001b[0ms2\u001b[0m\u001b[1;33m)\u001b[0m\u001b[1;33m\u001b[0m\u001b[1;33m\u001b[0m\u001b[0m\n\u001b[1;32m----> 5\u001b[1;33m \u001b[0mdtwvis\u001b[0m\u001b[1;33m.\u001b[0m\u001b[0mplot_warping\u001b[0m\u001b[1;33m(\u001b[0m\u001b[0mpath\u001b[0m\u001b[1;33m)\u001b[0m\u001b[1;33m\u001b[0m\u001b[1;33m\u001b[0m\u001b[0m\n\u001b[0m",
      "\u001b[1;31mTypeError\u001b[0m: plot_warping() missing 2 required positional arguments: 's2' and 'path'"
     ]
    }
   ],
   "source": []
  },
  {
   "cell_type": "code",
   "execution_count": 2,
   "metadata": {},
   "outputs": [],
   "source": [
    "X = np.load('electricity/data/electricity.npy')"
   ]
  },
  {
   "cell_type": "code",
   "execution_count": 3,
   "metadata": {},
   "outputs": [],
   "source": [
    "ds = dtw.distance_matrix_fast(X[:,-10:])"
   ]
  },
  {
   "cell_type": "code",
   "execution_count": 4,
   "metadata": {},
   "outputs": [
    {
     "output_type": "execute_result",
     "data": {
      "text/plain": "array([[           inf, 3.01375352e+02, 4.80173207e+00, ...,\n        1.59685234e+03, 9.62413417e+03, 9.42208303e+04],\n       [           inf,            inf, 2.97837741e+02, ...,\n        1.32847803e+03, 9.32380897e+03, 9.39203959e+04],\n       [           inf,            inf,            inf, ...,\n        1.59439468e+03, 9.62081525e+03, 9.42175868e+04],\n       ...,\n       [           inf,            inf,            inf, ...,\n                   inf, 8.15722517e+03, 9.27430697e+04],\n       [           inf,            inf,            inf, ...,\n                   inf,            inf, 8.46110028e+04],\n       [           inf,            inf,            inf, ...,\n                   inf,            inf,            inf]])"
     },
     "metadata": {},
     "execution_count": 4
    }
   ],
   "source": [
    "ds\n"
   ]
  },
  {
   "cell_type": "code",
   "execution_count": 5,
   "metadata": {},
   "outputs": [],
   "source": [
    "from dtaidistance import dtw\n",
    "import numpy as np\n",
    "series = np.matrix([\n",
    "    [0.0, 0, 1, 2, 1, 0, 1, 0, 0],\n",
    "    [0.0, 1, 2, 0, 0, 0, 0, 0, 0],\n",
    "    [0.0, 0, 1, 2, 1, 0, 0, 0, 0]])\n",
    "ds = dtw.distance_matrix_fast(series)"
   ]
  },
  {
   "cell_type": "code",
   "execution_count": 6,
   "metadata": {},
   "outputs": [
    {
     "output_type": "execute_result",
     "data": {
      "text/plain": "array([[       inf, 1.41421356, 1.        ],\n       [       inf,        inf, 1.        ],\n       [       inf,        inf,        inf]])"
     },
     "metadata": {},
     "execution_count": 6
    }
   ],
   "source": [
    "ds"
   ]
  },
  {
   "cell_type": "code",
   "execution_count": 7,
   "metadata": {},
   "outputs": [
    {
     "output_type": "stream",
     "name": "stderr",
     "text": "67%|██████▋   | 2/3 [00:00<00:00, 988.76it/s]\n 67%|██████▋   | 2/3 [00:00<00:00, 999.48it/s]\n"
    }
   ],
   "source": [
    "from dtaidistance import clustering\n",
    "# Custom Hierarchical clustering\n",
    "model1 = clustering.Hierarchical(dtw.distance_matrix_fast, {})\n",
    "cluster_idx = model1.fit(series)\n",
    "# Augment Hierarchical object to keep track of the full tree\n",
    "model2 = clustering.HierarchicalTree(model1)\n",
    "cluster_idx = model2.fit(series)\n",
    "# SciPy linkage clustering\n",
    "model3 = clustering.LinkageTree(dtw.distance_matrix_fast, {})\n",
    "cluster_idx = model3.fit(series)"
   ]
  },
  {
   "cell_type": "code",
   "execution_count": 8,
   "metadata": {},
   "outputs": [
    {
     "output_type": "execute_result",
     "data": {
      "text/plain": "(None, None)"
     },
     "metadata": {},
     "execution_count": 8
    }
   ],
   "source": [
    "model2.plot(\"myplot.png\")"
   ]
  },
  {
   "cell_type": "code",
   "execution_count": 9,
   "metadata": {},
   "outputs": [
    {
     "output_type": "execute_result",
     "data": {
      "text/plain": "array([[0.63381948, 0.85437294, 0.94973673, 0.23738747, 0.67074602],\n       [0.14510989, 0.58884947, 0.70850912, 0.26236543, 0.84803009],\n       [0.02962946, 0.93208003, 0.52516888, 0.7900869 , 0.00864912],\n       [0.74250298, 0.28334578, 0.14979974, 0.79390265, 0.74841514],\n       [0.68258473, 0.44861757, 0.89039922, 0.18444561, 0.41117311],\n       [0.12429782, 0.88222288, 0.01409517, 0.56642211, 0.9998787 ],\n       [0.82082253, 0.87666574, 0.63067244, 0.58104776, 0.49237673],\n       [0.44928359, 0.04235218, 0.8791988 , 0.42963211, 0.16928054]])"
     },
     "metadata": {},
     "execution_count": 9
    }
   ],
   "source": [
    "np.random.rand(8,5)"
   ]
  },
  {
   "cell_type": "code",
   "execution_count": 10,
   "metadata": {},
   "outputs": [
    {
     "output_type": "stream",
     "name": "stdout",
     "text": "506.62\n"
    },
    {
     "output_type": "execute_result",
     "data": {
      "text/plain": "array([[       inf, 7.82483448, 7.8589656 , ..., 7.78714178, 7.78213574,\n        7.82102887],\n       [       inf,        inf, 7.70918417, ..., 7.71190693, 7.75963127,\n        7.78115104],\n       [       inf,        inf,        inf, ..., 7.66744321, 7.71416744,\n        7.75603576],\n       ...,\n       [       inf,        inf,        inf, ...,        inf, 7.83143579,\n        7.76728672],\n       [       inf,        inf,        inf, ...,        inf,        inf,\n        7.86287046],\n       [       inf,        inf,        inf, ...,        inf,        inf,\n               inf]])"
     },
     "metadata": {},
     "execution_count": 10
    }
   ],
   "source": [
    "from dtaidistance import dtw\n",
    "import numpy as np\n",
    "import time\n",
    "t = time.time()\n",
    "series = np.random.rand(400,2000)\n",
    "ds = dtw.distance_matrix_fast(series)\n",
    "print(f\"{time.time() - t:.2f}\")\n",
    "ds"
   ]
  },
  {
   "cell_type": "code",
   "execution_count": 11,
   "metadata": {},
   "outputs": [],
   "source": [
    "ds[np.isinf(ds)] = 0"
   ]
  },
  {
   "cell_type": "code",
   "execution_count": 12,
   "metadata": {},
   "outputs": [],
   "source": [
    "ds = ds + ds.T"
   ]
  },
  {
   "cell_type": "code",
   "execution_count": 13,
   "metadata": {},
   "outputs": [
    {
     "output_type": "execute_result",
     "data": {
      "text/plain": "array([[ 0.        , 15.64966896, 15.7179312 , ..., 15.57428356,\n        15.56427148, 15.64205774],\n       [15.64966896,  0.        , 15.41836834, ..., 15.42381386,\n        15.51926253, 15.56230209],\n       [15.7179312 , 15.41836834,  0.        , ..., 15.33488643,\n        15.42833488, 15.51207152],\n       ...,\n       [15.57428356, 15.42381386, 15.33488643, ...,  0.        ,\n        15.66287158, 15.53457343],\n       [15.56427148, 15.51926253, 15.42833488, ..., 15.66287158,\n         0.        , 15.72574093],\n       [15.64205774, 15.56230209, 15.51207152, ..., 15.53457343,\n        15.72574093,  0.        ]])"
     },
     "metadata": {},
     "execution_count": 13
    }
   ],
   "source": [
    "ds + ds.T"
   ]
  },
  {
   "cell_type": "code",
   "execution_count": 14,
   "metadata": {},
   "outputs": [
    {
     "output_type": "execute_result",
     "data": {
      "text/plain": "array([[0.        , 0.85264022, 0.40660886, 0.90936533, 0.96889267],\n       [0.85264022, 0.        , 0.75517905, 0.69138056, 0.99859354],\n       [0.40660886, 0.75517905, 0.        , 1.05347829, 1.11044783],\n       [0.90936533, 0.69138056, 1.05347829, 0.        , 0.98598828],\n       [0.96889267, 0.99859354, 1.11044783, 0.98598828, 0.        ]])"
     },
     "metadata": {},
     "execution_count": 14
    }
   ],
   "source": [
    "\n",
    "from sklearn.metrics import pairwise_distances\n",
    "X = np.random.rand(5,5)\n",
    "pairwise_distances(X, metric='euclidean')"
   ]
  },
  {
   "cell_type": "code",
   "execution_count": null,
   "metadata": {},
   "outputs": [],
   "source": []
  }
 ],
 "metadata": {
  "language_info": {
   "codemirror_mode": {
    "name": "ipython",
    "version": 3
   },
   "file_extension": ".py",
   "mimetype": "text/x-python",
   "name": "python",
   "nbconvert_exporter": "python",
   "pygments_lexer": "ipython3",
   "version": "3.7.6-final"
  },
  "orig_nbformat": 2,
  "kernelspec": {
   "name": "python37664bitvenvvenv0a826a9888d543f18db3a6c847c4f0db",
   "display_name": "Python 3.7.6 64-bit ('.venv': venv)"
  }
 },
 "nbformat": 4,
 "nbformat_minor": 2
}