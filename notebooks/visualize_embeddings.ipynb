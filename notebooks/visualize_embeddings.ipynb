{
 "cells": [
  {
   "cell_type": "markdown",
   "metadata": {},
   "source": [
    "# Visualizing embeddings from the shapes dataset"
   ]
  },
  {
   "cell_type": "markdown",
   "metadata": {},
   "source": [
    "We want to visualize the embeddings learned from the shapes dataset together with the shapes, periodicity and noise."
   ]
  },
  {
   "cell_type": "code",
   "execution_count": 1,
   "metadata": {},
   "outputs": [],
   "source": [
    "# very nice plot from this one vv\n",
    "#MODEL_PATH = \"shapes/models/test_viz_res_long\"\n",
    "\n",
    "# pre embeddings: also nice plot\n",
    "#MODEL_PATH = \"shapes/models/test_pre\"\n",
    "\n",
    "# NIZE!\n",
    "#MODEL_PATH = \"shapes/models/test_viz_res_long_200_50ep\"\n",
    "\n",
    "# Sweeeeeet!\n",
    "#MODEL_PATH = \"shapes/models/test_viz_res_long_200\"\n",
    "\n",
    "# 10 dim embedding space\n",
    "MODEL_PATH = \"shapes/models/test_dim_10\""
   ]
  },
  {
   "cell_type": "code",
   "execution_count": 2,
   "metadata": {},
   "outputs": [],
   "source": [
    "from shapes.model import TCN\n",
    "from shapes.data import ShapeDataset\n",
    "import torch\n",
    "import pandas as pd\n",
    "from torch.utils.data import DataLoader\n",
    "import pickle\n",
    "import numpy as np"
   ]
  },
  {
   "cell_type": "code",
   "execution_count": 3,
   "metadata": {},
   "outputs": [
    {
     "output_type": "execute_result",
     "data": {
      "text/plain": "(   ts_id     shape   noise  period\n 0      0    square    None      10\n 1      1    square    None      10\n 2      2    square  matern       2\n 3      3  triangle     iid      10\n 4      4  triangle     iid      20,\n Namespace(bias=True, clip=False, dropout=0.2, embed='post', embedding_dim=10, epochs=100, h_batch_size=32, kernel_size=7, length_rolling=50, leveledinit=False, log_interval=20, lr=0.0005, mean=10.0, model_save_path='shapes\\\\models\\\\test_dim_10', num_layers=5, num_rolling_periods=1, num_workers=0, one_hot_id=False, print=True, res_block_size=32, stride=1, tenacity=100, time_covariates=False, train_end='2014-12-16', train_start='2012-01-01', type_res_blocks='erik', v_batch_size=32, var=1.0, writer_path='shapes\\\\runs\\\\test_dim_10'),\n 50)"
     },
     "metadata": {},
     "execution_count": 3
    }
   ],
   "source": [
    "f = open(\"_\".join([MODEL_PATH, \"_args.pkl\"]), \"rb\")\n",
    "args = pickle.load(f)\n",
    "f.close()\n",
    "df = pd.read_csv(\"_\".join([MODEL_PATH, \"df.csv\"]))\n",
    "df.columns = [\"ts_id\", \"shape\", \"noise\", \"period\"]\n",
    "df = df.replace({np.nan: None})\n",
    "df.head(), args, len(df)"
   ]
  },
  {
   "cell_type": "code",
   "execution_count": 4,
   "metadata": {},
   "outputs": [
    {
     "output_type": "execute_result",
     "data": {
      "text/plain": "TCN(\n  (tcn): TemporalConvolutionalNetwork(\n    (net): Sequential(\n      (0): ResidualBlock(\n        (dcc1): DilatedCausalConv(1, 32, kernel_size=(7,), stride=(1,))\n        (drop1): Dropout(p=0.2, inplace=False)\n        (dcc2): DilatedCausalConv(32, 32, kernel_size=(7,), stride=(1,))\n        (drop2): Dropout(p=0.2, inplace=False)\n        (res_conv): Conv1d(1, 32, kernel_size=(1,), stride=(1,))\n      )\n      (1): ResidualBlock(\n        (dcc1): DilatedCausalConv(32, 32, kernel_size=(7,), stride=(1,), dilation=(2,))\n        (drop1): Dropout(p=0.2, inplace=False)\n        (dcc2): DilatedCausalConv(32, 32, kernel_size=(7,), stride=(1,), dilation=(2,))\n        (drop2): Dropout(p=0.2, inplace=False)\n      )\n      (2): ResidualBlock(\n        (dcc1): DilatedCausalConv(32, 32, kernel_size=(7,), stride=(1,), dilation=(4,))\n        (drop1): Dropout(p=0.2, inplace=False)\n        (dcc2): DilatedCausalConv(32, 32, kernel_size=(7,), stride=(1,), dilation=(4,))\n        (drop2): Dropout(p=0.2, inplace=False)\n      )\n      (3): ResidualBlock(\n        (dcc1): DilatedCausalConv(32, 32, kernel_size=(7,), stride=(1,), dilation=(8,))\n        (drop1): Dropout(p=0.2, inplace=False)\n        (dcc2): DilatedCausalConv(32, 32, kernel_size=(7,), stride=(1,), dilation=(8,))\n        (drop2): Dropout(p=0.2, inplace=False)\n      )\n      (4): ResidualBlock(\n        (dcc1): DilatedCausalConv(32, 32, kernel_size=(7,), stride=(1,), dilation=(16,))\n        (drop1): Dropout(p=0.2, inplace=False)\n        (dcc2): DilatedCausalConv(32, 32, kernel_size=(7,), stride=(1,), dilation=(16,))\n        (drop2): Dropout(p=0.2, inplace=False)\n      )\n    )\n  )\n  (conv1d): DilatedCausalConv(32, 1, kernel_size=(7,), stride=(1,))\n  (embedding): Embedding(50, 10)\n  (resemb): ResidualBlock(\n    (dcc1): DilatedCausalConv(42, 32, kernel_size=(7,), stride=(1,))\n    (drop1): Dropout(p=0.2, inplace=False)\n    (dcc2): DilatedCausalConv(32, 32, kernel_size=(7,), stride=(1,))\n    (drop2): Dropout(p=0.2, inplace=False)\n    (res_conv): Conv1d(42, 32, kernel_size=(1,), stride=(1,))\n  )\n)"
     },
     "metadata": {},
     "execution_count": 4
    }
   ],
   "source": [
    "# Read in model\n",
    "model = TCN(\n",
    "        num_layers=args.num_layers,\n",
    "        in_channels=1,\n",
    "        out_channels=1,\n",
    "        residual_blocks_channel_size=[args.res_block_size]*args.num_layers,\n",
    "        kernel_size=args.kernel_size,\n",
    "        num_embeddings=len(df),\n",
    "        embedding_dim=args.embedding_dim,\n",
    "        embed=args.embed,)\n",
    "model.load_state_dict(torch.load(MODEL_PATH, map_location=\"cpu\"))\n",
    "model.eval()\n"
   ]
  },
  {
   "cell_type": "code",
   "execution_count": 5,
   "metadata": {},
   "outputs": [
    {
     "output_type": "stream",
     "name": "stdout",
     "text": "Dimension of X :  torch.Size([50, 1, 100])\nDimension of Y :  torch.Size([50, 1, 100])\n"
    }
   ],
   "source": [
    "\n",
    "dataset = ShapeDataset(\n",
    "    df=df,\n",
    "    receptive_field=1+2*(args.kernel_size-1)*2**(args.num_layers-1),\n",
    "    h_batch=0,\n",
    "    N=args.N if args.N else 50,\n",
    ")\n",
    "dataloader = DataLoader(dataset=dataset, batch_size=1, num_workers=0, shuffle=False)"
   ]
  },
  {
   "cell_type": "markdown",
   "metadata": {},
   "source": [
    "Getting the embeddings by passing the indexes through the embedding layer."
   ]
  },
  {
   "cell_type": "code",
   "execution_count": 6,
   "metadata": {},
   "outputs": [],
   "source": [
    "embeddings = {}\n",
    "for i, d in enumerate(dataloader):\n",
    "    x, y, idx, idx_row = d[0], d[1], d[2], d[3]\n",
    "    embeddings[idx_row.item()] = model.embedding(idx_row).detach().numpy().flatten()"
   ]
  },
  {
   "cell_type": "code",
   "execution_count": 7,
   "metadata": {},
   "outputs": [
    {
     "output_type": "execute_result",
     "data": {
      "text/plain": "10"
     },
     "metadata": {},
     "execution_count": 7
    }
   ],
   "source": [
    "embeddings[1].shape[0]"
   ]
  },
  {
   "cell_type": "code",
   "execution_count": 19,
   "metadata": {},
   "outputs": [],
   "source": [
    "# PCA if we have too many embeddings to visualize\n",
    "\n",
    "if embeddings[1].shape[0] > 2:\n",
    "    print(\"importing pca\")\n",
    "    from sklearn.decomposition import PCA\n",
    "    print(\"imported. loading pca.\")\n",
    "    pca = PCA(n_components=2)\n",
    "    print(\"Done loading pca.\")\n",
    "    emb_mat = np.array(list(embeddings.values()))\n",
    "    print(\"fit_transforming\")\n",
    "    emb_pca = pca.fit_transform(emb_mat)\n",
    "    print(\"done fit_transforming\")\n",
    "    \n",
    "    embeddings = {i : emb_pca[i] for i in range(len(emb_pca))}\n",
    "    "
   ]
  },
  {
   "cell_type": "code",
   "execution_count": 20,
   "metadata": {},
   "outputs": [
    {
     "output_type": "stream",
     "name": "stdout",
     "text": "[0.26188716 0.13722205]\n"
    }
   ],
   "source": [
    "print(pca.explained_variance_ratio_)"
   ]
  },
  {
   "cell_type": "code",
   "execution_count": 9,
   "metadata": {},
   "outputs": [],
   "source": [
    "x = [embeddings[key][0] for key in embeddings.keys()]\n",
    "y = [embeddings[key][1] for key in embeddings.keys()]\n",
    "embs = [key for key in embeddings.keys()]"
   ]
  },
  {
   "cell_type": "code",
   "execution_count": 10,
   "metadata": {},
   "outputs": [],
   "source": [
    "dfc = pd.DataFrame({\"ts_id\": embs,\"x\" : x, \"y\":y})\n",
    "df = pd.merge(df, dfc, on=\"ts_id\")"
   ]
  },
  {
   "cell_type": "code",
   "execution_count": 11,
   "metadata": {},
   "outputs": [
    {
     "output_type": "execute_result",
     "data": {
      "text/plain": "   ts_id     shape   noise  period         x         y\n0      0    square    None      10 -0.298825  0.397975\n1      1    square    None      10 -0.260090  0.294993\n2      2    square  matern       2  0.123725 -0.351231\n3      3  triangle     iid      10  0.753907 -0.183832\n4      4  triangle     iid      20 -0.318734  0.073934",
      "text/html": "<div>\n<style scoped>\n    .dataframe tbody tr th:only-of-type {\n        vertical-align: middle;\n    }\n\n    .dataframe tbody tr th {\n        vertical-align: top;\n    }\n\n    .dataframe thead th {\n        text-align: right;\n    }\n</style>\n<table border=\"1\" class=\"dataframe\">\n  <thead>\n    <tr style=\"text-align: right;\">\n      <th></th>\n      <th>ts_id</th>\n      <th>shape</th>\n      <th>noise</th>\n      <th>period</th>\n      <th>x</th>\n      <th>y</th>\n    </tr>\n  </thead>\n  <tbody>\n    <tr>\n      <th>0</th>\n      <td>0</td>\n      <td>square</td>\n      <td>None</td>\n      <td>10</td>\n      <td>-0.298825</td>\n      <td>0.397975</td>\n    </tr>\n    <tr>\n      <th>1</th>\n      <td>1</td>\n      <td>square</td>\n      <td>None</td>\n      <td>10</td>\n      <td>-0.260090</td>\n      <td>0.294993</td>\n    </tr>\n    <tr>\n      <th>2</th>\n      <td>2</td>\n      <td>square</td>\n      <td>matern</td>\n      <td>2</td>\n      <td>0.123725</td>\n      <td>-0.351231</td>\n    </tr>\n    <tr>\n      <th>3</th>\n      <td>3</td>\n      <td>triangle</td>\n      <td>iid</td>\n      <td>10</td>\n      <td>0.753907</td>\n      <td>-0.183832</td>\n    </tr>\n    <tr>\n      <th>4</th>\n      <td>4</td>\n      <td>triangle</td>\n      <td>iid</td>\n      <td>20</td>\n      <td>-0.318734</td>\n      <td>0.073934</td>\n    </tr>\n  </tbody>\n</table>\n</div>"
     },
     "metadata": {},
     "execution_count": 11
    }
   ],
   "source": [
    "df_plot = df.replace({None: \"None\"})\n",
    "df_plot.head()"
   ]
  },
  {
   "cell_type": "code",
   "execution_count": 12,
   "metadata": {},
   "outputs": [
    {
     "output_type": "display_data",
     "data": {
      "application/vnd.plotly.v1+json": {
       "config": {
        "plotlyServerURL": "https://plot.ly"
       },
       "data": [
        {
         "hovertemplate": "noise=None<br>shape=square<br>x=%{x}<br>y=%{y}<br>period=%{marker.size}<extra></extra>",
         "legendgroup": "None, square",
         "marker": {
          "color": "#636efa",
          "size": [
           10,
           10,
           2,
           20,
           20,
           10
          ],
          "sizemode": "area",
          "sizeref": 0.05,
          "symbol": "circle"
         },
         "mode": "markers",
         "name": "None, square",
         "showlegend": true,
         "type": "scatter",
         "x": [
          -0.2988251745700836,
          -0.2600897252559662,
          -0.08424647152423859,
          -0.07407072931528091,
          -0.2205921709537506,
          -0.27222639322280884
         ],
         "xaxis": "x",
         "y": [
          0.3979748487472534,
          0.2949928641319275,
          -0.18494248390197754,
          0.12518642842769623,
          0.5693483352661133,
          0.03668570518493652
         ],
         "yaxis": "y"
        },
        {
         "hovertemplate": "noise=None<br>shape=triangle<br>x=%{x}<br>y=%{y}<br>period=%{marker.size}<extra></extra>",
         "legendgroup": "None, triangle",
         "marker": {
          "color": "#636efa",
          "size": [
           2,
           10,
           10,
           2,
           10
          ],
          "sizemode": "area",
          "sizeref": 0.05,
          "symbol": "diamond"
         },
         "mode": "markers",
         "name": "None, triangle",
         "showlegend": true,
         "type": "scatter",
         "x": [
          -0.2716183364391327,
          0.24624906480312347,
          0.1874874234199524,
          -0.2829703688621521,
          0.28104346990585327
         ],
         "xaxis": "x",
         "y": [
          -0.10601967573165894,
          0.27418553829193115,
          0.4438042640686035,
          0.06525424122810364,
          -0.18133069574832916
         ],
         "yaxis": "y"
        },
        {
         "hovertemplate": "noise=None<br>shape=sine<br>x=%{x}<br>y=%{y}<br>period=%{marker.size}<extra></extra>",
         "legendgroup": "None, sine",
         "marker": {
          "color": "#636efa",
          "size": [
           20,
           10,
           2,
           2,
           10,
           20,
           10,
           2,
           2,
           10,
           10
          ],
          "sizemode": "area",
          "sizeref": 0.05,
          "symbol": "square"
         },
         "mode": "markers",
         "name": "None, sine",
         "showlegend": true,
         "type": "scatter",
         "x": [
          0.19651493430137634,
          0.21661311388015747,
          -0.4725491404533386,
          -0.3503204882144928,
          0.2696708142757416,
          0.2909328043460846,
          0.2844924032688141,
          -0.2031126469373703,
          -0.3055061995983124,
          0.19028273224830627,
          0.3093462884426117
         ],
         "xaxis": "x",
         "y": [
          -0.03702857717871666,
          0.0795501321554184,
          0.14108189940452576,
          0.29696354269981384,
          -0.16613511741161346,
          -0.15287363529205322,
          -0.12292121350765228,
          -0.2218339890241623,
          0.2158447951078415,
          -0.2105168104171753,
          -0.16153484582901
         ],
         "yaxis": "y"
        },
        {
         "hovertemplate": "noise=matern<br>shape=square<br>x=%{x}<br>y=%{y}<br>period=%{marker.size}<extra></extra>",
         "legendgroup": "matern, square",
         "marker": {
          "color": "#EF553B",
          "size": [
           2,
           20,
           20,
           2,
           2,
           2
          ],
          "sizemode": "area",
          "sizeref": 0.05,
          "symbol": "circle"
         },
         "mode": "markers",
         "name": "matern, square",
         "showlegend": true,
         "type": "scatter",
         "x": [
          0.12372536957263947,
          -0.07802587002515793,
          -0.01946517452597618,
          0.15404999256134033,
          -0.2207745611667633,
          -0.21668465435504913
         ],
         "xaxis": "x",
         "y": [
          -0.35123077034950256,
          -0.06576328724622726,
          -0.006499072536826134,
          -0.05384477972984314,
          0.3213835060596466,
          -0.026881610974669456
         ],
         "yaxis": "y"
        },
        {
         "hovertemplate": "noise=matern<br>shape=triangle<br>x=%{x}<br>y=%{y}<br>period=%{marker.size}<extra></extra>",
         "legendgroup": "matern, triangle",
         "marker": {
          "color": "#EF553B",
          "size": [
           2,
           20,
           20,
           2,
           2,
           10,
           20
          ],
          "sizemode": "area",
          "sizeref": 0.05,
          "symbol": "diamond"
         },
         "mode": "markers",
         "name": "matern, triangle",
         "showlegend": true,
         "type": "scatter",
         "x": [
          -0.29002252221107483,
          -0.2935843765735626,
          0.04161246493458748,
          -0.2148759514093399,
          -0.2585670053958893,
          0.7967014908790588,
          -0.48705974221229553
         ],
         "xaxis": "x",
         "y": [
          -0.06584740430116653,
          -0.07196635007858276,
          -0.05797884613275528,
          -0.556387186050415,
          -0.2973346710205078,
          -0.33957022428512573,
          -0.020604651421308517
         ],
         "yaxis": "y"
        },
        {
         "hovertemplate": "noise=matern<br>shape=sine<br>x=%{x}<br>y=%{y}<br>period=%{marker.size}<extra></extra>",
         "legendgroup": "matern, sine",
         "marker": {
          "color": "#EF553B",
          "size": [
           2
          ],
          "sizemode": "area",
          "sizeref": 0.05,
          "symbol": "square"
         },
         "mode": "markers",
         "name": "matern, sine",
         "showlegend": true,
         "type": "scatter",
         "x": [
          -0.4141089916229248
         ],
         "xaxis": "x",
         "y": [
          -0.17661255598068237
         ],
         "yaxis": "y"
        },
        {
         "hovertemplate": "noise=iid<br>shape=square<br>x=%{x}<br>y=%{y}<br>period=%{marker.size}<extra></extra>",
         "legendgroup": "iid, square",
         "marker": {
          "color": "#00cc96",
          "size": [
           2,
           2,
           2,
           20,
           20
          ],
          "sizemode": "area",
          "sizeref": 0.05,
          "symbol": "circle"
         },
         "mode": "markers",
         "name": "iid, square",
         "showlegend": true,
         "type": "scatter",
         "x": [
          0.05383962392807007,
          -0.21746662259101868,
          0.0017386964755132794,
          -0.13411028683185577,
          -0.12210986763238907
         ],
         "xaxis": "x",
         "y": [
          0.02466733753681183,
          0.11346258223056793,
          -0.31717512011528015,
          -0.2565526068210602,
          0.011470815166831017
         ],
         "yaxis": "y"
        },
        {
         "hovertemplate": "noise=iid<br>shape=triangle<br>x=%{x}<br>y=%{y}<br>period=%{marker.size}<extra></extra>",
         "legendgroup": "iid, triangle",
         "marker": {
          "color": "#00cc96",
          "size": [
           10,
           20,
           20,
           2
          ],
          "sizemode": "area",
          "sizeref": 0.05,
          "symbol": "diamond"
         },
         "mode": "markers",
         "name": "iid, triangle",
         "showlegend": true,
         "type": "scatter",
         "x": [
          0.7539070844650269,
          -0.31873393058776855,
          0.11813660711050034,
          -0.00417229812592268
         ],
         "xaxis": "x",
         "y": [
          -0.18383213877677917,
          0.073934406042099,
          0.17668300867080688,
          -0.26792943477630615
         ],
         "yaxis": "y"
        },
        {
         "hovertemplate": "noise=iid<br>shape=sine<br>x=%{x}<br>y=%{y}<br>period=%{marker.size}<extra></extra>",
         "legendgroup": "iid, sine",
         "marker": {
          "color": "#00cc96",
          "size": [
           2,
           20,
           2,
           10,
           10
          ],
          "sizemode": "area",
          "sizeref": 0.05,
          "symbol": "square"
         },
         "mode": "markers",
         "name": "iid, sine",
         "showlegend": true,
         "type": "scatter",
         "x": [
          -0.2941136062145233,
          0.7055529952049255,
          -0.0928921028971672,
          0.8411301970481873,
          0.7098674178123474
         ],
         "xaxis": "x",
         "y": [
          0.15865807235240936,
          0.48782244324684143,
          -0.2693495452404022,
          0.32586923241615295,
          0.2956734299659729
         ],
         "yaxis": "y"
        }
       ],
       "layout": {
        "legend": {
         "itemsizing": "constant",
         "title": {
          "text": "noise, shape"
         },
         "tracegroupgap": 0
        },
        "margin": {
         "t": 60
        },
        "template": {
         "data": {
          "bar": [
           {
            "error_x": {
             "color": "#2a3f5f"
            },
            "error_y": {
             "color": "#2a3f5f"
            },
            "marker": {
             "line": {
              "color": "#E5ECF6",
              "width": 0.5
             }
            },
            "type": "bar"
           }
          ],
          "barpolar": [
           {
            "marker": {
             "line": {
              "color": "#E5ECF6",
              "width": 0.5
             }
            },
            "type": "barpolar"
           }
          ],
          "carpet": [
           {
            "aaxis": {
             "endlinecolor": "#2a3f5f",
             "gridcolor": "white",
             "linecolor": "white",
             "minorgridcolor": "white",
             "startlinecolor": "#2a3f5f"
            },
            "baxis": {
             "endlinecolor": "#2a3f5f",
             "gridcolor": "white",
             "linecolor": "white",
             "minorgridcolor": "white",
             "startlinecolor": "#2a3f5f"
            },
            "type": "carpet"
           }
          ],
          "choropleth": [
           {
            "colorbar": {
             "outlinewidth": 0,
             "ticks": ""
            },
            "type": "choropleth"
           }
          ],
          "contour": [
           {
            "colorbar": {
             "outlinewidth": 0,
             "ticks": ""
            },
            "colorscale": [
             [
              0,
              "#0d0887"
             ],
             [
              0.1111111111111111,
              "#46039f"
             ],
             [
              0.2222222222222222,
              "#7201a8"
             ],
             [
              0.3333333333333333,
              "#9c179e"
             ],
             [
              0.4444444444444444,
              "#bd3786"
             ],
             [
              0.5555555555555556,
              "#d8576b"
             ],
             [
              0.6666666666666666,
              "#ed7953"
             ],
             [
              0.7777777777777778,
              "#fb9f3a"
             ],
             [
              0.8888888888888888,
              "#fdca26"
             ],
             [
              1,
              "#f0f921"
             ]
            ],
            "type": "contour"
           }
          ],
          "contourcarpet": [
           {
            "colorbar": {
             "outlinewidth": 0,
             "ticks": ""
            },
            "type": "contourcarpet"
           }
          ],
          "heatmap": [
           {
            "colorbar": {
             "outlinewidth": 0,
             "ticks": ""
            },
            "colorscale": [
             [
              0,
              "#0d0887"
             ],
             [
              0.1111111111111111,
              "#46039f"
             ],
             [
              0.2222222222222222,
              "#7201a8"
             ],
             [
              0.3333333333333333,
              "#9c179e"
             ],
             [
              0.4444444444444444,
              "#bd3786"
             ],
             [
              0.5555555555555556,
              "#d8576b"
             ],
             [
              0.6666666666666666,
              "#ed7953"
             ],
             [
              0.7777777777777778,
              "#fb9f3a"
             ],
             [
              0.8888888888888888,
              "#fdca26"
             ],
             [
              1,
              "#f0f921"
             ]
            ],
            "type": "heatmap"
           }
          ],
          "heatmapgl": [
           {
            "colorbar": {
             "outlinewidth": 0,
             "ticks": ""
            },
            "colorscale": [
             [
              0,
              "#0d0887"
             ],
             [
              0.1111111111111111,
              "#46039f"
             ],
             [
              0.2222222222222222,
              "#7201a8"
             ],
             [
              0.3333333333333333,
              "#9c179e"
             ],
             [
              0.4444444444444444,
              "#bd3786"
             ],
             [
              0.5555555555555556,
              "#d8576b"
             ],
             [
              0.6666666666666666,
              "#ed7953"
             ],
             [
              0.7777777777777778,
              "#fb9f3a"
             ],
             [
              0.8888888888888888,
              "#fdca26"
             ],
             [
              1,
              "#f0f921"
             ]
            ],
            "type": "heatmapgl"
           }
          ],
          "histogram": [
           {
            "marker": {
             "colorbar": {
              "outlinewidth": 0,
              "ticks": ""
             }
            },
            "type": "histogram"
           }
          ],
          "histogram2d": [
           {
            "colorbar": {
             "outlinewidth": 0,
             "ticks": ""
            },
            "colorscale": [
             [
              0,
              "#0d0887"
             ],
             [
              0.1111111111111111,
              "#46039f"
             ],
             [
              0.2222222222222222,
              "#7201a8"
             ],
             [
              0.3333333333333333,
              "#9c179e"
             ],
             [
              0.4444444444444444,
              "#bd3786"
             ],
             [
              0.5555555555555556,
              "#d8576b"
             ],
             [
              0.6666666666666666,
              "#ed7953"
             ],
             [
              0.7777777777777778,
              "#fb9f3a"
             ],
             [
              0.8888888888888888,
              "#fdca26"
             ],
             [
              1,
              "#f0f921"
             ]
            ],
            "type": "histogram2d"
           }
          ],
          "histogram2dcontour": [
           {
            "colorbar": {
             "outlinewidth": 0,
             "ticks": ""
            },
            "colorscale": [
             [
              0,
              "#0d0887"
             ],
             [
              0.1111111111111111,
              "#46039f"
             ],
             [
              0.2222222222222222,
              "#7201a8"
             ],
             [
              0.3333333333333333,
              "#9c179e"
             ],
             [
              0.4444444444444444,
              "#bd3786"
             ],
             [
              0.5555555555555556,
              "#d8576b"
             ],
             [
              0.6666666666666666,
              "#ed7953"
             ],
             [
              0.7777777777777778,
              "#fb9f3a"
             ],
             [
              0.8888888888888888,
              "#fdca26"
             ],
             [
              1,
              "#f0f921"
             ]
            ],
            "type": "histogram2dcontour"
           }
          ],
          "mesh3d": [
           {
            "colorbar": {
             "outlinewidth": 0,
             "ticks": ""
            },
            "type": "mesh3d"
           }
          ],
          "parcoords": [
           {
            "line": {
             "colorbar": {
              "outlinewidth": 0,
              "ticks": ""
             }
            },
            "type": "parcoords"
           }
          ],
          "pie": [
           {
            "automargin": true,
            "type": "pie"
           }
          ],
          "scatter": [
           {
            "marker": {
             "colorbar": {
              "outlinewidth": 0,
              "ticks": ""
             }
            },
            "type": "scatter"
           }
          ],
          "scatter3d": [
           {
            "line": {
             "colorbar": {
              "outlinewidth": 0,
              "ticks": ""
             }
            },
            "marker": {
             "colorbar": {
              "outlinewidth": 0,
              "ticks": ""
             }
            },
            "type": "scatter3d"
           }
          ],
          "scattercarpet": [
           {
            "marker": {
             "colorbar": {
              "outlinewidth": 0,
              "ticks": ""
             }
            },
            "type": "scattercarpet"
           }
          ],
          "scattergeo": [
           {
            "marker": {
             "colorbar": {
              "outlinewidth": 0,
              "ticks": ""
             }
            },
            "type": "scattergeo"
           }
          ],
          "scattergl": [
           {
            "marker": {
             "colorbar": {
              "outlinewidth": 0,
              "ticks": ""
             }
            },
            "type": "scattergl"
           }
          ],
          "scattermapbox": [
           {
            "marker": {
             "colorbar": {
              "outlinewidth": 0,
              "ticks": ""
             }
            },
            "type": "scattermapbox"
           }
          ],
          "scatterpolar": [
           {
            "marker": {
             "colorbar": {
              "outlinewidth": 0,
              "ticks": ""
             }
            },
            "type": "scatterpolar"
           }
          ],
          "scatterpolargl": [
           {
            "marker": {
             "colorbar": {
              "outlinewidth": 0,
              "ticks": ""
             }
            },
            "type": "scatterpolargl"
           }
          ],
          "scatterternary": [
           {
            "marker": {
             "colorbar": {
              "outlinewidth": 0,
              "ticks": ""
             }
            },
            "type": "scatterternary"
           }
          ],
          "surface": [
           {
            "colorbar": {
             "outlinewidth": 0,
             "ticks": ""
            },
            "colorscale": [
             [
              0,
              "#0d0887"
             ],
             [
              0.1111111111111111,
              "#46039f"
             ],
             [
              0.2222222222222222,
              "#7201a8"
             ],
             [
              0.3333333333333333,
              "#9c179e"
             ],
             [
              0.4444444444444444,
              "#bd3786"
             ],
             [
              0.5555555555555556,
              "#d8576b"
             ],
             [
              0.6666666666666666,
              "#ed7953"
             ],
             [
              0.7777777777777778,
              "#fb9f3a"
             ],
             [
              0.8888888888888888,
              "#fdca26"
             ],
             [
              1,
              "#f0f921"
             ]
            ],
            "type": "surface"
           }
          ],
          "table": [
           {
            "cells": {
             "fill": {
              "color": "#EBF0F8"
             },
             "line": {
              "color": "white"
             }
            },
            "header": {
             "fill": {
              "color": "#C8D4E3"
             },
             "line": {
              "color": "white"
             }
            },
            "type": "table"
           }
          ]
         },
         "layout": {
          "annotationdefaults": {
           "arrowcolor": "#2a3f5f",
           "arrowhead": 0,
           "arrowwidth": 1
          },
          "coloraxis": {
           "colorbar": {
            "outlinewidth": 0,
            "ticks": ""
           }
          },
          "colorscale": {
           "diverging": [
            [
             0,
             "#8e0152"
            ],
            [
             0.1,
             "#c51b7d"
            ],
            [
             0.2,
             "#de77ae"
            ],
            [
             0.3,
             "#f1b6da"
            ],
            [
             0.4,
             "#fde0ef"
            ],
            [
             0.5,
             "#f7f7f7"
            ],
            [
             0.6,
             "#e6f5d0"
            ],
            [
             0.7,
             "#b8e186"
            ],
            [
             0.8,
             "#7fbc41"
            ],
            [
             0.9,
             "#4d9221"
            ],
            [
             1,
             "#276419"
            ]
           ],
           "sequential": [
            [
             0,
             "#0d0887"
            ],
            [
             0.1111111111111111,
             "#46039f"
            ],
            [
             0.2222222222222222,
             "#7201a8"
            ],
            [
             0.3333333333333333,
             "#9c179e"
            ],
            [
             0.4444444444444444,
             "#bd3786"
            ],
            [
             0.5555555555555556,
             "#d8576b"
            ],
            [
             0.6666666666666666,
             "#ed7953"
            ],
            [
             0.7777777777777778,
             "#fb9f3a"
            ],
            [
             0.8888888888888888,
             "#fdca26"
            ],
            [
             1,
             "#f0f921"
            ]
           ],
           "sequentialminus": [
            [
             0,
             "#0d0887"
            ],
            [
             0.1111111111111111,
             "#46039f"
            ],
            [
             0.2222222222222222,
             "#7201a8"
            ],
            [
             0.3333333333333333,
             "#9c179e"
            ],
            [
             0.4444444444444444,
             "#bd3786"
            ],
            [
             0.5555555555555556,
             "#d8576b"
            ],
            [
             0.6666666666666666,
             "#ed7953"
            ],
            [
             0.7777777777777778,
             "#fb9f3a"
            ],
            [
             0.8888888888888888,
             "#fdca26"
            ],
            [
             1,
             "#f0f921"
            ]
           ]
          },
          "colorway": [
           "#636efa",
           "#EF553B",
           "#00cc96",
           "#ab63fa",
           "#FFA15A",
           "#19d3f3",
           "#FF6692",
           "#B6E880",
           "#FF97FF",
           "#FECB52"
          ],
          "font": {
           "color": "#2a3f5f"
          },
          "geo": {
           "bgcolor": "white",
           "lakecolor": "white",
           "landcolor": "#E5ECF6",
           "showlakes": true,
           "showland": true,
           "subunitcolor": "white"
          },
          "hoverlabel": {
           "align": "left"
          },
          "hovermode": "closest",
          "mapbox": {
           "style": "light"
          },
          "paper_bgcolor": "white",
          "plot_bgcolor": "#E5ECF6",
          "polar": {
           "angularaxis": {
            "gridcolor": "white",
            "linecolor": "white",
            "ticks": ""
           },
           "bgcolor": "#E5ECF6",
           "radialaxis": {
            "gridcolor": "white",
            "linecolor": "white",
            "ticks": ""
           }
          },
          "scene": {
           "xaxis": {
            "backgroundcolor": "#E5ECF6",
            "gridcolor": "white",
            "gridwidth": 2,
            "linecolor": "white",
            "showbackground": true,
            "ticks": "",
            "zerolinecolor": "white"
           },
           "yaxis": {
            "backgroundcolor": "#E5ECF6",
            "gridcolor": "white",
            "gridwidth": 2,
            "linecolor": "white",
            "showbackground": true,
            "ticks": "",
            "zerolinecolor": "white"
           },
           "zaxis": {
            "backgroundcolor": "#E5ECF6",
            "gridcolor": "white",
            "gridwidth": 2,
            "linecolor": "white",
            "showbackground": true,
            "ticks": "",
            "zerolinecolor": "white"
           }
          },
          "shapedefaults": {
           "line": {
            "color": "#2a3f5f"
           }
          },
          "ternary": {
           "aaxis": {
            "gridcolor": "white",
            "linecolor": "white",
            "ticks": ""
           },
           "baxis": {
            "gridcolor": "white",
            "linecolor": "white",
            "ticks": ""
           },
           "bgcolor": "#E5ECF6",
           "caxis": {
            "gridcolor": "white",
            "linecolor": "white",
            "ticks": ""
           }
          },
          "title": {
           "x": 0.05
          },
          "xaxis": {
           "automargin": true,
           "gridcolor": "white",
           "linecolor": "white",
           "ticks": "",
           "title": {
            "standoff": 15
           },
           "zerolinecolor": "white",
           "zerolinewidth": 2
          },
          "yaxis": {
           "automargin": true,
           "gridcolor": "white",
           "linecolor": "white",
           "ticks": "",
           "title": {
            "standoff": 15
           },
           "zerolinecolor": "white",
           "zerolinewidth": 2
          }
         }
        },
        "xaxis": {
         "anchor": "y",
         "domain": [
          0,
          1
         ],
         "title": {
          "text": "x"
         }
        },
        "yaxis": {
         "anchor": "x",
         "domain": [
          0,
          1
         ],
         "title": {
          "text": "y"
         }
        }
       }
      }
     },
     "metadata": {}
    }
   ],
   "source": [
    "import plotly.express as px\n",
    "\n",
    "fig = px.scatter(\n",
    "    df_plot, x=\"x\", y=\"y\", \n",
    "    symbol=\"shape\",\n",
    "    color='noise', \n",
    "    size=\"period\", \n",
    "    )#hover_data=['period'])\n",
    "fig.show()"
   ]
  },
  {
   "cell_type": "code",
   "execution_count": 13,
   "metadata": {},
   "outputs": [],
   "source": [
    "replace_dict_str = {\"square\": \"square\", \"triangle\": \"triangle-up\", \"sine\": \"circle\", \"iid\": \"red\", \"matern\": \"blue\", \"None\": \"green\"}\n",
    "replace_dict_int = {2: 10, 10: 20, 20: 30}"
   ]
  },
  {
   "cell_type": "code",
   "execution_count": 14,
   "metadata": {},
   "outputs": [
    {
     "output_type": "execute_result",
     "data": {
      "text/plain": "({'square': 'square',\n  'triangle-up': 'triangle',\n  'circle': 'sine',\n  'red': 'iid',\n  'blue': 'matern',\n  'green': 'None'},\n {10: 2, 20: 10, 30: 20})"
     },
     "metadata": {},
     "execution_count": 14
    }
   ],
   "source": [
    "inv_replace_str = {value : key for key, value in replace_dict_str.items()}\n",
    "inv_replace_int = {value : key for key, value in replace_dict_int.items()}\n",
    "inv_replace_str, inv_replace_int "
   ]
  },
  {
   "cell_type": "code",
   "execution_count": 15,
   "metadata": {},
   "outputs": [
    {
     "output_type": "execute_result",
     "data": {
      "text/plain": "   ts_id     shape   noise  period         x         y      symbols  color  \\\n0      0    square    None      10 -0.298825  0.397975       square  green   \n1      1    square    None      10 -0.260090  0.294993       square  green   \n2      2    square  matern       2  0.123725 -0.351231       square   blue   \n3      3  triangle     iid      10  0.753907 -0.183832  triangle-up    red   \n4      4  triangle     iid      20 -0.318734  0.073934  triangle-up    red   \n\n   size  \n0    20  \n1    20  \n2    10  \n3    20  \n4    30  ",
      "text/html": "<div>\n<style scoped>\n    .dataframe tbody tr th:only-of-type {\n        vertical-align: middle;\n    }\n\n    .dataframe tbody tr th {\n        vertical-align: top;\n    }\n\n    .dataframe thead th {\n        text-align: right;\n    }\n</style>\n<table border=\"1\" class=\"dataframe\">\n  <thead>\n    <tr style=\"text-align: right;\">\n      <th></th>\n      <th>ts_id</th>\n      <th>shape</th>\n      <th>noise</th>\n      <th>period</th>\n      <th>x</th>\n      <th>y</th>\n      <th>symbols</th>\n      <th>color</th>\n      <th>size</th>\n    </tr>\n  </thead>\n  <tbody>\n    <tr>\n      <th>0</th>\n      <td>0</td>\n      <td>square</td>\n      <td>None</td>\n      <td>10</td>\n      <td>-0.298825</td>\n      <td>0.397975</td>\n      <td>square</td>\n      <td>green</td>\n      <td>20</td>\n    </tr>\n    <tr>\n      <th>1</th>\n      <td>1</td>\n      <td>square</td>\n      <td>None</td>\n      <td>10</td>\n      <td>-0.260090</td>\n      <td>0.294993</td>\n      <td>square</td>\n      <td>green</td>\n      <td>20</td>\n    </tr>\n    <tr>\n      <th>2</th>\n      <td>2</td>\n      <td>square</td>\n      <td>matern</td>\n      <td>2</td>\n      <td>0.123725</td>\n      <td>-0.351231</td>\n      <td>square</td>\n      <td>blue</td>\n      <td>10</td>\n    </tr>\n    <tr>\n      <th>3</th>\n      <td>3</td>\n      <td>triangle</td>\n      <td>iid</td>\n      <td>10</td>\n      <td>0.753907</td>\n      <td>-0.183832</td>\n      <td>triangle-up</td>\n      <td>red</td>\n      <td>20</td>\n    </tr>\n    <tr>\n      <th>4</th>\n      <td>4</td>\n      <td>triangle</td>\n      <td>iid</td>\n      <td>20</td>\n      <td>-0.318734</td>\n      <td>0.073934</td>\n      <td>triangle-up</td>\n      <td>red</td>\n      <td>30</td>\n    </tr>\n  </tbody>\n</table>\n</div>"
     },
     "metadata": {},
     "execution_count": 15
    }
   ],
   "source": [
    "df_plot[\"symbols\"] = df_plot[\"shape\"].replace(replace_dict_str)\n",
    "df_plot[\"color\"] =  df_plot[\"noise\"].replace(replace_dict_str)\n",
    "df_plot[\"size\"] =  df_plot[\"period\"].replace(replace_dict_int)\n",
    "df_plot.head()"
   ]
  },
  {
   "cell_type": "code",
   "execution_count": 17,
   "metadata": {},
   "outputs": [
    {
     "output_type": "display_data",
     "data": {
      "application/vnd.plotly.v1+json": {
       "config": {
        "plotlyServerURL": "https://plot.ly"
       },
       "data": [
        {
         "customdata": [
          [
           "square",
           "None",
           10
          ],
          [
           "square",
           "None",
           10
          ],
          [
           "square",
           "matern",
           2
          ],
          [
           "triangle",
           "iid",
           10
          ],
          [
           "triangle",
           "iid",
           20
          ],
          [
           "triangle",
           "None",
           2
          ],
          [
           "sine",
           "None",
           20
          ],
          [
           "triangle",
           "iid",
           20
          ],
          [
           "sine",
           "None",
           10
          ],
          [
           "square",
           "iid",
           2
          ],
          [
           "triangle",
           "matern",
           2
          ],
          [
           "sine",
           "None",
           2
          ],
          [
           "triangle",
           "matern",
           20
          ],
          [
           "square",
           "matern",
           20
          ],
          [
           "square",
           "iid",
           2
          ],
          [
           "square",
           "None",
           2
          ],
          [
           "sine",
           "None",
           2
          ],
          [
           "sine",
           "None",
           10
          ],
          [
           "square",
           "None",
           20
          ],
          [
           "triangle",
           "matern",
           20
          ],
          [
           "square",
           "iid",
           2
          ],
          [
           "triangle",
           "matern",
           2
          ],
          [
           "sine",
           "matern",
           2
          ],
          [
           "triangle",
           "matern",
           2
          ],
          [
           "sine",
           "None",
           20
          ],
          [
           "triangle",
           "iid",
           2
          ],
          [
           "square",
           "matern",
           20
          ],
          [
           "sine",
           "iid",
           2
          ],
          [
           "sine",
           "iid",
           20
          ],
          [
           "sine",
           "None",
           10
          ],
          [
           "triangle",
           "None",
           10
          ],
          [
           "sine",
           "None",
           2
          ],
          [
           "sine",
           "None",
           2
          ],
          [
           "triangle",
           "None",
           10
          ],
          [
           "triangle",
           "matern",
           10
          ],
          [
           "square",
           "iid",
           20
          ],
          [
           "sine",
           "iid",
           2
          ],
          [
           "square",
           "None",
           20
          ],
          [
           "triangle",
           "None",
           2
          ],
          [
           "square",
           "matern",
           2
          ],
          [
           "square",
           "matern",
           2
          ],
          [
           "triangle",
           "None",
           10
          ],
          [
           "sine",
           "None",
           10
          ],
          [
           "sine",
           "None",
           10
          ],
          [
           "sine",
           "iid",
           10
          ],
          [
           "sine",
           "iid",
           10
          ],
          [
           "square",
           "matern",
           2
          ],
          [
           "triangle",
           "matern",
           20
          ],
          [
           "square",
           "None",
           10
          ],
          [
           "square",
           "iid",
           20
          ]
         ],
         "hovertemplate": "Shape : %{customdata[0]}<br>Noise: %{customdata[1]}<br>Period: %{customdata[2]}",
         "marker": {
          "color": [
           "green",
           "green",
           "blue",
           "red",
           "red",
           "green",
           "green",
           "red",
           "green",
           "red",
           "blue",
           "green",
           "blue",
           "blue",
           "red",
           "green",
           "green",
           "green",
           "green",
           "blue",
           "red",
           "blue",
           "blue",
           "blue",
           "green",
           "red",
           "blue",
           "red",
           "red",
           "green",
           "green",
           "green",
           "green",
           "green",
           "blue",
           "red",
           "red",
           "green",
           "green",
           "blue",
           "blue",
           "green",
           "green",
           "green",
           "red",
           "red",
           "blue",
           "blue",
           "green",
           "red"
          ],
          "line": {
           "color": "midnightblue",
           "width": 2
          },
          "size": [
           20,
           20,
           10,
           20,
           30,
           10,
           30,
           30,
           20,
           10,
           10,
           10,
           30,
           30,
           10,
           10,
           10,
           20,
           30,
           30,
           10,
           10,
           10,
           10,
           30,
           10,
           30,
           10,
           30,
           20,
           20,
           10,
           10,
           20,
           20,
           30,
           10,
           30,
           10,
           10,
           10,
           20,
           20,
           20,
           20,
           20,
           10,
           30,
           20,
           30
          ],
          "symbol": [
           "square",
           "square",
           "square",
           "triangle-up",
           "triangle-up",
           "triangle-up",
           "circle",
           "triangle-up",
           "circle",
           "square",
           "triangle-up",
           "circle",
           "triangle-up",
           "square",
           "square",
           "square",
           "circle",
           "circle",
           "square",
           "triangle-up",
           "square",
           "triangle-up",
           "circle",
           "triangle-up",
           "circle",
           "triangle-up",
           "square",
           "circle",
           "circle",
           "circle",
           "triangle-up",
           "circle",
           "circle",
           "triangle-up",
           "triangle-up",
           "square",
           "circle",
           "square",
           "triangle-up",
           "square",
           "square",
           "triangle-up",
           "circle",
           "circle",
           "circle",
           "circle",
           "square",
           "triangle-up",
           "square",
           "square"
          ]
         },
         "mode": "markers",
         "type": "scatter",
         "x": [
          -0.2988251745700836,
          -0.2600897252559662,
          0.12372536957263947,
          0.7539070844650269,
          -0.31873393058776855,
          -0.2716183364391327,
          0.19651493430137634,
          0.11813660711050034,
          0.21661311388015747,
          0.05383962392807007,
          -0.29002252221107483,
          -0.4725491404533386,
          -0.2935843765735626,
          -0.07802587002515793,
          -0.21746662259101868,
          -0.08424647152423859,
          -0.3503204882144928,
          0.2696708142757416,
          -0.07407072931528091,
          0.04161246493458748,
          0.0017386964755132794,
          -0.2148759514093399,
          -0.4141089916229248,
          -0.2585670053958893,
          0.2909328043460846,
          -0.00417229812592268,
          -0.01946517452597618,
          -0.2941136062145233,
          0.7055529952049255,
          0.2844924032688141,
          0.24624906480312347,
          -0.2031126469373703,
          -0.3055061995983124,
          0.1874874234199524,
          0.7967014908790588,
          -0.13411028683185577,
          -0.0928921028971672,
          -0.2205921709537506,
          -0.2829703688621521,
          0.15404999256134033,
          -0.2207745611667633,
          0.28104346990585327,
          0.19028273224830627,
          0.3093462884426117,
          0.8411301970481873,
          0.7098674178123474,
          -0.21668465435504913,
          -0.48705974221229553,
          -0.27222639322280884,
          -0.12210986763238907
         ],
         "y": [
          0.3979748487472534,
          0.2949928641319275,
          -0.35123077034950256,
          -0.18383213877677917,
          0.073934406042099,
          -0.10601967573165894,
          -0.03702857717871666,
          0.17668300867080688,
          0.0795501321554184,
          0.02466733753681183,
          -0.06584740430116653,
          0.14108189940452576,
          -0.07196635007858276,
          -0.06576328724622726,
          0.11346258223056793,
          -0.18494248390197754,
          0.29696354269981384,
          -0.16613511741161346,
          0.12518642842769623,
          -0.05797884613275528,
          -0.31717512011528015,
          -0.556387186050415,
          -0.17661255598068237,
          -0.2973346710205078,
          -0.15287363529205322,
          -0.26792943477630615,
          -0.006499072536826134,
          0.15865807235240936,
          0.48782244324684143,
          -0.12292121350765228,
          0.27418553829193115,
          -0.2218339890241623,
          0.2158447951078415,
          0.4438042640686035,
          -0.33957022428512573,
          -0.2565526068210602,
          -0.2693495452404022,
          0.5693483352661133,
          0.06525424122810364,
          -0.05384477972984314,
          0.3213835060596466,
          -0.18133069574832916,
          -0.2105168104171753,
          -0.16153484582901,
          0.32586923241615295,
          0.2956734299659729,
          -0.026881610974669456,
          -0.020604651421308517,
          0.03668570518493652,
          0.011470815166831017
         ]
        }
       ],
       "layout": {
        "template": {
         "data": {
          "bar": [
           {
            "error_x": {
             "color": "#2a3f5f"
            },
            "error_y": {
             "color": "#2a3f5f"
            },
            "marker": {
             "line": {
              "color": "#E5ECF6",
              "width": 0.5
             }
            },
            "type": "bar"
           }
          ],
          "barpolar": [
           {
            "marker": {
             "line": {
              "color": "#E5ECF6",
              "width": 0.5
             }
            },
            "type": "barpolar"
           }
          ],
          "carpet": [
           {
            "aaxis": {
             "endlinecolor": "#2a3f5f",
             "gridcolor": "white",
             "linecolor": "white",
             "minorgridcolor": "white",
             "startlinecolor": "#2a3f5f"
            },
            "baxis": {
             "endlinecolor": "#2a3f5f",
             "gridcolor": "white",
             "linecolor": "white",
             "minorgridcolor": "white",
             "startlinecolor": "#2a3f5f"
            },
            "type": "carpet"
           }
          ],
          "choropleth": [
           {
            "colorbar": {
             "outlinewidth": 0,
             "ticks": ""
            },
            "type": "choropleth"
           }
          ],
          "contour": [
           {
            "colorbar": {
             "outlinewidth": 0,
             "ticks": ""
            },
            "colorscale": [
             [
              0,
              "#0d0887"
             ],
             [
              0.1111111111111111,
              "#46039f"
             ],
             [
              0.2222222222222222,
              "#7201a8"
             ],
             [
              0.3333333333333333,
              "#9c179e"
             ],
             [
              0.4444444444444444,
              "#bd3786"
             ],
             [
              0.5555555555555556,
              "#d8576b"
             ],
             [
              0.6666666666666666,
              "#ed7953"
             ],
             [
              0.7777777777777778,
              "#fb9f3a"
             ],
             [
              0.8888888888888888,
              "#fdca26"
             ],
             [
              1,
              "#f0f921"
             ]
            ],
            "type": "contour"
           }
          ],
          "contourcarpet": [
           {
            "colorbar": {
             "outlinewidth": 0,
             "ticks": ""
            },
            "type": "contourcarpet"
           }
          ],
          "heatmap": [
           {
            "colorbar": {
             "outlinewidth": 0,
             "ticks": ""
            },
            "colorscale": [
             [
              0,
              "#0d0887"
             ],
             [
              0.1111111111111111,
              "#46039f"
             ],
             [
              0.2222222222222222,
              "#7201a8"
             ],
             [
              0.3333333333333333,
              "#9c179e"
             ],
             [
              0.4444444444444444,
              "#bd3786"
             ],
             [
              0.5555555555555556,
              "#d8576b"
             ],
             [
              0.6666666666666666,
              "#ed7953"
             ],
             [
              0.7777777777777778,
              "#fb9f3a"
             ],
             [
              0.8888888888888888,
              "#fdca26"
             ],
             [
              1,
              "#f0f921"
             ]
            ],
            "type": "heatmap"
           }
          ],
          "heatmapgl": [
           {
            "colorbar": {
             "outlinewidth": 0,
             "ticks": ""
            },
            "colorscale": [
             [
              0,
              "#0d0887"
             ],
             [
              0.1111111111111111,
              "#46039f"
             ],
             [
              0.2222222222222222,
              "#7201a8"
             ],
             [
              0.3333333333333333,
              "#9c179e"
             ],
             [
              0.4444444444444444,
              "#bd3786"
             ],
             [
              0.5555555555555556,
              "#d8576b"
             ],
             [
              0.6666666666666666,
              "#ed7953"
             ],
             [
              0.7777777777777778,
              "#fb9f3a"
             ],
             [
              0.8888888888888888,
              "#fdca26"
             ],
             [
              1,
              "#f0f921"
             ]
            ],
            "type": "heatmapgl"
           }
          ],
          "histogram": [
           {
            "marker": {
             "colorbar": {
              "outlinewidth": 0,
              "ticks": ""
             }
            },
            "type": "histogram"
           }
          ],
          "histogram2d": [
           {
            "colorbar": {
             "outlinewidth": 0,
             "ticks": ""
            },
            "colorscale": [
             [
              0,
              "#0d0887"
             ],
             [
              0.1111111111111111,
              "#46039f"
             ],
             [
              0.2222222222222222,
              "#7201a8"
             ],
             [
              0.3333333333333333,
              "#9c179e"
             ],
             [
              0.4444444444444444,
              "#bd3786"
             ],
             [
              0.5555555555555556,
              "#d8576b"
             ],
             [
              0.6666666666666666,
              "#ed7953"
             ],
             [
              0.7777777777777778,
              "#fb9f3a"
             ],
             [
              0.8888888888888888,
              "#fdca26"
             ],
             [
              1,
              "#f0f921"
             ]
            ],
            "type": "histogram2d"
           }
          ],
          "histogram2dcontour": [
           {
            "colorbar": {
             "outlinewidth": 0,
             "ticks": ""
            },
            "colorscale": [
             [
              0,
              "#0d0887"
             ],
             [
              0.1111111111111111,
              "#46039f"
             ],
             [
              0.2222222222222222,
              "#7201a8"
             ],
             [
              0.3333333333333333,
              "#9c179e"
             ],
             [
              0.4444444444444444,
              "#bd3786"
             ],
             [
              0.5555555555555556,
              "#d8576b"
             ],
             [
              0.6666666666666666,
              "#ed7953"
             ],
             [
              0.7777777777777778,
              "#fb9f3a"
             ],
             [
              0.8888888888888888,
              "#fdca26"
             ],
             [
              1,
              "#f0f921"
             ]
            ],
            "type": "histogram2dcontour"
           }
          ],
          "mesh3d": [
           {
            "colorbar": {
             "outlinewidth": 0,
             "ticks": ""
            },
            "type": "mesh3d"
           }
          ],
          "parcoords": [
           {
            "line": {
             "colorbar": {
              "outlinewidth": 0,
              "ticks": ""
             }
            },
            "type": "parcoords"
           }
          ],
          "pie": [
           {
            "automargin": true,
            "type": "pie"
           }
          ],
          "scatter": [
           {
            "marker": {
             "colorbar": {
              "outlinewidth": 0,
              "ticks": ""
             }
            },
            "type": "scatter"
           }
          ],
          "scatter3d": [
           {
            "line": {
             "colorbar": {
              "outlinewidth": 0,
              "ticks": ""
             }
            },
            "marker": {
             "colorbar": {
              "outlinewidth": 0,
              "ticks": ""
             }
            },
            "type": "scatter3d"
           }
          ],
          "scattercarpet": [
           {
            "marker": {
             "colorbar": {
              "outlinewidth": 0,
              "ticks": ""
             }
            },
            "type": "scattercarpet"
           }
          ],
          "scattergeo": [
           {
            "marker": {
             "colorbar": {
              "outlinewidth": 0,
              "ticks": ""
             }
            },
            "type": "scattergeo"
           }
          ],
          "scattergl": [
           {
            "marker": {
             "colorbar": {
              "outlinewidth": 0,
              "ticks": ""
             }
            },
            "type": "scattergl"
           }
          ],
          "scattermapbox": [
           {
            "marker": {
             "colorbar": {
              "outlinewidth": 0,
              "ticks": ""
             }
            },
            "type": "scattermapbox"
           }
          ],
          "scatterpolar": [
           {
            "marker": {
             "colorbar": {
              "outlinewidth": 0,
              "ticks": ""
             }
            },
            "type": "scatterpolar"
           }
          ],
          "scatterpolargl": [
           {
            "marker": {
             "colorbar": {
              "outlinewidth": 0,
              "ticks": ""
             }
            },
            "type": "scatterpolargl"
           }
          ],
          "scatterternary": [
           {
            "marker": {
             "colorbar": {
              "outlinewidth": 0,
              "ticks": ""
             }
            },
            "type": "scatterternary"
           }
          ],
          "surface": [
           {
            "colorbar": {
             "outlinewidth": 0,
             "ticks": ""
            },
            "colorscale": [
             [
              0,
              "#0d0887"
             ],
             [
              0.1111111111111111,
              "#46039f"
             ],
             [
              0.2222222222222222,
              "#7201a8"
             ],
             [
              0.3333333333333333,
              "#9c179e"
             ],
             [
              0.4444444444444444,
              "#bd3786"
             ],
             [
              0.5555555555555556,
              "#d8576b"
             ],
             [
              0.6666666666666666,
              "#ed7953"
             ],
             [
              0.7777777777777778,
              "#fb9f3a"
             ],
             [
              0.8888888888888888,
              "#fdca26"
             ],
             [
              1,
              "#f0f921"
             ]
            ],
            "type": "surface"
           }
          ],
          "table": [
           {
            "cells": {
             "fill": {
              "color": "#EBF0F8"
             },
             "line": {
              "color": "white"
             }
            },
            "header": {
             "fill": {
              "color": "#C8D4E3"
             },
             "line": {
              "color": "white"
             }
            },
            "type": "table"
           }
          ]
         },
         "layout": {
          "annotationdefaults": {
           "arrowcolor": "#2a3f5f",
           "arrowhead": 0,
           "arrowwidth": 1
          },
          "coloraxis": {
           "colorbar": {
            "outlinewidth": 0,
            "ticks": ""
           }
          },
          "colorscale": {
           "diverging": [
            [
             0,
             "#8e0152"
            ],
            [
             0.1,
             "#c51b7d"
            ],
            [
             0.2,
             "#de77ae"
            ],
            [
             0.3,
             "#f1b6da"
            ],
            [
             0.4,
             "#fde0ef"
            ],
            [
             0.5,
             "#f7f7f7"
            ],
            [
             0.6,
             "#e6f5d0"
            ],
            [
             0.7,
             "#b8e186"
            ],
            [
             0.8,
             "#7fbc41"
            ],
            [
             0.9,
             "#4d9221"
            ],
            [
             1,
             "#276419"
            ]
           ],
           "sequential": [
            [
             0,
             "#0d0887"
            ],
            [
             0.1111111111111111,
             "#46039f"
            ],
            [
             0.2222222222222222,
             "#7201a8"
            ],
            [
             0.3333333333333333,
             "#9c179e"
            ],
            [
             0.4444444444444444,
             "#bd3786"
            ],
            [
             0.5555555555555556,
             "#d8576b"
            ],
            [
             0.6666666666666666,
             "#ed7953"
            ],
            [
             0.7777777777777778,
             "#fb9f3a"
            ],
            [
             0.8888888888888888,
             "#fdca26"
            ],
            [
             1,
             "#f0f921"
            ]
           ],
           "sequentialminus": [
            [
             0,
             "#0d0887"
            ],
            [
             0.1111111111111111,
             "#46039f"
            ],
            [
             0.2222222222222222,
             "#7201a8"
            ],
            [
             0.3333333333333333,
             "#9c179e"
            ],
            [
             0.4444444444444444,
             "#bd3786"
            ],
            [
             0.5555555555555556,
             "#d8576b"
            ],
            [
             0.6666666666666666,
             "#ed7953"
            ],
            [
             0.7777777777777778,
             "#fb9f3a"
            ],
            [
             0.8888888888888888,
             "#fdca26"
            ],
            [
             1,
             "#f0f921"
            ]
           ]
          },
          "colorway": [
           "#636efa",
           "#EF553B",
           "#00cc96",
           "#ab63fa",
           "#FFA15A",
           "#19d3f3",
           "#FF6692",
           "#B6E880",
           "#FF97FF",
           "#FECB52"
          ],
          "font": {
           "color": "#2a3f5f"
          },
          "geo": {
           "bgcolor": "white",
           "lakecolor": "white",
           "landcolor": "#E5ECF6",
           "showlakes": true,
           "showland": true,
           "subunitcolor": "white"
          },
          "hoverlabel": {
           "align": "left"
          },
          "hovermode": "closest",
          "mapbox": {
           "style": "light"
          },
          "paper_bgcolor": "white",
          "plot_bgcolor": "#E5ECF6",
          "polar": {
           "angularaxis": {
            "gridcolor": "white",
            "linecolor": "white",
            "ticks": ""
           },
           "bgcolor": "#E5ECF6",
           "radialaxis": {
            "gridcolor": "white",
            "linecolor": "white",
            "ticks": ""
           }
          },
          "scene": {
           "xaxis": {
            "backgroundcolor": "#E5ECF6",
            "gridcolor": "white",
            "gridwidth": 2,
            "linecolor": "white",
            "showbackground": true,
            "ticks": "",
            "zerolinecolor": "white"
           },
           "yaxis": {
            "backgroundcolor": "#E5ECF6",
            "gridcolor": "white",
            "gridwidth": 2,
            "linecolor": "white",
            "showbackground": true,
            "ticks": "",
            "zerolinecolor": "white"
           },
           "zaxis": {
            "backgroundcolor": "#E5ECF6",
            "gridcolor": "white",
            "gridwidth": 2,
            "linecolor": "white",
            "showbackground": true,
            "ticks": "",
            "zerolinecolor": "white"
           }
          },
          "shapedefaults": {
           "line": {
            "color": "#2a3f5f"
           }
          },
          "ternary": {
           "aaxis": {
            "gridcolor": "white",
            "linecolor": "white",
            "ticks": ""
           },
           "baxis": {
            "gridcolor": "white",
            "linecolor": "white",
            "ticks": ""
           },
           "bgcolor": "#E5ECF6",
           "caxis": {
            "gridcolor": "white",
            "linecolor": "white",
            "ticks": ""
           }
          },
          "title": {
           "x": 0.05
          },
          "xaxis": {
           "automargin": true,
           "gridcolor": "white",
           "linecolor": "white",
           "ticks": "",
           "title": {
            "standoff": 15
           },
           "zerolinecolor": "white",
           "zerolinewidth": 2
          },
          "yaxis": {
           "automargin": true,
           "gridcolor": "white",
           "linecolor": "white",
           "ticks": "",
           "title": {
            "standoff": 15
           },
           "zerolinecolor": "white",
           "zerolinewidth": 2
          }
         }
        },
        "title": {
         "text": "Embeddings"
        }
       }
      }
     },
     "metadata": {}
    }
   ],
   "source": [
    "import plotly.graph_objects as go\n",
    "\n",
    "custom_df = np.stack((df_plot['shape'], df_plot['noise'], df_plot['period']), axis=-1)\n",
    "\n",
    "fig = go.Figure(data=go.Scatter(x=df_plot['x'],\n",
    "                                y=df_plot['y'],\n",
    "                                mode='markers',\n",
    "                                marker_symbol=df_plot[\"symbols\"],\n",
    "                                marker_line_color=\"midnightblue\", marker_color=df_plot[\"color\"], \n",
    "                                marker_line_width=2, marker_size=df_plot[\"size\"], \n",
    "                                ))        \n",
    "fig.update_traces(\n",
    "    customdata = custom_df, \n",
    "    #hovertemplate=\"Shape: %{customdata[0]}<br>Noise: %{customdata[1]}<br>Period: %{customedata[2]}\")\n",
    "    hovertemplate = \"Shape : %{customdata[0]}<br>\" + \n",
    "    \"Noise: %{customdata[1]}<br>\"+\\\n",
    "    \"Period: %{customdata[2]}\")\n",
    "                                \n",
    "fig.update_layout(title='Embeddings')\n",
    "fig.show()"
   ]
  },
  {
   "cell_type": "code",
   "execution_count": null,
   "metadata": {},
   "outputs": [],
   "source": []
  }
 ],
 "metadata": {
  "language_info": {
   "codemirror_mode": {
    "name": "ipython",
    "version": 3
   },
   "file_extension": ".py",
   "mimetype": "text/x-python",
   "name": "python",
   "nbconvert_exporter": "python",
   "pygments_lexer": "ipython3",
   "version": "3.7.6-final"
  },
  "orig_nbformat": 2,
  "kernelspec": {
   "name": "python37664bitvenvvenv0a826a9888d543f18db3a6c847c4f0db",
   "display_name": "Python 3.7.6 64-bit ('.venv': venv)"
  }
 },
 "nbformat": 4,
 "nbformat_minor": 2
}